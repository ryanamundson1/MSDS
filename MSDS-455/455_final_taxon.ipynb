{
 "cells": [
  {
   "attachments": {},
   "cell_type": "markdown",
   "metadata": {},
   "source": [
    "# Sunburst chart of crocodile taxonmoy"
   ]
  },
  {
   "cell_type": "code",
   "execution_count": 1,
   "metadata": {},
   "outputs": [],
   "source": [
    "# This Python 3 environment comes with many helpful analytics libraries installed\n",
    "# It is defined by the kaggle/python Docker image: https://github.com/kaggle/docker-python\n",
    "# For example, here's several helpful packages to load\n",
    "\n",
    "import numpy as np # linear algebra\n",
    "import pandas as pd # data processing, CSV file I/O (e.g. pd.read_csv)\n",
    "import plotly.graph_objects as go\n",
    "import plotly.offline as po\n",
    "from plotly.offline import download_plotlyjs, init_notebook_mode, plot, iplot\n",
    "import matplotlib.pyplot as plt\n",
    "import plotly.express as px\n",
    "import random\n",
    "import plotly.figure_factory as ff"
   ]
  },
  {
   "cell_type": "code",
   "execution_count": 35,
   "metadata": {},
   "outputs": [
    {
     "data": {
      "text/html": [
       "<div>\n",
       "<style scoped>\n",
       "    .dataframe tbody tr th:only-of-type {\n",
       "        vertical-align: middle;\n",
       "    }\n",
       "\n",
       "    .dataframe tbody tr th {\n",
       "        vertical-align: top;\n",
       "    }\n",
       "\n",
       "    .dataframe thead th {\n",
       "        text-align: right;\n",
       "    }\n",
       "</style>\n",
       "<table border=\"1\" class=\"dataframe\">\n",
       "  <thead>\n",
       "    <tr style=\"text-align: right;\">\n",
       "      <th></th>\n",
       "      <th>Unnamed: 0</th>\n",
       "      <th>occurrence_no</th>\n",
       "      <th>record_type</th>\n",
       "      <th>reid_no</th>\n",
       "      <th>flags</th>\n",
       "      <th>collection_no</th>\n",
       "      <th>identified_name</th>\n",
       "      <th>identified_rank</th>\n",
       "      <th>identified_no</th>\n",
       "      <th>difference</th>\n",
       "      <th>...</th>\n",
       "      <th>accepted_count_x</th>\n",
       "      <th>near_petm</th>\n",
       "      <th>post_petm</th>\n",
       "      <th>accepted_count_y</th>\n",
       "      <th>accepted_count</th>\n",
       "      <th>phylum</th>\n",
       "      <th>class</th>\n",
       "      <th>order</th>\n",
       "      <th>family</th>\n",
       "      <th>genus</th>\n",
       "    </tr>\n",
       "  </thead>\n",
       "  <tbody>\n",
       "    <tr>\n",
       "      <th>0</th>\n",
       "      <td>0</td>\n",
       "      <td>30261</td>\n",
       "      <td>occ</td>\n",
       "      <td>22457.0</td>\n",
       "      <td>NaN</td>\n",
       "      <td>2225</td>\n",
       "      <td>Crocodylomorpha indet.</td>\n",
       "      <td>unranked clade</td>\n",
       "      <td>209375</td>\n",
       "      <td>NaN</td>\n",
       "      <td>...</td>\n",
       "      <td>85</td>\n",
       "      <td>False</td>\n",
       "      <td>False</td>\n",
       "      <td>85</td>\n",
       "      <td>85</td>\n",
       "      <td>Chordata</td>\n",
       "      <td>Reptilia</td>\n",
       "      <td>Loricata</td>\n",
       "      <td>NaN</td>\n",
       "      <td>NaN</td>\n",
       "    </tr>\n",
       "    <tr>\n",
       "      <th>1</th>\n",
       "      <td>1</td>\n",
       "      <td>220126</td>\n",
       "      <td>occ</td>\n",
       "      <td>NaN</td>\n",
       "      <td>NaN</td>\n",
       "      <td>22700</td>\n",
       "      <td>Bernissartia sp.</td>\n",
       "      <td>genus</td>\n",
       "      <td>38381</td>\n",
       "      <td>NaN</td>\n",
       "      <td>...</td>\n",
       "      <td>85</td>\n",
       "      <td>False</td>\n",
       "      <td>False</td>\n",
       "      <td>85</td>\n",
       "      <td>85</td>\n",
       "      <td>Chordata</td>\n",
       "      <td>Reptilia</td>\n",
       "      <td>Loricata</td>\n",
       "      <td>NO_FAMILY_SPECIFIED</td>\n",
       "      <td>Bernissartia</td>\n",
       "    </tr>\n",
       "    <tr>\n",
       "      <th>2</th>\n",
       "      <td>2</td>\n",
       "      <td>220127</td>\n",
       "      <td>occ</td>\n",
       "      <td>NaN</td>\n",
       "      <td>NaN</td>\n",
       "      <td>22700</td>\n",
       "      <td>Goniopholis sp.</td>\n",
       "      <td>genus</td>\n",
       "      <td>38360</td>\n",
       "      <td>NaN</td>\n",
       "      <td>...</td>\n",
       "      <td>85</td>\n",
       "      <td>False</td>\n",
       "      <td>False</td>\n",
       "      <td>85</td>\n",
       "      <td>85</td>\n",
       "      <td>Chordata</td>\n",
       "      <td>Reptilia</td>\n",
       "      <td>Loricata</td>\n",
       "      <td>Goniopholididae</td>\n",
       "      <td>Goniopholis</td>\n",
       "    </tr>\n",
       "    <tr>\n",
       "      <th>3</th>\n",
       "      <td>3</td>\n",
       "      <td>284153</td>\n",
       "      <td>occ</td>\n",
       "      <td>NaN</td>\n",
       "      <td>NaN</td>\n",
       "      <td>27017</td>\n",
       "      <td>Crocodylia indet.</td>\n",
       "      <td>unranked clade</td>\n",
       "      <td>38309</td>\n",
       "      <td>NaN</td>\n",
       "      <td>...</td>\n",
       "      <td>85</td>\n",
       "      <td>False</td>\n",
       "      <td>False</td>\n",
       "      <td>85</td>\n",
       "      <td>85</td>\n",
       "      <td>Chordata</td>\n",
       "      <td>Reptilia</td>\n",
       "      <td>Crocodylia</td>\n",
       "      <td>NaN</td>\n",
       "      <td>NaN</td>\n",
       "    </tr>\n",
       "    <tr>\n",
       "      <th>4</th>\n",
       "      <td>4</td>\n",
       "      <td>382516</td>\n",
       "      <td>occ</td>\n",
       "      <td>21828.0</td>\n",
       "      <td>NaN</td>\n",
       "      <td>36367</td>\n",
       "      <td>Mesoeucrocodylia indet.</td>\n",
       "      <td>unranked clade</td>\n",
       "      <td>53399</td>\n",
       "      <td>NaN</td>\n",
       "      <td>...</td>\n",
       "      <td>85</td>\n",
       "      <td>False</td>\n",
       "      <td>False</td>\n",
       "      <td>85</td>\n",
       "      <td>85</td>\n",
       "      <td>Chordata</td>\n",
       "      <td>Reptilia</td>\n",
       "      <td>Loricata</td>\n",
       "      <td>NaN</td>\n",
       "      <td>NaN</td>\n",
       "    </tr>\n",
       "    <tr>\n",
       "      <th>...</th>\n",
       "      <td>...</td>\n",
       "      <td>...</td>\n",
       "      <td>...</td>\n",
       "      <td>...</td>\n",
       "      <td>...</td>\n",
       "      <td>...</td>\n",
       "      <td>...</td>\n",
       "      <td>...</td>\n",
       "      <td>...</td>\n",
       "      <td>...</td>\n",
       "      <td>...</td>\n",
       "      <td>...</td>\n",
       "      <td>...</td>\n",
       "      <td>...</td>\n",
       "      <td>...</td>\n",
       "      <td>...</td>\n",
       "      <td>...</td>\n",
       "      <td>...</td>\n",
       "      <td>...</td>\n",
       "      <td>...</td>\n",
       "      <td>...</td>\n",
       "    </tr>\n",
       "    <tr>\n",
       "      <th>5145</th>\n",
       "      <td>5145</td>\n",
       "      <td>1439380</td>\n",
       "      <td>occ</td>\n",
       "      <td>NaN</td>\n",
       "      <td>NaN</td>\n",
       "      <td>90459</td>\n",
       "      <td>Teleosaurus n. sp. chapmanni</td>\n",
       "      <td>species</td>\n",
       "      <td>245918</td>\n",
       "      <td>subjective synonym of</td>\n",
       "      <td>...</td>\n",
       "      <td>30</td>\n",
       "      <td>False</td>\n",
       "      <td>False</td>\n",
       "      <td>30</td>\n",
       "      <td>30</td>\n",
       "      <td>Chordata</td>\n",
       "      <td>Reptilia</td>\n",
       "      <td>Loricata</td>\n",
       "      <td>NO_FAMILY_SPECIFIED</td>\n",
       "      <td>Plagiophthalmosuchus</td>\n",
       "    </tr>\n",
       "    <tr>\n",
       "      <th>5146</th>\n",
       "      <td>5146</td>\n",
       "      <td>1449409</td>\n",
       "      <td>occ</td>\n",
       "      <td>NaN</td>\n",
       "      <td>NaN</td>\n",
       "      <td>202018</td>\n",
       "      <td>Crocodilia indet.</td>\n",
       "      <td>unranked clade</td>\n",
       "      <td>358781</td>\n",
       "      <td>obsolete variant of</td>\n",
       "      <td>...</td>\n",
       "      <td>30</td>\n",
       "      <td>False</td>\n",
       "      <td>False</td>\n",
       "      <td>30</td>\n",
       "      <td>30</td>\n",
       "      <td>Chordata</td>\n",
       "      <td>Reptilia</td>\n",
       "      <td>Crocodylia</td>\n",
       "      <td>NaN</td>\n",
       "      <td>NaN</td>\n",
       "    </tr>\n",
       "    <tr>\n",
       "      <th>5147</th>\n",
       "      <td>5147</td>\n",
       "      <td>1449410</td>\n",
       "      <td>occ</td>\n",
       "      <td>NaN</td>\n",
       "      <td>NaN</td>\n",
       "      <td>202018</td>\n",
       "      <td>Crocodilia ? indet.</td>\n",
       "      <td>unranked clade</td>\n",
       "      <td>358781</td>\n",
       "      <td>obsolete variant of</td>\n",
       "      <td>...</td>\n",
       "      <td>30</td>\n",
       "      <td>False</td>\n",
       "      <td>False</td>\n",
       "      <td>30</td>\n",
       "      <td>30</td>\n",
       "      <td>Chordata</td>\n",
       "      <td>Reptilia</td>\n",
       "      <td>Crocodylia</td>\n",
       "      <td>NaN</td>\n",
       "      <td>NaN</td>\n",
       "    </tr>\n",
       "    <tr>\n",
       "      <th>5148</th>\n",
       "      <td>5148</td>\n",
       "      <td>1504730</td>\n",
       "      <td>occ</td>\n",
       "      <td>NaN</td>\n",
       "      <td>NaN</td>\n",
       "      <td>132115</td>\n",
       "      <td>n. gen. Opisuchus n. sp. meieri</td>\n",
       "      <td>species</td>\n",
       "      <td>419156</td>\n",
       "      <td>NaN</td>\n",
       "      <td>...</td>\n",
       "      <td>30</td>\n",
       "      <td>False</td>\n",
       "      <td>False</td>\n",
       "      <td>30</td>\n",
       "      <td>30</td>\n",
       "      <td>Chordata</td>\n",
       "      <td>Reptilia</td>\n",
       "      <td>Loricata</td>\n",
       "      <td>NO_FAMILY_SPECIFIED</td>\n",
       "      <td>Opisuchus</td>\n",
       "    </tr>\n",
       "    <tr>\n",
       "      <th>5149</th>\n",
       "      <td>5149</td>\n",
       "      <td>1586033</td>\n",
       "      <td>occ</td>\n",
       "      <td>NaN</td>\n",
       "      <td>NaN</td>\n",
       "      <td>224073</td>\n",
       "      <td>cf. Steneosaurus sp.</td>\n",
       "      <td>genus</td>\n",
       "      <td>38343</td>\n",
       "      <td>NaN</td>\n",
       "      <td>...</td>\n",
       "      <td>30</td>\n",
       "      <td>False</td>\n",
       "      <td>False</td>\n",
       "      <td>30</td>\n",
       "      <td>30</td>\n",
       "      <td>Chordata</td>\n",
       "      <td>Reptilia</td>\n",
       "      <td>Loricata</td>\n",
       "      <td>Teleosauridae</td>\n",
       "      <td>Steneosaurus</td>\n",
       "    </tr>\n",
       "  </tbody>\n",
       "</table>\n",
       "<p>5150 rows × 99 columns</p>\n",
       "</div>"
      ],
      "text/plain": [
       "      Unnamed: 0  occurrence_no record_type  reid_no flags  collection_no   \n",
       "0              0          30261         occ  22457.0   NaN           2225  \\\n",
       "1              1         220126         occ      NaN   NaN          22700   \n",
       "2              2         220127         occ      NaN   NaN          22700   \n",
       "3              3         284153         occ      NaN   NaN          27017   \n",
       "4              4         382516         occ  21828.0   NaN          36367   \n",
       "...          ...            ...         ...      ...   ...            ...   \n",
       "5145        5145        1439380         occ      NaN   NaN          90459   \n",
       "5146        5146        1449409         occ      NaN   NaN         202018   \n",
       "5147        5147        1449410         occ      NaN   NaN         202018   \n",
       "5148        5148        1504730         occ      NaN   NaN         132115   \n",
       "5149        5149        1586033         occ      NaN   NaN         224073   \n",
       "\n",
       "                      identified_name identified_rank  identified_no   \n",
       "0              Crocodylomorpha indet.  unranked clade         209375  \\\n",
       "1                    Bernissartia sp.           genus          38381   \n",
       "2                     Goniopholis sp.           genus          38360   \n",
       "3                   Crocodylia indet.  unranked clade          38309   \n",
       "4             Mesoeucrocodylia indet.  unranked clade          53399   \n",
       "...                               ...             ...            ...   \n",
       "5145     Teleosaurus n. sp. chapmanni         species         245918   \n",
       "5146                Crocodilia indet.  unranked clade         358781   \n",
       "5147              Crocodilia ? indet.  unranked clade         358781   \n",
       "5148  n. gen. Opisuchus n. sp. meieri         species         419156   \n",
       "5149             cf. Steneosaurus sp.           genus          38343   \n",
       "\n",
       "                 difference  ... accepted_count_x  near_petm post_petm   \n",
       "0                       NaN  ...               85      False     False  \\\n",
       "1                       NaN  ...               85      False     False   \n",
       "2                       NaN  ...               85      False     False   \n",
       "3                       NaN  ...               85      False     False   \n",
       "4                       NaN  ...               85      False     False   \n",
       "...                     ...  ...              ...        ...       ...   \n",
       "5145  subjective synonym of  ...               30      False     False   \n",
       "5146    obsolete variant of  ...               30      False     False   \n",
       "5147    obsolete variant of  ...               30      False     False   \n",
       "5148                    NaN  ...               30      False     False   \n",
       "5149                    NaN  ...               30      False     False   \n",
       "\n",
       "      accepted_count_y accepted_count    phylum     class       order   \n",
       "0                   85             85  Chordata  Reptilia    Loricata  \\\n",
       "1                   85             85  Chordata  Reptilia    Loricata   \n",
       "2                   85             85  Chordata  Reptilia    Loricata   \n",
       "3                   85             85  Chordata  Reptilia  Crocodylia   \n",
       "4                   85             85  Chordata  Reptilia    Loricata   \n",
       "...                ...            ...       ...       ...         ...   \n",
       "5145                30             30  Chordata  Reptilia    Loricata   \n",
       "5146                30             30  Chordata  Reptilia  Crocodylia   \n",
       "5147                30             30  Chordata  Reptilia  Crocodylia   \n",
       "5148                30             30  Chordata  Reptilia    Loricata   \n",
       "5149                30             30  Chordata  Reptilia    Loricata   \n",
       "\n",
       "                   family                 genus  \n",
       "0                     NaN                   NaN  \n",
       "1     NO_FAMILY_SPECIFIED          Bernissartia  \n",
       "2         Goniopholididae           Goniopholis  \n",
       "3                     NaN                   NaN  \n",
       "4                     NaN                   NaN  \n",
       "...                   ...                   ...  \n",
       "5145  NO_FAMILY_SPECIFIED  Plagiophthalmosuchus  \n",
       "5146                  NaN                   NaN  \n",
       "5147                  NaN                   NaN  \n",
       "5148  NO_FAMILY_SPECIFIED             Opisuchus  \n",
       "5149        Teleosauridae          Steneosaurus  \n",
       "\n",
       "[5150 rows x 99 columns]"
      ]
     },
     "execution_count": 35,
     "metadata": {},
     "output_type": "execute_result"
    }
   ],
   "source": [
    "# load the Taxon data\n",
    "df = pd.read_csv(\"2023-08-13_Croc_including_taxon.csv\")\n",
    "df"
   ]
  },
  {
   "cell_type": "code",
   "execution_count": 57,
   "metadata": {},
   "outputs": [
    {
     "data": {
      "text/plain": [
       "Index(['orig_no', 'taxon_no', 'record_type', 'flags', 'taxon_rank',\n",
       "       'taxon_name', 'common_name', 'difference', 'accepted_no',\n",
       "       'accepted_rank', 'accepted_name', 'parent_no', 'reference_no',\n",
       "       'is_extant', 'n_occs', 'firstapp_max_ma', 'firstapp_min_ma',\n",
       "       'lastapp_max_ma', 'lastapp_min_ma', 'early_interval', 'late_interval',\n",
       "       'taxon_size', 'extant_size', 'phylum', 'phylum_no', 'class', 'class_no',\n",
       "       'order', 'order_no', 'family', 'family_no', 'genus', 'genus_no',\n",
       "       'subgenus_no', 'type_taxon', 'type_taxon_no', 'n_orders', 'n_families',\n",
       "       'n_genera', 'n_species'],\n",
       "      dtype='object')"
      ]
     },
     "execution_count": 57,
     "metadata": {},
     "output_type": "execute_result"
    }
   ],
   "source": [
    "df.columns"
   ]
  },
  {
   "cell_type": "code",
   "execution_count": 3,
   "metadata": {},
   "outputs": [
    {
     "data": {
      "text/plain": [
       "Unnamed: 0       5150\n",
       "occurrence_no    5150\n",
       "record_type         1\n",
       "reid_no           604\n",
       "flags               3\n",
       "                 ... \n",
       "phylum              1\n",
       "class               1\n",
       "order               2\n",
       "family             36\n",
       "genus             382\n",
       "Length: 99, dtype: int64"
      ]
     },
     "execution_count": 3,
     "metadata": {},
     "output_type": "execute_result"
    }
   ],
   "source": [
    "df.nunique()"
   ]
  },
  {
   "cell_type": "code",
   "execution_count": 36,
   "metadata": {},
   "outputs": [
    {
     "data": {
      "text/html": [
       "<div>\n",
       "<style scoped>\n",
       "    .dataframe tbody tr th:only-of-type {\n",
       "        vertical-align: middle;\n",
       "    }\n",
       "\n",
       "    .dataframe tbody tr th {\n",
       "        vertical-align: top;\n",
       "    }\n",
       "\n",
       "    .dataframe thead th {\n",
       "        text-align: right;\n",
       "    }\n",
       "</style>\n",
       "<table border=\"1\" class=\"dataframe\">\n",
       "  <thead>\n",
       "    <tr style=\"text-align: right;\">\n",
       "      <th></th>\n",
       "      <th>Unnamed: 0</th>\n",
       "      <th>occurrence_no</th>\n",
       "      <th>record_type</th>\n",
       "      <th>reid_no</th>\n",
       "      <th>flags</th>\n",
       "      <th>collection_no</th>\n",
       "      <th>identified_name</th>\n",
       "      <th>identified_rank</th>\n",
       "      <th>identified_no</th>\n",
       "      <th>difference</th>\n",
       "      <th>...</th>\n",
       "      <th>accepted_count_x</th>\n",
       "      <th>near_petm</th>\n",
       "      <th>post_petm</th>\n",
       "      <th>accepted_count_y</th>\n",
       "      <th>accepted_count</th>\n",
       "      <th>phylum</th>\n",
       "      <th>class</th>\n",
       "      <th>order</th>\n",
       "      <th>family</th>\n",
       "      <th>genus</th>\n",
       "    </tr>\n",
       "  </thead>\n",
       "  <tbody>\n",
       "    <tr>\n",
       "      <th>2</th>\n",
       "      <td>2</td>\n",
       "      <td>220127</td>\n",
       "      <td>occ</td>\n",
       "      <td>NaN</td>\n",
       "      <td>NaN</td>\n",
       "      <td>22700</td>\n",
       "      <td>Goniopholis sp.</td>\n",
       "      <td>genus</td>\n",
       "      <td>38360</td>\n",
       "      <td>NaN</td>\n",
       "      <td>...</td>\n",
       "      <td>85</td>\n",
       "      <td>False</td>\n",
       "      <td>False</td>\n",
       "      <td>85</td>\n",
       "      <td>85</td>\n",
       "      <td>Chordata</td>\n",
       "      <td>Reptilia</td>\n",
       "      <td>Loricata</td>\n",
       "      <td>Goniopholididae</td>\n",
       "      <td>Goniopholis</td>\n",
       "    </tr>\n",
       "    <tr>\n",
       "      <th>9</th>\n",
       "      <td>9</td>\n",
       "      <td>382584</td>\n",
       "      <td>occ</td>\n",
       "      <td>NaN</td>\n",
       "      <td>NaN</td>\n",
       "      <td>36378</td>\n",
       "      <td>Goniopholis cf. crassidens</td>\n",
       "      <td>species</td>\n",
       "      <td>95840</td>\n",
       "      <td>NaN</td>\n",
       "      <td>...</td>\n",
       "      <td>85</td>\n",
       "      <td>False</td>\n",
       "      <td>False</td>\n",
       "      <td>85</td>\n",
       "      <td>85</td>\n",
       "      <td>Chordata</td>\n",
       "      <td>Reptilia</td>\n",
       "      <td>Loricata</td>\n",
       "      <td>Goniopholididae</td>\n",
       "      <td>Goniopholis</td>\n",
       "    </tr>\n",
       "    <tr>\n",
       "      <th>13</th>\n",
       "      <td>13</td>\n",
       "      <td>513250</td>\n",
       "      <td>occ</td>\n",
       "      <td>26358.0</td>\n",
       "      <td>NaN</td>\n",
       "      <td>51911</td>\n",
       "      <td>Crocodilus hartti</td>\n",
       "      <td>species</td>\n",
       "      <td>68071</td>\n",
       "      <td>recombined as</td>\n",
       "      <td>...</td>\n",
       "      <td>85</td>\n",
       "      <td>False</td>\n",
       "      <td>False</td>\n",
       "      <td>85</td>\n",
       "      <td>85</td>\n",
       "      <td>Chordata</td>\n",
       "      <td>Reptilia</td>\n",
       "      <td>Loricata</td>\n",
       "      <td>Pholidosauridae</td>\n",
       "      <td>Sarcosuchus</td>\n",
       "    </tr>\n",
       "    <tr>\n",
       "      <th>17</th>\n",
       "      <td>17</td>\n",
       "      <td>559027</td>\n",
       "      <td>occ</td>\n",
       "      <td>NaN</td>\n",
       "      <td>NaN</td>\n",
       "      <td>58094</td>\n",
       "      <td>Goniopholis crassidens</td>\n",
       "      <td>species</td>\n",
       "      <td>95840</td>\n",
       "      <td>NaN</td>\n",
       "      <td>...</td>\n",
       "      <td>85</td>\n",
       "      <td>False</td>\n",
       "      <td>False</td>\n",
       "      <td>85</td>\n",
       "      <td>85</td>\n",
       "      <td>Chordata</td>\n",
       "      <td>Reptilia</td>\n",
       "      <td>Loricata</td>\n",
       "      <td>Goniopholididae</td>\n",
       "      <td>Goniopholis</td>\n",
       "    </tr>\n",
       "    <tr>\n",
       "      <th>20</th>\n",
       "      <td>20</td>\n",
       "      <td>634594</td>\n",
       "      <td>occ</td>\n",
       "      <td>NaN</td>\n",
       "      <td>NaN</td>\n",
       "      <td>68272</td>\n",
       "      <td>Enaliosuchus macrospondylus</td>\n",
       "      <td>species</td>\n",
       "      <td>92045</td>\n",
       "      <td>recombined as</td>\n",
       "      <td>...</td>\n",
       "      <td>85</td>\n",
       "      <td>False</td>\n",
       "      <td>False</td>\n",
       "      <td>85</td>\n",
       "      <td>85</td>\n",
       "      <td>Chordata</td>\n",
       "      <td>Reptilia</td>\n",
       "      <td>Loricata</td>\n",
       "      <td>Metriorhynchidae</td>\n",
       "      <td>Cricosaurus</td>\n",
       "    </tr>\n",
       "  </tbody>\n",
       "</table>\n",
       "<p>5 rows × 99 columns</p>\n",
       "</div>"
      ],
      "text/plain": [
       "    Unnamed: 0  occurrence_no record_type  reid_no flags  collection_no   \n",
       "2            2         220127         occ      NaN   NaN          22700  \\\n",
       "9            9         382584         occ      NaN   NaN          36378   \n",
       "13          13         513250         occ  26358.0   NaN          51911   \n",
       "17          17         559027         occ      NaN   NaN          58094   \n",
       "20          20         634594         occ      NaN   NaN          68272   \n",
       "\n",
       "                identified_name identified_rank  identified_no     difference   \n",
       "2               Goniopholis sp.           genus          38360            NaN  \\\n",
       "9    Goniopholis cf. crassidens         species          95840            NaN   \n",
       "13            Crocodilus hartti         species          68071  recombined as   \n",
       "17       Goniopholis crassidens         species          95840            NaN   \n",
       "20  Enaliosuchus macrospondylus         species          92045  recombined as   \n",
       "\n",
       "    ... accepted_count_x  near_petm post_petm  accepted_count_y   \n",
       "2   ...               85      False     False                85  \\\n",
       "9   ...               85      False     False                85   \n",
       "13  ...               85      False     False                85   \n",
       "17  ...               85      False     False                85   \n",
       "20  ...               85      False     False                85   \n",
       "\n",
       "   accepted_count    phylum     class     order            family        genus  \n",
       "2              85  Chordata  Reptilia  Loricata   Goniopholididae  Goniopholis  \n",
       "9              85  Chordata  Reptilia  Loricata   Goniopholididae  Goniopholis  \n",
       "13             85  Chordata  Reptilia  Loricata   Pholidosauridae  Sarcosuchus  \n",
       "17             85  Chordata  Reptilia  Loricata   Goniopholididae  Goniopholis  \n",
       "20             85  Chordata  Reptilia  Loricata  Metriorhynchidae  Cricosaurus  \n",
       "\n",
       "[5 rows x 99 columns]"
      ]
     },
     "execution_count": 36,
     "metadata": {},
     "output_type": "execute_result"
    }
   ],
   "source": [
    "# Remove any NaN values\n",
    "df = df.dropna(subset=[\"family\",\"class\",\"order\",\"genus\"])\n",
    "\n",
    "df = df[df.family != \"NO_FAMILY_SPECIFIED\"]\n",
    "df = df[df.genus != \"NO_GENUS_SPECIFIED\"]\n",
    "df.head()"
   ]
  },
  {
   "cell_type": "code",
   "execution_count": 37,
   "metadata": {},
   "outputs": [],
   "source": [
    "# We are looking at around 70 MYA to today\n",
    "df = df[df.min_ma < 70]\n"
   ]
  },
  {
   "cell_type": "code",
   "execution_count": 38,
   "metadata": {},
   "outputs": [],
   "source": [
    "# Remove all the very small families\n",
    "df = df.groupby('genus').filter(lambda x : len(x)>3)\n"
   ]
  },
  {
   "cell_type": "code",
   "execution_count": 39,
   "metadata": {},
   "outputs": [],
   "source": [
    "# Create a midpoint of firat apperence and last apperance\n",
    "df[\"mid\"] = ((df[\"max_ma\"] + df[\"min_ma\"]) / 2)\n",
    "\n",
    "# Revomve missing\n",
    "df = df.dropna(subset=[\"mid\"])\n",
    "\n",
    "# Convert to float\n",
    "df[\"mid\"] = df[\"mid\"].astype(float)"
   ]
  },
  {
   "cell_type": "code",
   "execution_count": 40,
   "metadata": {},
   "outputs": [
    {
     "data": {
      "text/html": [
       "<div>\n",
       "<style scoped>\n",
       "    .dataframe tbody tr th:only-of-type {\n",
       "        vertical-align: middle;\n",
       "    }\n",
       "\n",
       "    .dataframe tbody tr th {\n",
       "        vertical-align: top;\n",
       "    }\n",
       "\n",
       "    .dataframe thead th {\n",
       "        text-align: right;\n",
       "    }\n",
       "</style>\n",
       "<table border=\"1\" class=\"dataframe\">\n",
       "  <thead>\n",
       "    <tr style=\"text-align: right;\">\n",
       "      <th></th>\n",
       "      <th>family</th>\n",
       "      <th>class</th>\n",
       "      <th>order</th>\n",
       "      <th>genus</th>\n",
       "      <th>mid</th>\n",
       "    </tr>\n",
       "  </thead>\n",
       "  <tbody>\n",
       "    <tr>\n",
       "      <th>3648</th>\n",
       "      <td>Alligatoridae</td>\n",
       "      <td>Reptilia</td>\n",
       "      <td>Crocodylia</td>\n",
       "      <td>Purussaurus</td>\n",
       "      <td>16.500</td>\n",
       "    </tr>\n",
       "    <tr>\n",
       "      <th>3652</th>\n",
       "      <td>Gavialidae</td>\n",
       "      <td>Reptilia</td>\n",
       "      <td>Crocodylia</td>\n",
       "      <td>Siquisiquesuchus</td>\n",
       "      <td>18.205</td>\n",
       "    </tr>\n",
       "    <tr>\n",
       "      <th>3653</th>\n",
       "      <td>Alligatoridae</td>\n",
       "      <td>Reptilia</td>\n",
       "      <td>Crocodylia</td>\n",
       "      <td>Purussaurus</td>\n",
       "      <td>18.205</td>\n",
       "    </tr>\n",
       "    <tr>\n",
       "      <th>3654</th>\n",
       "      <td>Alligatoridae</td>\n",
       "      <td>Reptilia</td>\n",
       "      <td>Crocodylia</td>\n",
       "      <td>Purussaurus</td>\n",
       "      <td>18.205</td>\n",
       "    </tr>\n",
       "    <tr>\n",
       "      <th>3656</th>\n",
       "      <td>Alligatoridae</td>\n",
       "      <td>Reptilia</td>\n",
       "      <td>Crocodylia</td>\n",
       "      <td>Caiman</td>\n",
       "      <td>18.205</td>\n",
       "    </tr>\n",
       "    <tr>\n",
       "      <th>...</th>\n",
       "      <td>...</td>\n",
       "      <td>...</td>\n",
       "      <td>...</td>\n",
       "      <td>...</td>\n",
       "      <td>...</td>\n",
       "    </tr>\n",
       "    <tr>\n",
       "      <th>4750</th>\n",
       "      <td>Crocodylidae</td>\n",
       "      <td>Reptilia</td>\n",
       "      <td>Crocodylia</td>\n",
       "      <td>Crocodylus</td>\n",
       "      <td>31.150</td>\n",
       "    </tr>\n",
       "    <tr>\n",
       "      <th>4760</th>\n",
       "      <td>Gavialidae</td>\n",
       "      <td>Reptilia</td>\n",
       "      <td>Crocodylia</td>\n",
       "      <td>Maomingosuchus</td>\n",
       "      <td>35.550</td>\n",
       "    </tr>\n",
       "    <tr>\n",
       "      <th>4812</th>\n",
       "      <td>Sebecidae</td>\n",
       "      <td>Reptilia</td>\n",
       "      <td>Loricata</td>\n",
       "      <td>Sebecus</td>\n",
       "      <td>35.550</td>\n",
       "    </tr>\n",
       "    <tr>\n",
       "      <th>4825</th>\n",
       "      <td>Sebecidae</td>\n",
       "      <td>Reptilia</td>\n",
       "      <td>Loricata</td>\n",
       "      <td>Sebecus</td>\n",
       "      <td>31.150</td>\n",
       "    </tr>\n",
       "    <tr>\n",
       "      <th>4829</th>\n",
       "      <td>Gavialidae</td>\n",
       "      <td>Reptilia</td>\n",
       "      <td>Crocodylia</td>\n",
       "      <td>Maomingosuchus</td>\n",
       "      <td>37.600</td>\n",
       "    </tr>\n",
       "  </tbody>\n",
       "</table>\n",
       "<p>100 rows × 5 columns</p>\n",
       "</div>"
      ],
      "text/plain": [
       "             family     class       order             genus     mid\n",
       "3648  Alligatoridae  Reptilia  Crocodylia       Purussaurus  16.500\n",
       "3652     Gavialidae  Reptilia  Crocodylia  Siquisiquesuchus  18.205\n",
       "3653  Alligatoridae  Reptilia  Crocodylia       Purussaurus  18.205\n",
       "3654  Alligatoridae  Reptilia  Crocodylia       Purussaurus  18.205\n",
       "3656  Alligatoridae  Reptilia  Crocodylia            Caiman  18.205\n",
       "...             ...       ...         ...               ...     ...\n",
       "4750   Crocodylidae  Reptilia  Crocodylia        Crocodylus  31.150\n",
       "4760     Gavialidae  Reptilia  Crocodylia    Maomingosuchus  35.550\n",
       "4812      Sebecidae  Reptilia    Loricata           Sebecus  35.550\n",
       "4825      Sebecidae  Reptilia    Loricata           Sebecus  31.150\n",
       "4829     Gavialidae  Reptilia  Crocodylia    Maomingosuchus  37.600\n",
       "\n",
       "[100 rows x 5 columns]"
      ]
     },
     "execution_count": 40,
     "metadata": {},
     "output_type": "execute_result"
    }
   ],
   "source": [
    "df[[\"family\",\"class\",\"order\",\"genus\",\"mid\",]].tail(100)"
   ]
  },
  {
   "cell_type": "code",
   "execution_count": 79,
   "metadata": {},
   "outputs": [
    {
     "data": {
      "application/vnd.plotly.v1+json": {
       "config": {
        "plotlyServerURL": "https://plot.ly"
       },
       "data": [
        {
         "branchvalues": "total",
         "customdata": [
          [
           58.75
          ],
          [
           9.045651044842304
          ],
          [
           69.73748135462131
          ],
          [
           28.49804099485333
          ],
          [
           69.51939693969393
          ],
          [
           54.93854854758021
          ],
          [
           74.75
          ],
          [
           63.97377266046056
          ],
          [
           48.117225381622276
          ],
          [
           68.40464405006239
          ],
          [
           17.858604651162793
          ],
          [
           10.90304620042296
          ],
          [
           74.75
          ],
          [
           55.68036837376459
          ],
          [
           10.617569504569504
          ],
          [
           58.795414687614176
          ],
          [
           34.530770957630445
          ],
          [
           50.897902236295266
          ],
          [
           28.37373722785601
          ],
          [
           54.038163925586396
          ],
          [
           8.876433772395494
          ],
          [
           10.150008065442904
          ],
          [
           8.588111597600944
          ],
          [
           13.622494397844854
          ],
          [
           13.238856992646255
          ],
          [
           8.977622210740916
          ],
          [
           63.811009695169886
          ],
          [
           10.165135570131701
          ],
          [
           17.64292452830189
          ],
          [
           69.05
          ],
          [
           38.13835751978892
          ],
          [
           6.891260186382072
          ],
          [
           9.211271223432465
          ],
          [
           69.05
          ],
          [
           12.161650290970158
          ],
          [
           7.366872428495294
          ],
          [
           60.49266909396443
          ],
          [
           11.551892816828461
          ],
          [
           16.110017042116233
          ],
          [
           60.98998357963875
          ],
          [
           11.371451850852338
          ],
          [
           13.565990707447032
          ],
          [
           68.3
          ],
          [
           11.84885238757478
          ],
          [
           43.36983685078012
          ],
          [
           68.86403158467962
          ],
          [
           18.205000000000002
          ],
          [
           74.75
          ],
          [
           69.68565167409109
          ],
          [
           67.86711878735743
          ],
          [
           22.501174638690514
          ],
          [
           55.05869448655432
          ],
          [
           69.51939693969393
          ],
          [
           69.68565167409109
          ],
          [
           74.75
          ],
          [
           30.33173389896791
          ],
          [
           59.05364283132645
          ],
          [
           51.46536354647615
          ],
          [
           69.73748135462131
          ],
          [
           69.05
          ],
          [
           68.55182348650621
          ],
          [
           69.05
          ],
          [
           48.117225381622276
          ],
          [
           43.36983685078012
          ],
          [
           74.75
          ],
          [
           50.89893842758927
          ],
          [
           64.97612219280295
          ]
         ],
         "domain": {
          "x": [
           0,
           1
          ],
          "y": [
           0,
           1
          ]
         },
         "hovertemplate": "%{label}<br><extra></extra>",
         "ids": [
          "Loricata/Dyrosauridae/Acherontisuchus",
          "Crocodylia/Alligatoridae/Acresuchus",
          "Loricata/Hylaeochampsidae/Acynodon",
          "Crocodylia/Alligatoridae/Alligator",
          "Loricata/Allodaposuchidae/Allodaposuchus",
          "Crocodylia/Alligatoridae/Allognathosuchus",
          "Loricata/Baurusuchidae/Baurusuchus",
          "Crocodylia/Alligatoridae/Bottosaurus",
          "Crocodylia/Planocraniidae/Boverisuchus",
          "Crocodylia/Alligatoridae/Brachychampsa",
          "Crocodylia/Crocodylidae/Brochuchus",
          "Crocodylia/Alligatoridae/Caiman",
          "Loricata/Sphagesauridae/Caipirasuchus",
          "Crocodylia/Alligatoridae/Ceratosuchus",
          "Crocodylia/Crocodylidae/Charactosuchus",
          "Loricata/Dyrosauridae/Congosaurus",
          "Crocodylia/Crocodylidae/Crocodylus",
          "Loricata/Dyrosauridae/Dyrosaurus",
          "Crocodylia/Gavialidae/Eogavialis",
          "Crocodylia/Gavialidae/Eosuchus",
          "Crocodylia/Crocodylidae/Euthecodon",
          "Crocodylia/Gavialidae/Gavialis",
          "Crocodylia/Alligatoridae/Globidentosuchus",
          "Crocodylia/Alligatoridae/Gnatusuchus",
          "Crocodylia/Gavialidae/Gryposuchus",
          "Crocodylia/Gavialidae/Hesperogavialis",
          "Loricata/Dyrosauridae/Hyposaurus",
          "Crocodylia/Gavialidae/Ikanogavialis",
          "Crocodylia/Crocodylidae/Kinyang",
          "Loricata/Mahajangasuchidae/Mahajangasuchus",
          "Crocodylia/Gavialidae/Maomingosuchus",
          "Crocodylia/Crocodylidae/Mecistops",
          "Crocodylia/Alligatoridae/Melanosuchus",
          "Loricata/Peirosauridae/Miadanasuchus",
          "Crocodylia/Alligatoridae/Mourasuchus",
          "Crocodylia/Crocodylidae/Osteolaemus",
          "Loricata/Dyrosauridae/Phosphatosaurus",
          "Crocodylia/Gavialidae/Piscogavialis",
          "Crocodylia/Alligatoridae/Purussaurus",
          "Loricata/Dyrosauridae/Rhabdognathus",
          "Crocodylia/Gavialidae/Rhamphostomopsis",
          "Crocodylia/Crocodylidae/Rimasuchus",
          "Loricata/Paralligatoridae/Sabresuchus",
          "Crocodylia/Gavialidae/Sacacosuchus",
          "Loricata/Sebecidae/Sebecus",
          "Loricata/Paralligatoridae/Shamosuchus",
          "Crocodylia/Gavialidae/Siquisiquesuchus",
          "Loricata/Sphagesauridae/Sphagesaurus",
          "Loricata/Atoposauridae/Theriosuchus",
          "Crocodylia/Gavialidae/Thoracosaurus",
          "Crocodylia/Gavialidae/Tomistoma",
          "Crocodylia/Alligatoridae",
          "Loricata/Allodaposuchidae",
          "Loricata/Atoposauridae",
          "Loricata/Baurusuchidae",
          "Crocodylia/Crocodylidae",
          "Loricata/Dyrosauridae",
          "Crocodylia/Gavialidae",
          "Loricata/Hylaeochampsidae",
          "Loricata/Mahajangasuchidae",
          "Loricata/Paralligatoridae",
          "Loricata/Peirosauridae",
          "Crocodylia/Planocraniidae",
          "Loricata/Sebecidae",
          "Loricata/Sphagesauridae",
          "Crocodylia",
          "Loricata"
         ],
         "insidetextorientation": "auto",
         "labels": [
          "Acherontisuchus",
          "Acresuchus",
          "Acynodon",
          "Alligator",
          "Allodaposuchus",
          "Allognathosuchus",
          "Baurusuchus",
          "Bottosaurus",
          "Boverisuchus",
          "Brachychampsa",
          "Brochuchus",
          "Caiman",
          "Caipirasuchus",
          "Ceratosuchus",
          "Charactosuchus",
          "Congosaurus",
          "Crocodylus",
          "Dyrosaurus",
          "Eogavialis",
          "Eosuchus",
          "Euthecodon",
          "Gavialis",
          "Globidentosuchus",
          "Gnatusuchus",
          "Gryposuchus",
          "Hesperogavialis",
          "Hyposaurus",
          "Ikanogavialis",
          "Kinyang",
          "Mahajangasuchus",
          "Maomingosuchus",
          "Mecistops",
          "Melanosuchus",
          "Miadanasuchus",
          "Mourasuchus",
          "Osteolaemus",
          "Phosphatosaurus",
          "Piscogavialis",
          "Purussaurus",
          "Rhabdognathus",
          "Rhamphostomopsis",
          "Rimasuchus",
          "Sabresuchus",
          "Sacacosuchus",
          "Sebecus",
          "Shamosuchus",
          "Siquisiquesuchus",
          "Sphagesaurus",
          "Theriosuchus",
          "Thoracosaurus",
          "Tomistoma",
          "Alligatoridae",
          "Allodaposuchidae",
          "Atoposauridae",
          "Baurusuchidae",
          "Crocodylidae",
          "Dyrosauridae",
          "Gavialidae",
          "Hylaeochampsidae",
          "Mahajangasuchidae",
          "Paralligatoridae",
          "Peirosauridae",
          "Planocraniidae",
          "Sebecidae",
          "Sphagesauridae",
          "Crocodylia",
          "Loricata"
         ],
         "marker": {
          "coloraxis": "coloraxis",
          "colors": [
           58.75,
           9.045651044842304,
           69.73748135462131,
           28.49804099485333,
           69.51939693969393,
           54.93854854758021,
           74.75,
           63.97377266046056,
           48.117225381622276,
           68.40464405006239,
           17.858604651162793,
           10.90304620042296,
           74.75,
           55.68036837376459,
           10.617569504569504,
           58.795414687614176,
           34.530770957630445,
           50.897902236295266,
           28.37373722785601,
           54.038163925586396,
           8.876433772395494,
           10.150008065442904,
           8.588111597600944,
           13.622494397844854,
           13.238856992646255,
           8.977622210740916,
           63.811009695169886,
           10.165135570131701,
           17.64292452830189,
           69.05,
           38.13835751978892,
           6.891260186382072,
           9.211271223432465,
           69.05,
           12.161650290970158,
           7.366872428495294,
           60.49266909396443,
           11.551892816828461,
           16.110017042116233,
           60.98998357963875,
           11.371451850852338,
           13.565990707447032,
           68.3,
           11.84885238757478,
           43.36983685078012,
           68.86403158467962,
           18.205000000000002,
           74.75,
           69.68565167409109,
           67.86711878735743,
           22.501174638690514,
           55.05869448655432,
           69.51939693969393,
           69.68565167409109,
           74.75,
           30.33173389896791,
           59.05364283132645,
           51.46536354647615,
           69.73748135462131,
           69.05,
           68.55182348650621,
           69.05,
           48.117225381622276,
           43.36983685078012,
           74.75,
           50.89893842758927,
           64.97612219280295
          ]
         },
         "name": "",
         "parents": [
          "Loricata/Dyrosauridae",
          "Crocodylia/Alligatoridae",
          "Loricata/Hylaeochampsidae",
          "Crocodylia/Alligatoridae",
          "Loricata/Allodaposuchidae",
          "Crocodylia/Alligatoridae",
          "Loricata/Baurusuchidae",
          "Crocodylia/Alligatoridae",
          "Crocodylia/Planocraniidae",
          "Crocodylia/Alligatoridae",
          "Crocodylia/Crocodylidae",
          "Crocodylia/Alligatoridae",
          "Loricata/Sphagesauridae",
          "Crocodylia/Alligatoridae",
          "Crocodylia/Crocodylidae",
          "Loricata/Dyrosauridae",
          "Crocodylia/Crocodylidae",
          "Loricata/Dyrosauridae",
          "Crocodylia/Gavialidae",
          "Crocodylia/Gavialidae",
          "Crocodylia/Crocodylidae",
          "Crocodylia/Gavialidae",
          "Crocodylia/Alligatoridae",
          "Crocodylia/Alligatoridae",
          "Crocodylia/Gavialidae",
          "Crocodylia/Gavialidae",
          "Loricata/Dyrosauridae",
          "Crocodylia/Gavialidae",
          "Crocodylia/Crocodylidae",
          "Loricata/Mahajangasuchidae",
          "Crocodylia/Gavialidae",
          "Crocodylia/Crocodylidae",
          "Crocodylia/Alligatoridae",
          "Loricata/Peirosauridae",
          "Crocodylia/Alligatoridae",
          "Crocodylia/Crocodylidae",
          "Loricata/Dyrosauridae",
          "Crocodylia/Gavialidae",
          "Crocodylia/Alligatoridae",
          "Loricata/Dyrosauridae",
          "Crocodylia/Gavialidae",
          "Crocodylia/Crocodylidae",
          "Loricata/Paralligatoridae",
          "Crocodylia/Gavialidae",
          "Loricata/Sebecidae",
          "Loricata/Paralligatoridae",
          "Crocodylia/Gavialidae",
          "Loricata/Sphagesauridae",
          "Loricata/Atoposauridae",
          "Crocodylia/Gavialidae",
          "Crocodylia/Gavialidae",
          "Crocodylia",
          "Loricata",
          "Loricata",
          "Loricata",
          "Crocodylia",
          "Loricata",
          "Crocodylia",
          "Loricata",
          "Loricata",
          "Loricata",
          "Loricata",
          "Crocodylia",
          "Loricata",
          "Loricata",
          "",
          ""
         ],
         "textfont": {
          "family": [
           "Arial Black",
           "Arial"
          ],
          "size": [
           20,
           15,
           15
          ]
         },
         "textinfo": "label",
         "type": "sunburst",
         "values": [
          235,
          63.1435,
          905.05,
          1160.60575,
          2499.75,
          7236.2,
          373.75,
          510.25,
          1002.3,
          7454.7,
          142.33,
          286.7885,
          448.5,
          278.25,
          72.765,
          410.55,
          3030.03315,
          505.3,
          93.6315,
          370.9,
          240.78785000000002,
          261.052,
          77.197,
          81.665,
          356.68185,
          53.7105,
          572.45,
          48.633500000000005,
          87.715,
          345.25,
          151.6,
          60.68985,
          36.7695,
          276.2,
          407.00050000000005,
          28.145,
          357.05,
          75.301,
          791.5843500000001,
          548.1,
          44.466,
          69.50485,
          341.5,
          83.411,
          806.9300000000001,
          275.45,
          109.23000000000002,
          299,
          347.95,
          3371.15,
          401.45985,
          18384.1541,
          2499.75,
          347.95,
          373.75,
          3731.9707,
          2628.45,
          5421.2272,
          905.05,
          345.25,
          616.9499999999999,
          276.2,
          1002.3,
          806.9300000000001,
          747.5,
          28539.652,
          9547.78
         ]
        }
       ],
       "layout": {
        "coloraxis": {
         "colorbar": {
          "title": {
           "text": "M.Y.A. Lived"
          }
         },
         "colorscale": [
          [
           0,
           "rgb(255,247,251)"
          ],
          [
           0.125,
           "rgb(236,226,240)"
          ],
          [
           0.25,
           "rgb(208,209,230)"
          ],
          [
           0.375,
           "rgb(166,189,219)"
          ],
          [
           0.5,
           "rgb(103,169,207)"
          ],
          [
           0.625,
           "rgb(54,144,192)"
          ],
          [
           0.75,
           "rgb(2,129,138)"
          ],
          [
           0.875,
           "rgb(1,108,89)"
          ],
          [
           1,
           "rgb(1,70,54)"
          ]
         ]
        },
        "height": 800,
        "legend": {
         "tracegroupgap": 0
        },
        "margin": {
         "b": 5,
         "l": 40,
         "r": 150,
         "t": 5
        },
        "template": {
         "data": {
          "bar": [
           {
            "error_x": {
             "color": "rgb(36,36,36)"
            },
            "error_y": {
             "color": "rgb(36,36,36)"
            },
            "marker": {
             "line": {
              "color": "white",
              "width": 0.5
             },
             "pattern": {
              "fillmode": "overlay",
              "size": 10,
              "solidity": 0.2
             }
            },
            "type": "bar"
           }
          ],
          "barpolar": [
           {
            "marker": {
             "line": {
              "color": "white",
              "width": 0.5
             },
             "pattern": {
              "fillmode": "overlay",
              "size": 10,
              "solidity": 0.2
             }
            },
            "type": "barpolar"
           }
          ],
          "carpet": [
           {
            "aaxis": {
             "endlinecolor": "rgb(36,36,36)",
             "gridcolor": "white",
             "linecolor": "white",
             "minorgridcolor": "white",
             "startlinecolor": "rgb(36,36,36)"
            },
            "baxis": {
             "endlinecolor": "rgb(36,36,36)",
             "gridcolor": "white",
             "linecolor": "white",
             "minorgridcolor": "white",
             "startlinecolor": "rgb(36,36,36)"
            },
            "type": "carpet"
           }
          ],
          "choropleth": [
           {
            "colorbar": {
             "outlinewidth": 1,
             "tickcolor": "rgb(36,36,36)",
             "ticks": "outside"
            },
            "type": "choropleth"
           }
          ],
          "contour": [
           {
            "colorbar": {
             "outlinewidth": 1,
             "tickcolor": "rgb(36,36,36)",
             "ticks": "outside"
            },
            "colorscale": [
             [
              0,
              "#440154"
             ],
             [
              0.1111111111111111,
              "#482878"
             ],
             [
              0.2222222222222222,
              "#3e4989"
             ],
             [
              0.3333333333333333,
              "#31688e"
             ],
             [
              0.4444444444444444,
              "#26828e"
             ],
             [
              0.5555555555555556,
              "#1f9e89"
             ],
             [
              0.6666666666666666,
              "#35b779"
             ],
             [
              0.7777777777777778,
              "#6ece58"
             ],
             [
              0.8888888888888888,
              "#b5de2b"
             ],
             [
              1,
              "#fde725"
             ]
            ],
            "type": "contour"
           }
          ],
          "contourcarpet": [
           {
            "colorbar": {
             "outlinewidth": 1,
             "tickcolor": "rgb(36,36,36)",
             "ticks": "outside"
            },
            "type": "contourcarpet"
           }
          ],
          "heatmap": [
           {
            "colorbar": {
             "outlinewidth": 1,
             "tickcolor": "rgb(36,36,36)",
             "ticks": "outside"
            },
            "colorscale": [
             [
              0,
              "#440154"
             ],
             [
              0.1111111111111111,
              "#482878"
             ],
             [
              0.2222222222222222,
              "#3e4989"
             ],
             [
              0.3333333333333333,
              "#31688e"
             ],
             [
              0.4444444444444444,
              "#26828e"
             ],
             [
              0.5555555555555556,
              "#1f9e89"
             ],
             [
              0.6666666666666666,
              "#35b779"
             ],
             [
              0.7777777777777778,
              "#6ece58"
             ],
             [
              0.8888888888888888,
              "#b5de2b"
             ],
             [
              1,
              "#fde725"
             ]
            ],
            "type": "heatmap"
           }
          ],
          "heatmapgl": [
           {
            "colorbar": {
             "outlinewidth": 1,
             "tickcolor": "rgb(36,36,36)",
             "ticks": "outside"
            },
            "colorscale": [
             [
              0,
              "#440154"
             ],
             [
              0.1111111111111111,
              "#482878"
             ],
             [
              0.2222222222222222,
              "#3e4989"
             ],
             [
              0.3333333333333333,
              "#31688e"
             ],
             [
              0.4444444444444444,
              "#26828e"
             ],
             [
              0.5555555555555556,
              "#1f9e89"
             ],
             [
              0.6666666666666666,
              "#35b779"
             ],
             [
              0.7777777777777778,
              "#6ece58"
             ],
             [
              0.8888888888888888,
              "#b5de2b"
             ],
             [
              1,
              "#fde725"
             ]
            ],
            "type": "heatmapgl"
           }
          ],
          "histogram": [
           {
            "marker": {
             "line": {
              "color": "white",
              "width": 0.6
             }
            },
            "type": "histogram"
           }
          ],
          "histogram2d": [
           {
            "colorbar": {
             "outlinewidth": 1,
             "tickcolor": "rgb(36,36,36)",
             "ticks": "outside"
            },
            "colorscale": [
             [
              0,
              "#440154"
             ],
             [
              0.1111111111111111,
              "#482878"
             ],
             [
              0.2222222222222222,
              "#3e4989"
             ],
             [
              0.3333333333333333,
              "#31688e"
             ],
             [
              0.4444444444444444,
              "#26828e"
             ],
             [
              0.5555555555555556,
              "#1f9e89"
             ],
             [
              0.6666666666666666,
              "#35b779"
             ],
             [
              0.7777777777777778,
              "#6ece58"
             ],
             [
              0.8888888888888888,
              "#b5de2b"
             ],
             [
              1,
              "#fde725"
             ]
            ],
            "type": "histogram2d"
           }
          ],
          "histogram2dcontour": [
           {
            "colorbar": {
             "outlinewidth": 1,
             "tickcolor": "rgb(36,36,36)",
             "ticks": "outside"
            },
            "colorscale": [
             [
              0,
              "#440154"
             ],
             [
              0.1111111111111111,
              "#482878"
             ],
             [
              0.2222222222222222,
              "#3e4989"
             ],
             [
              0.3333333333333333,
              "#31688e"
             ],
             [
              0.4444444444444444,
              "#26828e"
             ],
             [
              0.5555555555555556,
              "#1f9e89"
             ],
             [
              0.6666666666666666,
              "#35b779"
             ],
             [
              0.7777777777777778,
              "#6ece58"
             ],
             [
              0.8888888888888888,
              "#b5de2b"
             ],
             [
              1,
              "#fde725"
             ]
            ],
            "type": "histogram2dcontour"
           }
          ],
          "mesh3d": [
           {
            "colorbar": {
             "outlinewidth": 1,
             "tickcolor": "rgb(36,36,36)",
             "ticks": "outside"
            },
            "type": "mesh3d"
           }
          ],
          "parcoords": [
           {
            "line": {
             "colorbar": {
              "outlinewidth": 1,
              "tickcolor": "rgb(36,36,36)",
              "ticks": "outside"
             }
            },
            "type": "parcoords"
           }
          ],
          "pie": [
           {
            "automargin": true,
            "type": "pie"
           }
          ],
          "scatter": [
           {
            "fillpattern": {
             "fillmode": "overlay",
             "size": 10,
             "solidity": 0.2
            },
            "type": "scatter"
           }
          ],
          "scatter3d": [
           {
            "line": {
             "colorbar": {
              "outlinewidth": 1,
              "tickcolor": "rgb(36,36,36)",
              "ticks": "outside"
             }
            },
            "marker": {
             "colorbar": {
              "outlinewidth": 1,
              "tickcolor": "rgb(36,36,36)",
              "ticks": "outside"
             }
            },
            "type": "scatter3d"
           }
          ],
          "scattercarpet": [
           {
            "marker": {
             "colorbar": {
              "outlinewidth": 1,
              "tickcolor": "rgb(36,36,36)",
              "ticks": "outside"
             }
            },
            "type": "scattercarpet"
           }
          ],
          "scattergeo": [
           {
            "marker": {
             "colorbar": {
              "outlinewidth": 1,
              "tickcolor": "rgb(36,36,36)",
              "ticks": "outside"
             }
            },
            "type": "scattergeo"
           }
          ],
          "scattergl": [
           {
            "marker": {
             "colorbar": {
              "outlinewidth": 1,
              "tickcolor": "rgb(36,36,36)",
              "ticks": "outside"
             }
            },
            "type": "scattergl"
           }
          ],
          "scattermapbox": [
           {
            "marker": {
             "colorbar": {
              "outlinewidth": 1,
              "tickcolor": "rgb(36,36,36)",
              "ticks": "outside"
             }
            },
            "type": "scattermapbox"
           }
          ],
          "scatterpolar": [
           {
            "marker": {
             "colorbar": {
              "outlinewidth": 1,
              "tickcolor": "rgb(36,36,36)",
              "ticks": "outside"
             }
            },
            "type": "scatterpolar"
           }
          ],
          "scatterpolargl": [
           {
            "marker": {
             "colorbar": {
              "outlinewidth": 1,
              "tickcolor": "rgb(36,36,36)",
              "ticks": "outside"
             }
            },
            "type": "scatterpolargl"
           }
          ],
          "scatterternary": [
           {
            "marker": {
             "colorbar": {
              "outlinewidth": 1,
              "tickcolor": "rgb(36,36,36)",
              "ticks": "outside"
             }
            },
            "type": "scatterternary"
           }
          ],
          "surface": [
           {
            "colorbar": {
             "outlinewidth": 1,
             "tickcolor": "rgb(36,36,36)",
             "ticks": "outside"
            },
            "colorscale": [
             [
              0,
              "#440154"
             ],
             [
              0.1111111111111111,
              "#482878"
             ],
             [
              0.2222222222222222,
              "#3e4989"
             ],
             [
              0.3333333333333333,
              "#31688e"
             ],
             [
              0.4444444444444444,
              "#26828e"
             ],
             [
              0.5555555555555556,
              "#1f9e89"
             ],
             [
              0.6666666666666666,
              "#35b779"
             ],
             [
              0.7777777777777778,
              "#6ece58"
             ],
             [
              0.8888888888888888,
              "#b5de2b"
             ],
             [
              1,
              "#fde725"
             ]
            ],
            "type": "surface"
           }
          ],
          "table": [
           {
            "cells": {
             "fill": {
              "color": "rgb(237,237,237)"
             },
             "line": {
              "color": "white"
             }
            },
            "header": {
             "fill": {
              "color": "rgb(217,217,217)"
             },
             "line": {
              "color": "white"
             }
            },
            "type": "table"
           }
          ]
         },
         "layout": {
          "annotationdefaults": {
           "arrowhead": 0,
           "arrowwidth": 1
          },
          "autotypenumbers": "strict",
          "coloraxis": {
           "colorbar": {
            "outlinewidth": 1,
            "tickcolor": "rgb(36,36,36)",
            "ticks": "outside"
           }
          },
          "colorscale": {
           "diverging": [
            [
             0,
             "rgb(103,0,31)"
            ],
            [
             0.1,
             "rgb(178,24,43)"
            ],
            [
             0.2,
             "rgb(214,96,77)"
            ],
            [
             0.3,
             "rgb(244,165,130)"
            ],
            [
             0.4,
             "rgb(253,219,199)"
            ],
            [
             0.5,
             "rgb(247,247,247)"
            ],
            [
             0.6,
             "rgb(209,229,240)"
            ],
            [
             0.7,
             "rgb(146,197,222)"
            ],
            [
             0.8,
             "rgb(67,147,195)"
            ],
            [
             0.9,
             "rgb(33,102,172)"
            ],
            [
             1,
             "rgb(5,48,97)"
            ]
           ],
           "sequential": [
            [
             0,
             "#440154"
            ],
            [
             0.1111111111111111,
             "#482878"
            ],
            [
             0.2222222222222222,
             "#3e4989"
            ],
            [
             0.3333333333333333,
             "#31688e"
            ],
            [
             0.4444444444444444,
             "#26828e"
            ],
            [
             0.5555555555555556,
             "#1f9e89"
            ],
            [
             0.6666666666666666,
             "#35b779"
            ],
            [
             0.7777777777777778,
             "#6ece58"
            ],
            [
             0.8888888888888888,
             "#b5de2b"
            ],
            [
             1,
             "#fde725"
            ]
           ],
           "sequentialminus": [
            [
             0,
             "#440154"
            ],
            [
             0.1111111111111111,
             "#482878"
            ],
            [
             0.2222222222222222,
             "#3e4989"
            ],
            [
             0.3333333333333333,
             "#31688e"
            ],
            [
             0.4444444444444444,
             "#26828e"
            ],
            [
             0.5555555555555556,
             "#1f9e89"
            ],
            [
             0.6666666666666666,
             "#35b779"
            ],
            [
             0.7777777777777778,
             "#6ece58"
            ],
            [
             0.8888888888888888,
             "#b5de2b"
            ],
            [
             1,
             "#fde725"
            ]
           ]
          },
          "colorway": [
           "#1F77B4",
           "#FF7F0E",
           "#2CA02C",
           "#D62728",
           "#9467BD",
           "#8C564B",
           "#E377C2",
           "#7F7F7F",
           "#BCBD22",
           "#17BECF"
          ],
          "font": {
           "color": "rgb(36,36,36)"
          },
          "geo": {
           "bgcolor": "white",
           "lakecolor": "white",
           "landcolor": "white",
           "showlakes": true,
           "showland": true,
           "subunitcolor": "white"
          },
          "hoverlabel": {
           "align": "left"
          },
          "hovermode": "closest",
          "mapbox": {
           "style": "light"
          },
          "paper_bgcolor": "white",
          "plot_bgcolor": "white",
          "polar": {
           "angularaxis": {
            "gridcolor": "rgb(232,232,232)",
            "linecolor": "rgb(36,36,36)",
            "showgrid": false,
            "showline": true,
            "ticks": "outside"
           },
           "bgcolor": "white",
           "radialaxis": {
            "gridcolor": "rgb(232,232,232)",
            "linecolor": "rgb(36,36,36)",
            "showgrid": false,
            "showline": true,
            "ticks": "outside"
           }
          },
          "scene": {
           "xaxis": {
            "backgroundcolor": "white",
            "gridcolor": "rgb(232,232,232)",
            "gridwidth": 2,
            "linecolor": "rgb(36,36,36)",
            "showbackground": true,
            "showgrid": false,
            "showline": true,
            "ticks": "outside",
            "zeroline": false,
            "zerolinecolor": "rgb(36,36,36)"
           },
           "yaxis": {
            "backgroundcolor": "white",
            "gridcolor": "rgb(232,232,232)",
            "gridwidth": 2,
            "linecolor": "rgb(36,36,36)",
            "showbackground": true,
            "showgrid": false,
            "showline": true,
            "ticks": "outside",
            "zeroline": false,
            "zerolinecolor": "rgb(36,36,36)"
           },
           "zaxis": {
            "backgroundcolor": "white",
            "gridcolor": "rgb(232,232,232)",
            "gridwidth": 2,
            "linecolor": "rgb(36,36,36)",
            "showbackground": true,
            "showgrid": false,
            "showline": true,
            "ticks": "outside",
            "zeroline": false,
            "zerolinecolor": "rgb(36,36,36)"
           }
          },
          "shapedefaults": {
           "fillcolor": "black",
           "line": {
            "width": 0
           },
           "opacity": 0.3
          },
          "ternary": {
           "aaxis": {
            "gridcolor": "rgb(232,232,232)",
            "linecolor": "rgb(36,36,36)",
            "showgrid": false,
            "showline": true,
            "ticks": "outside"
           },
           "baxis": {
            "gridcolor": "rgb(232,232,232)",
            "linecolor": "rgb(36,36,36)",
            "showgrid": false,
            "showline": true,
            "ticks": "outside"
           },
           "bgcolor": "white",
           "caxis": {
            "gridcolor": "rgb(232,232,232)",
            "linecolor": "rgb(36,36,36)",
            "showgrid": false,
            "showline": true,
            "ticks": "outside"
           }
          },
          "title": {
           "x": 0.05
          },
          "xaxis": {
           "automargin": true,
           "gridcolor": "rgb(232,232,232)",
           "linecolor": "rgb(36,36,36)",
           "showgrid": false,
           "showline": true,
           "ticks": "outside",
           "title": {
            "standoff": 15
           },
           "zeroline": false,
           "zerolinecolor": "rgb(36,36,36)"
          },
          "yaxis": {
           "automargin": true,
           "gridcolor": "rgb(232,232,232)",
           "linecolor": "rgb(36,36,36)",
           "showgrid": false,
           "showline": true,
           "ticks": "outside",
           "title": {
            "standoff": 15
           },
           "zeroline": false,
           "zerolinecolor": "rgb(36,36,36)"
          }
         }
        },
        "uniformtext": {
         "minsize": 10,
         "mode": "hide"
        },
        "width": 1000
       }
      }
     },
     "metadata": {},
     "output_type": "display_data"
    }
   ],
   "source": [
    "# Create initial chart with sunburst express\n",
    "\n",
    "# Set the style\n",
    "fig = px.sunburst(df, path=['order','family','genus'], \n",
    "                  values=df['mid'], \n",
    "                  #color='family',\n",
    "                  color='mid',\n",
    "                  template='simple_white',\n",
    "                  color_continuous_scale='pubugn',\n",
    "                  )\n",
    "\n",
    "fig.update_layout(\n",
    "    height = 800, \n",
    "    width = 1000,\n",
    "    margin = dict(t=5, l=40, r=150, b=5)\n",
    ")\n",
    "\n",
    "fig.update_traces(hovertemplate=\"%{label}<br><extra></extra>\",\n",
    "                   insidetextorientation='auto', \n",
    "                   textinfo=\"label\",\n",
    "                   rotation=None, \n",
    "                   overwrite=True)\n",
    "fig.update_traces(textfont=dict(family=['Arial Black', 'Arial'],size=[20,15,15]), overwrite=True)\n",
    "fig.update_layout(coloraxis_colorbar_title='M.Y.A. Lived')\n",
    "fig.update_layout(uniformtext=dict(minsize=10, mode='hide'))\n",
    "fig.show()"
   ]
  },
  {
   "cell_type": "code",
   "execution_count": 82,
   "metadata": {},
   "outputs": [],
   "source": [
    "# Force spacing in the labels and adjust font size\n",
    "d=fig.to_dict()\n",
    "data = d['data'][0]\n",
    "\n",
    "for i, l in enumerate(data['labels']):\n",
    "    v = data['customdata'][i][0]\n",
    "    is_leaf = len(data['ids'][i].split('/')) == 3\n",
    "\n",
    "    is_root = len(data['ids'][i].split('/')) == 1\n",
    "\n",
    "    if is_leaf:\n",
    "        data['labels'][i] = f'<span style=\"font-size: 16px;\">{l}</span>'\n",
    "    elif is_root:\n",
    "        data['labels'][i] = f'<span style=\"font-size: 24px;\"><b>{l}</b></span>'\n",
    "    else:\n",
    "        data['labels'][i] = f'<span style=\"font-size: 18px;\">{l}</span>'\n"
   ]
  },
  {
   "cell_type": "code",
   "execution_count": 83,
   "metadata": {},
   "outputs": [
    {
     "data": {
      "application/vnd.plotly.v1+json": {
       "config": {
        "plotlyServerURL": "https://plot.ly"
       },
       "data": [
        {
         "branchvalues": "total",
         "customdata": [
          [
           58.75
          ],
          [
           9.045651044842304
          ],
          [
           69.73748135462131
          ],
          [
           28.49804099485333
          ],
          [
           69.51939693969393
          ],
          [
           54.93854854758021
          ],
          [
           74.75
          ],
          [
           63.97377266046056
          ],
          [
           48.117225381622276
          ],
          [
           68.40464405006239
          ],
          [
           17.858604651162793
          ],
          [
           10.90304620042296
          ],
          [
           74.75
          ],
          [
           55.68036837376459
          ],
          [
           10.617569504569504
          ],
          [
           58.795414687614176
          ],
          [
           34.530770957630445
          ],
          [
           50.897902236295266
          ],
          [
           28.37373722785601
          ],
          [
           54.038163925586396
          ],
          [
           8.876433772395494
          ],
          [
           10.150008065442904
          ],
          [
           8.588111597600944
          ],
          [
           13.622494397844854
          ],
          [
           13.238856992646255
          ],
          [
           8.977622210740916
          ],
          [
           63.811009695169886
          ],
          [
           10.165135570131701
          ],
          [
           17.64292452830189
          ],
          [
           69.05
          ],
          [
           38.13835751978892
          ],
          [
           6.891260186382072
          ],
          [
           9.211271223432465
          ],
          [
           69.05
          ],
          [
           12.161650290970158
          ],
          [
           7.366872428495294
          ],
          [
           60.49266909396443
          ],
          [
           11.551892816828461
          ],
          [
           16.110017042116233
          ],
          [
           60.98998357963875
          ],
          [
           11.371451850852338
          ],
          [
           13.565990707447032
          ],
          [
           68.3
          ],
          [
           11.84885238757478
          ],
          [
           43.36983685078012
          ],
          [
           68.86403158467962
          ],
          [
           18.205000000000002
          ],
          [
           74.75
          ],
          [
           69.68565167409109
          ],
          [
           67.86711878735743
          ],
          [
           22.501174638690514
          ],
          [
           55.05869448655432
          ],
          [
           69.51939693969393
          ],
          [
           69.68565167409109
          ],
          [
           74.75
          ],
          [
           30.33173389896791
          ],
          [
           59.05364283132645
          ],
          [
           51.46536354647615
          ],
          [
           69.73748135462131
          ],
          [
           69.05
          ],
          [
           68.55182348650621
          ],
          [
           69.05
          ],
          [
           48.117225381622276
          ],
          [
           43.36983685078012
          ],
          [
           74.75
          ],
          [
           50.89893842758927
          ],
          [
           64.97612219280295
          ]
         ],
         "domain": {
          "x": [
           0,
           1
          ],
          "y": [
           0,
           1
          ]
         },
         "hovertemplate": "%{label}<br><extra></extra>",
         "ids": [
          "Loricata/Dyrosauridae/Acherontisuchus",
          "Crocodylia/Alligatoridae/Acresuchus",
          "Loricata/Hylaeochampsidae/Acynodon",
          "Crocodylia/Alligatoridae/Alligator",
          "Loricata/Allodaposuchidae/Allodaposuchus",
          "Crocodylia/Alligatoridae/Allognathosuchus",
          "Loricata/Baurusuchidae/Baurusuchus",
          "Crocodylia/Alligatoridae/Bottosaurus",
          "Crocodylia/Planocraniidae/Boverisuchus",
          "Crocodylia/Alligatoridae/Brachychampsa",
          "Crocodylia/Crocodylidae/Brochuchus",
          "Crocodylia/Alligatoridae/Caiman",
          "Loricata/Sphagesauridae/Caipirasuchus",
          "Crocodylia/Alligatoridae/Ceratosuchus",
          "Crocodylia/Crocodylidae/Charactosuchus",
          "Loricata/Dyrosauridae/Congosaurus",
          "Crocodylia/Crocodylidae/Crocodylus",
          "Loricata/Dyrosauridae/Dyrosaurus",
          "Crocodylia/Gavialidae/Eogavialis",
          "Crocodylia/Gavialidae/Eosuchus",
          "Crocodylia/Crocodylidae/Euthecodon",
          "Crocodylia/Gavialidae/Gavialis",
          "Crocodylia/Alligatoridae/Globidentosuchus",
          "Crocodylia/Alligatoridae/Gnatusuchus",
          "Crocodylia/Gavialidae/Gryposuchus",
          "Crocodylia/Gavialidae/Hesperogavialis",
          "Loricata/Dyrosauridae/Hyposaurus",
          "Crocodylia/Gavialidae/Ikanogavialis",
          "Crocodylia/Crocodylidae/Kinyang",
          "Loricata/Mahajangasuchidae/Mahajangasuchus",
          "Crocodylia/Gavialidae/Maomingosuchus",
          "Crocodylia/Crocodylidae/Mecistops",
          "Crocodylia/Alligatoridae/Melanosuchus",
          "Loricata/Peirosauridae/Miadanasuchus",
          "Crocodylia/Alligatoridae/Mourasuchus",
          "Crocodylia/Crocodylidae/Osteolaemus",
          "Loricata/Dyrosauridae/Phosphatosaurus",
          "Crocodylia/Gavialidae/Piscogavialis",
          "Crocodylia/Alligatoridae/Purussaurus",
          "Loricata/Dyrosauridae/Rhabdognathus",
          "Crocodylia/Gavialidae/Rhamphostomopsis",
          "Crocodylia/Crocodylidae/Rimasuchus",
          "Loricata/Paralligatoridae/Sabresuchus",
          "Crocodylia/Gavialidae/Sacacosuchus",
          "Loricata/Sebecidae/Sebecus",
          "Loricata/Paralligatoridae/Shamosuchus",
          "Crocodylia/Gavialidae/Siquisiquesuchus",
          "Loricata/Sphagesauridae/Sphagesaurus",
          "Loricata/Atoposauridae/Theriosuchus",
          "Crocodylia/Gavialidae/Thoracosaurus",
          "Crocodylia/Gavialidae/Tomistoma",
          "Crocodylia/Alligatoridae",
          "Loricata/Allodaposuchidae",
          "Loricata/Atoposauridae",
          "Loricata/Baurusuchidae",
          "Crocodylia/Crocodylidae",
          "Loricata/Dyrosauridae",
          "Crocodylia/Gavialidae",
          "Loricata/Hylaeochampsidae",
          "Loricata/Mahajangasuchidae",
          "Loricata/Paralligatoridae",
          "Loricata/Peirosauridae",
          "Crocodylia/Planocraniidae",
          "Loricata/Sebecidae",
          "Loricata/Sphagesauridae",
          "Crocodylia",
          "Loricata"
         ],
         "insidetextorientation": "auto",
         "labels": [
          "<span style=\"font-size: 16px;\">Acherontisuchus</span>",
          "<span style=\"font-size: 16px;\">Acresuchus</span>",
          "<span style=\"font-size: 16px;\">Acynodon</span>",
          "<span style=\"font-size: 16px;\">Alligator</span>",
          "<span style=\"font-size: 16px;\">Allodaposuchus</span>",
          "<span style=\"font-size: 16px;\">Allognathosuchus</span>",
          "<span style=\"font-size: 16px;\">Baurusuchus</span>",
          "<span style=\"font-size: 16px;\">Bottosaurus</span>",
          "<span style=\"font-size: 16px;\">Boverisuchus</span>",
          "<span style=\"font-size: 16px;\">Brachychampsa</span>",
          "<span style=\"font-size: 16px;\">Brochuchus</span>",
          "<span style=\"font-size: 16px;\">Caiman</span>",
          "<span style=\"font-size: 16px;\">Caipirasuchus</span>",
          "<span style=\"font-size: 16px;\">Ceratosuchus</span>",
          "<span style=\"font-size: 16px;\">Charactosuchus</span>",
          "<span style=\"font-size: 16px;\">Congosaurus</span>",
          "<span style=\"font-size: 16px;\">Crocodylus</span>",
          "<span style=\"font-size: 16px;\">Dyrosaurus</span>",
          "<span style=\"font-size: 16px;\">Eogavialis</span>",
          "<span style=\"font-size: 16px;\">Eosuchus</span>",
          "<span style=\"font-size: 16px;\">Euthecodon</span>",
          "<span style=\"font-size: 16px;\">Gavialis</span>",
          "<span style=\"font-size: 16px;\">Globidentosuchus</span>",
          "<span style=\"font-size: 16px;\">Gnatusuchus</span>",
          "<span style=\"font-size: 16px;\">Gryposuchus</span>",
          "<span style=\"font-size: 16px;\">Hesperogavialis</span>",
          "<span style=\"font-size: 16px;\">Hyposaurus</span>",
          "<span style=\"font-size: 16px;\">Ikanogavialis</span>",
          "<span style=\"font-size: 16px;\">Kinyang</span>",
          "<span style=\"font-size: 16px;\">Mahajangasuchus</span>",
          "<span style=\"font-size: 16px;\">Maomingosuchus</span>",
          "<span style=\"font-size: 16px;\">Mecistops</span>",
          "<span style=\"font-size: 16px;\">Melanosuchus</span>",
          "<span style=\"font-size: 16px;\">Miadanasuchus</span>",
          "<span style=\"font-size: 16px;\">Mourasuchus</span>",
          "<span style=\"font-size: 16px;\">Osteolaemus</span>",
          "<span style=\"font-size: 16px;\">Phosphatosaurus</span>",
          "<span style=\"font-size: 16px;\">Piscogavialis</span>",
          "<span style=\"font-size: 16px;\">Purussaurus</span>",
          "<span style=\"font-size: 16px;\">Rhabdognathus</span>",
          "<span style=\"font-size: 16px;\">Rhamphostomopsis</span>",
          "<span style=\"font-size: 16px;\">Rimasuchus</span>",
          "<span style=\"font-size: 16px;\">Sabresuchus</span>",
          "<span style=\"font-size: 16px;\">Sacacosuchus</span>",
          "<span style=\"font-size: 16px;\">Sebecus</span>",
          "<span style=\"font-size: 16px;\">Shamosuchus</span>",
          "<span style=\"font-size: 16px;\">Siquisiquesuchus</span>",
          "<span style=\"font-size: 16px;\">Sphagesaurus</span>",
          "<span style=\"font-size: 16px;\">Theriosuchus</span>",
          "<span style=\"font-size: 16px;\">Thoracosaurus</span>",
          "<span style=\"font-size: 16px;\">Tomistoma</span>",
          "<span style=\"font-size: 18px;\">Alligatoridae</span>",
          "<span style=\"font-size: 18px;\">Allodaposuchidae</span>",
          "<span style=\"font-size: 18px;\">Atoposauridae</span>",
          "<span style=\"font-size: 18px;\">Baurusuchidae</span>",
          "<span style=\"font-size: 18px;\">Crocodylidae</span>",
          "<span style=\"font-size: 18px;\">Dyrosauridae</span>",
          "<span style=\"font-size: 18px;\">Gavialidae</span>",
          "<span style=\"font-size: 18px;\">Hylaeochampsidae</span>",
          "<span style=\"font-size: 18px;\">Mahajangasuchidae</span>",
          "<span style=\"font-size: 18px;\">Paralligatoridae</span>",
          "<span style=\"font-size: 18px;\">Peirosauridae</span>",
          "<span style=\"font-size: 18px;\">Planocraniidae</span>",
          "<span style=\"font-size: 18px;\">Sebecidae</span>",
          "<span style=\"font-size: 18px;\">Sphagesauridae</span>",
          "<span style=\"font-size: 24px;\"><b>Crocodylia</b></span>",
          "<span style=\"font-size: 24px;\"><b>Loricata</b></span>"
         ],
         "marker": {
          "coloraxis": "coloraxis",
          "colors": [
           58.75,
           9.045651044842304,
           69.73748135462131,
           28.49804099485333,
           69.51939693969393,
           54.93854854758021,
           74.75,
           63.97377266046056,
           48.117225381622276,
           68.40464405006239,
           17.858604651162793,
           10.90304620042296,
           74.75,
           55.68036837376459,
           10.617569504569504,
           58.795414687614176,
           34.530770957630445,
           50.897902236295266,
           28.37373722785601,
           54.038163925586396,
           8.876433772395494,
           10.150008065442904,
           8.588111597600944,
           13.622494397844854,
           13.238856992646255,
           8.977622210740916,
           63.811009695169886,
           10.165135570131701,
           17.64292452830189,
           69.05,
           38.13835751978892,
           6.891260186382072,
           9.211271223432465,
           69.05,
           12.161650290970158,
           7.366872428495294,
           60.49266909396443,
           11.551892816828461,
           16.110017042116233,
           60.98998357963875,
           11.371451850852338,
           13.565990707447032,
           68.3,
           11.84885238757478,
           43.36983685078012,
           68.86403158467962,
           18.205000000000002,
           74.75,
           69.68565167409109,
           67.86711878735743,
           22.501174638690514,
           55.05869448655432,
           69.51939693969393,
           69.68565167409109,
           74.75,
           30.33173389896791,
           59.05364283132645,
           51.46536354647615,
           69.73748135462131,
           69.05,
           68.55182348650621,
           69.05,
           48.117225381622276,
           43.36983685078012,
           74.75,
           50.89893842758927,
           64.97612219280295
          ]
         },
         "name": "",
         "parents": [
          "Loricata/Dyrosauridae",
          "Crocodylia/Alligatoridae",
          "Loricata/Hylaeochampsidae",
          "Crocodylia/Alligatoridae",
          "Loricata/Allodaposuchidae",
          "Crocodylia/Alligatoridae",
          "Loricata/Baurusuchidae",
          "Crocodylia/Alligatoridae",
          "Crocodylia/Planocraniidae",
          "Crocodylia/Alligatoridae",
          "Crocodylia/Crocodylidae",
          "Crocodylia/Alligatoridae",
          "Loricata/Sphagesauridae",
          "Crocodylia/Alligatoridae",
          "Crocodylia/Crocodylidae",
          "Loricata/Dyrosauridae",
          "Crocodylia/Crocodylidae",
          "Loricata/Dyrosauridae",
          "Crocodylia/Gavialidae",
          "Crocodylia/Gavialidae",
          "Crocodylia/Crocodylidae",
          "Crocodylia/Gavialidae",
          "Crocodylia/Alligatoridae",
          "Crocodylia/Alligatoridae",
          "Crocodylia/Gavialidae",
          "Crocodylia/Gavialidae",
          "Loricata/Dyrosauridae",
          "Crocodylia/Gavialidae",
          "Crocodylia/Crocodylidae",
          "Loricata/Mahajangasuchidae",
          "Crocodylia/Gavialidae",
          "Crocodylia/Crocodylidae",
          "Crocodylia/Alligatoridae",
          "Loricata/Peirosauridae",
          "Crocodylia/Alligatoridae",
          "Crocodylia/Crocodylidae",
          "Loricata/Dyrosauridae",
          "Crocodylia/Gavialidae",
          "Crocodylia/Alligatoridae",
          "Loricata/Dyrosauridae",
          "Crocodylia/Gavialidae",
          "Crocodylia/Crocodylidae",
          "Loricata/Paralligatoridae",
          "Crocodylia/Gavialidae",
          "Loricata/Sebecidae",
          "Loricata/Paralligatoridae",
          "Crocodylia/Gavialidae",
          "Loricata/Sphagesauridae",
          "Loricata/Atoposauridae",
          "Crocodylia/Gavialidae",
          "Crocodylia/Gavialidae",
          "Crocodylia",
          "Loricata",
          "Loricata",
          "Loricata",
          "Crocodylia",
          "Loricata",
          "Crocodylia",
          "Loricata",
          "Loricata",
          "Loricata",
          "Loricata",
          "Crocodylia",
          "Loricata",
          "Loricata",
          "",
          ""
         ],
         "textfont": {
          "family": [
           "Arial Black",
           "Arial"
          ],
          "size": [
           20,
           15,
           15
          ]
         },
         "textinfo": "label",
         "type": "sunburst",
         "values": [
          235,
          63.1435,
          905.05,
          1160.60575,
          2499.75,
          7236.2,
          373.75,
          510.25,
          1002.3,
          7454.7,
          142.33,
          286.7885,
          448.5,
          278.25,
          72.765,
          410.55,
          3030.03315,
          505.3,
          93.6315,
          370.9,
          240.78785000000002,
          261.052,
          77.197,
          81.665,
          356.68185,
          53.7105,
          572.45,
          48.633500000000005,
          87.715,
          345.25,
          151.6,
          60.68985,
          36.7695,
          276.2,
          407.00050000000005,
          28.145,
          357.05,
          75.301,
          791.5843500000001,
          548.1,
          44.466,
          69.50485,
          341.5,
          83.411,
          806.9300000000001,
          275.45,
          109.23000000000002,
          299,
          347.95,
          3371.15,
          401.45985,
          18384.1541,
          2499.75,
          347.95,
          373.75,
          3731.9707,
          2628.45,
          5421.2272,
          905.05,
          345.25,
          616.9499999999999,
          276.2,
          1002.3,
          806.9300000000001,
          747.5,
          28539.652,
          9547.78
         ]
        }
       ],
       "layout": {
        "coloraxis": {
         "colorbar": {
          "title": {
           "text": "M.Y.A. Lived"
          }
         },
         "colorscale": [
          [
           0,
           "rgb(255,247,251)"
          ],
          [
           0.125,
           "rgb(236,226,240)"
          ],
          [
           0.25,
           "rgb(208,209,230)"
          ],
          [
           0.375,
           "rgb(166,189,219)"
          ],
          [
           0.5,
           "rgb(103,169,207)"
          ],
          [
           0.625,
           "rgb(54,144,192)"
          ],
          [
           0.75,
           "rgb(2,129,138)"
          ],
          [
           0.875,
           "rgb(1,108,89)"
          ],
          [
           1,
           "rgb(1,70,54)"
          ]
         ]
        },
        "height": 800,
        "legend": {
         "tracegroupgap": 0
        },
        "margin": {
         "b": 5,
         "l": 40,
         "r": 150,
         "t": 5
        },
        "template": {
         "data": {
          "bar": [
           {
            "error_x": {
             "color": "rgb(36,36,36)"
            },
            "error_y": {
             "color": "rgb(36,36,36)"
            },
            "marker": {
             "line": {
              "color": "white",
              "width": 0.5
             },
             "pattern": {
              "fillmode": "overlay",
              "size": 10,
              "solidity": 0.2
             }
            },
            "type": "bar"
           }
          ],
          "barpolar": [
           {
            "marker": {
             "line": {
              "color": "white",
              "width": 0.5
             },
             "pattern": {
              "fillmode": "overlay",
              "size": 10,
              "solidity": 0.2
             }
            },
            "type": "barpolar"
           }
          ],
          "carpet": [
           {
            "aaxis": {
             "endlinecolor": "rgb(36,36,36)",
             "gridcolor": "white",
             "linecolor": "white",
             "minorgridcolor": "white",
             "startlinecolor": "rgb(36,36,36)"
            },
            "baxis": {
             "endlinecolor": "rgb(36,36,36)",
             "gridcolor": "white",
             "linecolor": "white",
             "minorgridcolor": "white",
             "startlinecolor": "rgb(36,36,36)"
            },
            "type": "carpet"
           }
          ],
          "choropleth": [
           {
            "colorbar": {
             "outlinewidth": 1,
             "tickcolor": "rgb(36,36,36)",
             "ticks": "outside"
            },
            "type": "choropleth"
           }
          ],
          "contour": [
           {
            "colorbar": {
             "outlinewidth": 1,
             "tickcolor": "rgb(36,36,36)",
             "ticks": "outside"
            },
            "colorscale": [
             [
              0,
              "#440154"
             ],
             [
              0.1111111111111111,
              "#482878"
             ],
             [
              0.2222222222222222,
              "#3e4989"
             ],
             [
              0.3333333333333333,
              "#31688e"
             ],
             [
              0.4444444444444444,
              "#26828e"
             ],
             [
              0.5555555555555556,
              "#1f9e89"
             ],
             [
              0.6666666666666666,
              "#35b779"
             ],
             [
              0.7777777777777778,
              "#6ece58"
             ],
             [
              0.8888888888888888,
              "#b5de2b"
             ],
             [
              1,
              "#fde725"
             ]
            ],
            "type": "contour"
           }
          ],
          "contourcarpet": [
           {
            "colorbar": {
             "outlinewidth": 1,
             "tickcolor": "rgb(36,36,36)",
             "ticks": "outside"
            },
            "type": "contourcarpet"
           }
          ],
          "heatmap": [
           {
            "colorbar": {
             "outlinewidth": 1,
             "tickcolor": "rgb(36,36,36)",
             "ticks": "outside"
            },
            "colorscale": [
             [
              0,
              "#440154"
             ],
             [
              0.1111111111111111,
              "#482878"
             ],
             [
              0.2222222222222222,
              "#3e4989"
             ],
             [
              0.3333333333333333,
              "#31688e"
             ],
             [
              0.4444444444444444,
              "#26828e"
             ],
             [
              0.5555555555555556,
              "#1f9e89"
             ],
             [
              0.6666666666666666,
              "#35b779"
             ],
             [
              0.7777777777777778,
              "#6ece58"
             ],
             [
              0.8888888888888888,
              "#b5de2b"
             ],
             [
              1,
              "#fde725"
             ]
            ],
            "type": "heatmap"
           }
          ],
          "heatmapgl": [
           {
            "colorbar": {
             "outlinewidth": 1,
             "tickcolor": "rgb(36,36,36)",
             "ticks": "outside"
            },
            "colorscale": [
             [
              0,
              "#440154"
             ],
             [
              0.1111111111111111,
              "#482878"
             ],
             [
              0.2222222222222222,
              "#3e4989"
             ],
             [
              0.3333333333333333,
              "#31688e"
             ],
             [
              0.4444444444444444,
              "#26828e"
             ],
             [
              0.5555555555555556,
              "#1f9e89"
             ],
             [
              0.6666666666666666,
              "#35b779"
             ],
             [
              0.7777777777777778,
              "#6ece58"
             ],
             [
              0.8888888888888888,
              "#b5de2b"
             ],
             [
              1,
              "#fde725"
             ]
            ],
            "type": "heatmapgl"
           }
          ],
          "histogram": [
           {
            "marker": {
             "line": {
              "color": "white",
              "width": 0.6
             }
            },
            "type": "histogram"
           }
          ],
          "histogram2d": [
           {
            "colorbar": {
             "outlinewidth": 1,
             "tickcolor": "rgb(36,36,36)",
             "ticks": "outside"
            },
            "colorscale": [
             [
              0,
              "#440154"
             ],
             [
              0.1111111111111111,
              "#482878"
             ],
             [
              0.2222222222222222,
              "#3e4989"
             ],
             [
              0.3333333333333333,
              "#31688e"
             ],
             [
              0.4444444444444444,
              "#26828e"
             ],
             [
              0.5555555555555556,
              "#1f9e89"
             ],
             [
              0.6666666666666666,
              "#35b779"
             ],
             [
              0.7777777777777778,
              "#6ece58"
             ],
             [
              0.8888888888888888,
              "#b5de2b"
             ],
             [
              1,
              "#fde725"
             ]
            ],
            "type": "histogram2d"
           }
          ],
          "histogram2dcontour": [
           {
            "colorbar": {
             "outlinewidth": 1,
             "tickcolor": "rgb(36,36,36)",
             "ticks": "outside"
            },
            "colorscale": [
             [
              0,
              "#440154"
             ],
             [
              0.1111111111111111,
              "#482878"
             ],
             [
              0.2222222222222222,
              "#3e4989"
             ],
             [
              0.3333333333333333,
              "#31688e"
             ],
             [
              0.4444444444444444,
              "#26828e"
             ],
             [
              0.5555555555555556,
              "#1f9e89"
             ],
             [
              0.6666666666666666,
              "#35b779"
             ],
             [
              0.7777777777777778,
              "#6ece58"
             ],
             [
              0.8888888888888888,
              "#b5de2b"
             ],
             [
              1,
              "#fde725"
             ]
            ],
            "type": "histogram2dcontour"
           }
          ],
          "mesh3d": [
           {
            "colorbar": {
             "outlinewidth": 1,
             "tickcolor": "rgb(36,36,36)",
             "ticks": "outside"
            },
            "type": "mesh3d"
           }
          ],
          "parcoords": [
           {
            "line": {
             "colorbar": {
              "outlinewidth": 1,
              "tickcolor": "rgb(36,36,36)",
              "ticks": "outside"
             }
            },
            "type": "parcoords"
           }
          ],
          "pie": [
           {
            "automargin": true,
            "type": "pie"
           }
          ],
          "scatter": [
           {
            "fillpattern": {
             "fillmode": "overlay",
             "size": 10,
             "solidity": 0.2
            },
            "type": "scatter"
           }
          ],
          "scatter3d": [
           {
            "line": {
             "colorbar": {
              "outlinewidth": 1,
              "tickcolor": "rgb(36,36,36)",
              "ticks": "outside"
             }
            },
            "marker": {
             "colorbar": {
              "outlinewidth": 1,
              "tickcolor": "rgb(36,36,36)",
              "ticks": "outside"
             }
            },
            "type": "scatter3d"
           }
          ],
          "scattercarpet": [
           {
            "marker": {
             "colorbar": {
              "outlinewidth": 1,
              "tickcolor": "rgb(36,36,36)",
              "ticks": "outside"
             }
            },
            "type": "scattercarpet"
           }
          ],
          "scattergeo": [
           {
            "marker": {
             "colorbar": {
              "outlinewidth": 1,
              "tickcolor": "rgb(36,36,36)",
              "ticks": "outside"
             }
            },
            "type": "scattergeo"
           }
          ],
          "scattergl": [
           {
            "marker": {
             "colorbar": {
              "outlinewidth": 1,
              "tickcolor": "rgb(36,36,36)",
              "ticks": "outside"
             }
            },
            "type": "scattergl"
           }
          ],
          "scattermapbox": [
           {
            "marker": {
             "colorbar": {
              "outlinewidth": 1,
              "tickcolor": "rgb(36,36,36)",
              "ticks": "outside"
             }
            },
            "type": "scattermapbox"
           }
          ],
          "scatterpolar": [
           {
            "marker": {
             "colorbar": {
              "outlinewidth": 1,
              "tickcolor": "rgb(36,36,36)",
              "ticks": "outside"
             }
            },
            "type": "scatterpolar"
           }
          ],
          "scatterpolargl": [
           {
            "marker": {
             "colorbar": {
              "outlinewidth": 1,
              "tickcolor": "rgb(36,36,36)",
              "ticks": "outside"
             }
            },
            "type": "scatterpolargl"
           }
          ],
          "scatterternary": [
           {
            "marker": {
             "colorbar": {
              "outlinewidth": 1,
              "tickcolor": "rgb(36,36,36)",
              "ticks": "outside"
             }
            },
            "type": "scatterternary"
           }
          ],
          "surface": [
           {
            "colorbar": {
             "outlinewidth": 1,
             "tickcolor": "rgb(36,36,36)",
             "ticks": "outside"
            },
            "colorscale": [
             [
              0,
              "#440154"
             ],
             [
              0.1111111111111111,
              "#482878"
             ],
             [
              0.2222222222222222,
              "#3e4989"
             ],
             [
              0.3333333333333333,
              "#31688e"
             ],
             [
              0.4444444444444444,
              "#26828e"
             ],
             [
              0.5555555555555556,
              "#1f9e89"
             ],
             [
              0.6666666666666666,
              "#35b779"
             ],
             [
              0.7777777777777778,
              "#6ece58"
             ],
             [
              0.8888888888888888,
              "#b5de2b"
             ],
             [
              1,
              "#fde725"
             ]
            ],
            "type": "surface"
           }
          ],
          "table": [
           {
            "cells": {
             "fill": {
              "color": "rgb(237,237,237)"
             },
             "line": {
              "color": "white"
             }
            },
            "header": {
             "fill": {
              "color": "rgb(217,217,217)"
             },
             "line": {
              "color": "white"
             }
            },
            "type": "table"
           }
          ]
         },
         "layout": {
          "annotationdefaults": {
           "arrowhead": 0,
           "arrowwidth": 1
          },
          "autotypenumbers": "strict",
          "coloraxis": {
           "colorbar": {
            "outlinewidth": 1,
            "tickcolor": "rgb(36,36,36)",
            "ticks": "outside"
           }
          },
          "colorscale": {
           "diverging": [
            [
             0,
             "rgb(103,0,31)"
            ],
            [
             0.1,
             "rgb(178,24,43)"
            ],
            [
             0.2,
             "rgb(214,96,77)"
            ],
            [
             0.3,
             "rgb(244,165,130)"
            ],
            [
             0.4,
             "rgb(253,219,199)"
            ],
            [
             0.5,
             "rgb(247,247,247)"
            ],
            [
             0.6,
             "rgb(209,229,240)"
            ],
            [
             0.7,
             "rgb(146,197,222)"
            ],
            [
             0.8,
             "rgb(67,147,195)"
            ],
            [
             0.9,
             "rgb(33,102,172)"
            ],
            [
             1,
             "rgb(5,48,97)"
            ]
           ],
           "sequential": [
            [
             0,
             "#440154"
            ],
            [
             0.1111111111111111,
             "#482878"
            ],
            [
             0.2222222222222222,
             "#3e4989"
            ],
            [
             0.3333333333333333,
             "#31688e"
            ],
            [
             0.4444444444444444,
             "#26828e"
            ],
            [
             0.5555555555555556,
             "#1f9e89"
            ],
            [
             0.6666666666666666,
             "#35b779"
            ],
            [
             0.7777777777777778,
             "#6ece58"
            ],
            [
             0.8888888888888888,
             "#b5de2b"
            ],
            [
             1,
             "#fde725"
            ]
           ],
           "sequentialminus": [
            [
             0,
             "#440154"
            ],
            [
             0.1111111111111111,
             "#482878"
            ],
            [
             0.2222222222222222,
             "#3e4989"
            ],
            [
             0.3333333333333333,
             "#31688e"
            ],
            [
             0.4444444444444444,
             "#26828e"
            ],
            [
             0.5555555555555556,
             "#1f9e89"
            ],
            [
             0.6666666666666666,
             "#35b779"
            ],
            [
             0.7777777777777778,
             "#6ece58"
            ],
            [
             0.8888888888888888,
             "#b5de2b"
            ],
            [
             1,
             "#fde725"
            ]
           ]
          },
          "colorway": [
           "#1F77B4",
           "#FF7F0E",
           "#2CA02C",
           "#D62728",
           "#9467BD",
           "#8C564B",
           "#E377C2",
           "#7F7F7F",
           "#BCBD22",
           "#17BECF"
          ],
          "font": {
           "color": "rgb(36,36,36)"
          },
          "geo": {
           "bgcolor": "white",
           "lakecolor": "white",
           "landcolor": "white",
           "showlakes": true,
           "showland": true,
           "subunitcolor": "white"
          },
          "hoverlabel": {
           "align": "left"
          },
          "hovermode": "closest",
          "mapbox": {
           "style": "light"
          },
          "paper_bgcolor": "white",
          "plot_bgcolor": "white",
          "polar": {
           "angularaxis": {
            "gridcolor": "rgb(232,232,232)",
            "linecolor": "rgb(36,36,36)",
            "showgrid": false,
            "showline": true,
            "ticks": "outside"
           },
           "bgcolor": "white",
           "radialaxis": {
            "gridcolor": "rgb(232,232,232)",
            "linecolor": "rgb(36,36,36)",
            "showgrid": false,
            "showline": true,
            "ticks": "outside"
           }
          },
          "scene": {
           "xaxis": {
            "backgroundcolor": "white",
            "gridcolor": "rgb(232,232,232)",
            "gridwidth": 2,
            "linecolor": "rgb(36,36,36)",
            "showbackground": true,
            "showgrid": false,
            "showline": true,
            "ticks": "outside",
            "zeroline": false,
            "zerolinecolor": "rgb(36,36,36)"
           },
           "yaxis": {
            "backgroundcolor": "white",
            "gridcolor": "rgb(232,232,232)",
            "gridwidth": 2,
            "linecolor": "rgb(36,36,36)",
            "showbackground": true,
            "showgrid": false,
            "showline": true,
            "ticks": "outside",
            "zeroline": false,
            "zerolinecolor": "rgb(36,36,36)"
           },
           "zaxis": {
            "backgroundcolor": "white",
            "gridcolor": "rgb(232,232,232)",
            "gridwidth": 2,
            "linecolor": "rgb(36,36,36)",
            "showbackground": true,
            "showgrid": false,
            "showline": true,
            "ticks": "outside",
            "zeroline": false,
            "zerolinecolor": "rgb(36,36,36)"
           }
          },
          "shapedefaults": {
           "fillcolor": "black",
           "line": {
            "width": 0
           },
           "opacity": 0.3
          },
          "ternary": {
           "aaxis": {
            "gridcolor": "rgb(232,232,232)",
            "linecolor": "rgb(36,36,36)",
            "showgrid": false,
            "showline": true,
            "ticks": "outside"
           },
           "baxis": {
            "gridcolor": "rgb(232,232,232)",
            "linecolor": "rgb(36,36,36)",
            "showgrid": false,
            "showline": true,
            "ticks": "outside"
           },
           "bgcolor": "white",
           "caxis": {
            "gridcolor": "rgb(232,232,232)",
            "linecolor": "rgb(36,36,36)",
            "showgrid": false,
            "showline": true,
            "ticks": "outside"
           }
          },
          "title": {
           "x": 0.05
          },
          "xaxis": {
           "automargin": true,
           "gridcolor": "rgb(232,232,232)",
           "linecolor": "rgb(36,36,36)",
           "showgrid": false,
           "showline": true,
           "ticks": "outside",
           "title": {
            "standoff": 15
           },
           "zeroline": false,
           "zerolinecolor": "rgb(36,36,36)"
          },
          "yaxis": {
           "automargin": true,
           "gridcolor": "rgb(232,232,232)",
           "linecolor": "rgb(36,36,36)",
           "showgrid": false,
           "showline": true,
           "ticks": "outside",
           "title": {
            "standoff": 15
           },
           "zeroline": false,
           "zerolinecolor": "rgb(36,36,36)"
          }
         }
        },
        "uniformtext": {
         "minsize": 10,
         "mode": "hide"
        },
        "width": 1000
       }
      }
     },
     "metadata": {},
     "output_type": "display_data"
    }
   ],
   "source": [
    "import plotly.io as pio\n",
    "\n",
    "pio.show(d)"
   ]
  }
 ],
 "metadata": {
  "kernelspec": {
   "display_name": "Python 3",
   "language": "python",
   "name": "python3"
  },
  "language_info": {
   "codemirror_mode": {
    "name": "ipython",
    "version": 3
   },
   "file_extension": ".py",
   "mimetype": "text/x-python",
   "name": "python",
   "nbconvert_exporter": "python",
   "pygments_lexer": "ipython3",
   "version": "3.10.2"
  },
  "orig_nbformat": 4
 },
 "nbformat": 4,
 "nbformat_minor": 2
}
