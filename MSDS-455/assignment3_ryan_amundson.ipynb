{
 "cells": [
  {
   "attachments": {},
   "cell_type": "markdown",
   "metadata": {},
   "source": [
    "# Sunburst chart of dinosaur taxonmoy\n",
    "## Source: https://exoplanetarchive.ipac.caltech.edu/cgi-bin/TblView/nph-tblView?app=ExoTbls&config=PS"
   ]
  },
  {
   "cell_type": "code",
   "execution_count": 1,
   "metadata": {},
   "outputs": [],
   "source": [
    "# This Python 3 environment comes with many helpful analytics libraries installed\n",
    "# It is defined by the kaggle/python Docker image: https://github.com/kaggle/docker-python\n",
    "# For example, here's several helpful packages to load\n",
    "\n",
    "import numpy as np # linear algebra\n",
    "import pandas as pd # data processing, CSV file I/O (e.g. pd.read_csv)\n",
    "import plotly.graph_objects as go\n",
    "import plotly.offline as po\n",
    "from plotly.offline import download_plotlyjs, init_notebook_mode, plot, iplot\n",
    "import matplotlib.pyplot as plt\n",
    "import plotly.express as px\n",
    "import random\n",
    "import plotly.figure_factory as ff"
   ]
  },
  {
   "cell_type": "code",
   "execution_count": 56,
   "metadata": {},
   "outputs": [
    {
     "data": {
      "text/html": [
       "<div>\n",
       "<style scoped>\n",
       "    .dataframe tbody tr th:only-of-type {\n",
       "        vertical-align: middle;\n",
       "    }\n",
       "\n",
       "    .dataframe tbody tr th {\n",
       "        vertical-align: top;\n",
       "    }\n",
       "\n",
       "    .dataframe thead th {\n",
       "        text-align: right;\n",
       "    }\n",
       "</style>\n",
       "<table border=\"1\" class=\"dataframe\">\n",
       "  <thead>\n",
       "    <tr style=\"text-align: right;\">\n",
       "      <th></th>\n",
       "      <th>orig_no</th>\n",
       "      <th>taxon_no</th>\n",
       "      <th>record_type</th>\n",
       "      <th>flags</th>\n",
       "      <th>taxon_rank</th>\n",
       "      <th>taxon_name</th>\n",
       "      <th>common_name</th>\n",
       "      <th>difference</th>\n",
       "      <th>accepted_no</th>\n",
       "      <th>accepted_rank</th>\n",
       "      <th>...</th>\n",
       "      <th>family_no</th>\n",
       "      <th>genus</th>\n",
       "      <th>genus_no</th>\n",
       "      <th>subgenus_no</th>\n",
       "      <th>type_taxon</th>\n",
       "      <th>type_taxon_no</th>\n",
       "      <th>n_orders</th>\n",
       "      <th>n_families</th>\n",
       "      <th>n_genera</th>\n",
       "      <th>n_species</th>\n",
       "    </tr>\n",
       "  </thead>\n",
       "  <tbody>\n",
       "    <tr>\n",
       "      <th>0</th>\n",
       "      <td>52775</td>\n",
       "      <td>91968</td>\n",
       "      <td>txn</td>\n",
       "      <td>B</td>\n",
       "      <td>unranked clade</td>\n",
       "      <td>Dinosauria</td>\n",
       "      <td>dinosaur</td>\n",
       "      <td>NaN</td>\n",
       "      <td>52775</td>\n",
       "      <td>unranked clade</td>\n",
       "      <td>...</td>\n",
       "      <td>NaN</td>\n",
       "      <td>NaN</td>\n",
       "      <td>NaN</td>\n",
       "      <td>NaN</td>\n",
       "      <td>NaN</td>\n",
       "      <td>NaN</td>\n",
       "      <td>108.0</td>\n",
       "      <td>511.0</td>\n",
       "      <td>3292.0</td>\n",
       "      <td>5711.0</td>\n",
       "    </tr>\n",
       "    <tr>\n",
       "      <th>1</th>\n",
       "      <td>304260</td>\n",
       "      <td>304260</td>\n",
       "      <td>txn</td>\n",
       "      <td>NaN</td>\n",
       "      <td>suborder</td>\n",
       "      <td>Diplodocia</td>\n",
       "      <td>NaN</td>\n",
       "      <td>NaN</td>\n",
       "      <td>304260</td>\n",
       "      <td>suborder</td>\n",
       "      <td>...</td>\n",
       "      <td>NaN</td>\n",
       "      <td>NaN</td>\n",
       "      <td>NaN</td>\n",
       "      <td>NaN</td>\n",
       "      <td>NaN</td>\n",
       "      <td>NaN</td>\n",
       "      <td>NaN</td>\n",
       "      <td>0.0</td>\n",
       "      <td>0.0</td>\n",
       "      <td>0.0</td>\n",
       "    </tr>\n",
       "    <tr>\n",
       "      <th>2</th>\n",
       "      <td>310482</td>\n",
       "      <td>310482</td>\n",
       "      <td>txn</td>\n",
       "      <td>NaN</td>\n",
       "      <td>unranked clade</td>\n",
       "      <td>Phytophagi</td>\n",
       "      <td>NaN</td>\n",
       "      <td>NaN</td>\n",
       "      <td>310482</td>\n",
       "      <td>unranked clade</td>\n",
       "      <td>...</td>\n",
       "      <td>NaN</td>\n",
       "      <td>NaN</td>\n",
       "      <td>NaN</td>\n",
       "      <td>NaN</td>\n",
       "      <td>NaN</td>\n",
       "      <td>NaN</td>\n",
       "      <td>0.0</td>\n",
       "      <td>0.0</td>\n",
       "      <td>0.0</td>\n",
       "      <td>0.0</td>\n",
       "    </tr>\n",
       "    <tr>\n",
       "      <th>3</th>\n",
       "      <td>162963</td>\n",
       "      <td>162963</td>\n",
       "      <td>txn</td>\n",
       "      <td>NaN</td>\n",
       "      <td>infraclass</td>\n",
       "      <td>Phytodinosauria</td>\n",
       "      <td>NaN</td>\n",
       "      <td>NaN</td>\n",
       "      <td>162963</td>\n",
       "      <td>infraclass</td>\n",
       "      <td>...</td>\n",
       "      <td>NaN</td>\n",
       "      <td>NaN</td>\n",
       "      <td>NaN</td>\n",
       "      <td>NaN</td>\n",
       "      <td>NaN</td>\n",
       "      <td>NaN</td>\n",
       "      <td>0.0</td>\n",
       "      <td>0.0</td>\n",
       "      <td>0.0</td>\n",
       "      <td>0.0</td>\n",
       "    </tr>\n",
       "    <tr>\n",
       "      <th>4</th>\n",
       "      <td>67913</td>\n",
       "      <td>67913</td>\n",
       "      <td>txn</td>\n",
       "      <td>NaN</td>\n",
       "      <td>superorder</td>\n",
       "      <td>Paleodinosauria</td>\n",
       "      <td>NaN</td>\n",
       "      <td>NaN</td>\n",
       "      <td>67913</td>\n",
       "      <td>superorder</td>\n",
       "      <td>...</td>\n",
       "      <td>NaN</td>\n",
       "      <td>NaN</td>\n",
       "      <td>NaN</td>\n",
       "      <td>NaN</td>\n",
       "      <td>NaN</td>\n",
       "      <td>NaN</td>\n",
       "      <td>1.0</td>\n",
       "      <td>0.0</td>\n",
       "      <td>0.0</td>\n",
       "      <td>0.0</td>\n",
       "    </tr>\n",
       "    <tr>\n",
       "      <th>...</th>\n",
       "      <td>...</td>\n",
       "      <td>...</td>\n",
       "      <td>...</td>\n",
       "      <td>...</td>\n",
       "      <td>...</td>\n",
       "      <td>...</td>\n",
       "      <td>...</td>\n",
       "      <td>...</td>\n",
       "      <td>...</td>\n",
       "      <td>...</td>\n",
       "      <td>...</td>\n",
       "      <td>...</td>\n",
       "      <td>...</td>\n",
       "      <td>...</td>\n",
       "      <td>...</td>\n",
       "      <td>...</td>\n",
       "      <td>...</td>\n",
       "      <td>...</td>\n",
       "      <td>...</td>\n",
       "      <td>...</td>\n",
       "      <td>...</td>\n",
       "    </tr>\n",
       "    <tr>\n",
       "      <th>4036</th>\n",
       "      <td>68500</td>\n",
       "      <td>68500</td>\n",
       "      <td>txn</td>\n",
       "      <td>NaN</td>\n",
       "      <td>species</td>\n",
       "      <td>Thecodontosaurus alophos</td>\n",
       "      <td>NaN</td>\n",
       "      <td>subjective synonym of</td>\n",
       "      <td>251932</td>\n",
       "      <td>species</td>\n",
       "      <td>...</td>\n",
       "      <td>NF</td>\n",
       "      <td>Nyasasaurus</td>\n",
       "      <td>153274</td>\n",
       "      <td>NaN</td>\n",
       "      <td>NaN</td>\n",
       "      <td>NaN</td>\n",
       "      <td>NaN</td>\n",
       "      <td>NaN</td>\n",
       "      <td>NaN</td>\n",
       "      <td>NaN</td>\n",
       "    </tr>\n",
       "    <tr>\n",
       "      <th>4037</th>\n",
       "      <td>441941</td>\n",
       "      <td>441941</td>\n",
       "      <td>txn</td>\n",
       "      <td>NaN</td>\n",
       "      <td>species</td>\n",
       "      <td>Nyasasaurus cromptoni</td>\n",
       "      <td>NaN</td>\n",
       "      <td>NaN</td>\n",
       "      <td>441941</td>\n",
       "      <td>species</td>\n",
       "      <td>...</td>\n",
       "      <td>NF</td>\n",
       "      <td>Nyasasaurus</td>\n",
       "      <td>153274</td>\n",
       "      <td>NaN</td>\n",
       "      <td>NaN</td>\n",
       "      <td>NaN</td>\n",
       "      <td>NaN</td>\n",
       "      <td>NaN</td>\n",
       "      <td>NaN</td>\n",
       "      <td>NaN</td>\n",
       "    </tr>\n",
       "    <tr>\n",
       "      <th>4038</th>\n",
       "      <td>69162</td>\n",
       "      <td>69162</td>\n",
       "      <td>txn</td>\n",
       "      <td>NaN</td>\n",
       "      <td>genus</td>\n",
       "      <td>Iguanodonichnus</td>\n",
       "      <td>NaN</td>\n",
       "      <td>nomen dubium</td>\n",
       "      <td>52775</td>\n",
       "      <td>unranked clade</td>\n",
       "      <td>...</td>\n",
       "      <td>NF</td>\n",
       "      <td>Iguanodonichnus</td>\n",
       "      <td>69162</td>\n",
       "      <td>NaN</td>\n",
       "      <td>NaN</td>\n",
       "      <td>NaN</td>\n",
       "      <td>NaN</td>\n",
       "      <td>NaN</td>\n",
       "      <td>NaN</td>\n",
       "      <td>0.0</td>\n",
       "    </tr>\n",
       "    <tr>\n",
       "      <th>4039</th>\n",
       "      <td>69163</td>\n",
       "      <td>69163</td>\n",
       "      <td>txn</td>\n",
       "      <td>NaN</td>\n",
       "      <td>species</td>\n",
       "      <td>Iguanodonichnus frenkii</td>\n",
       "      <td>NaN</td>\n",
       "      <td>nomen dubium</td>\n",
       "      <td>52775</td>\n",
       "      <td>unranked clade</td>\n",
       "      <td>...</td>\n",
       "      <td>NF</td>\n",
       "      <td>Iguanodonichnus</td>\n",
       "      <td>69162</td>\n",
       "      <td>NaN</td>\n",
       "      <td>NaN</td>\n",
       "      <td>NaN</td>\n",
       "      <td>NaN</td>\n",
       "      <td>NaN</td>\n",
       "      <td>NaN</td>\n",
       "      <td>NaN</td>\n",
       "    </tr>\n",
       "    <tr>\n",
       "      <th>4040</th>\n",
       "      <td>66823</td>\n",
       "      <td>66823</td>\n",
       "      <td>txn</td>\n",
       "      <td>NaN</td>\n",
       "      <td>family</td>\n",
       "      <td>Tretospondylia</td>\n",
       "      <td>NaN</td>\n",
       "      <td>NaN</td>\n",
       "      <td>66823</td>\n",
       "      <td>family</td>\n",
       "      <td>...</td>\n",
       "      <td>66823</td>\n",
       "      <td>NaN</td>\n",
       "      <td>NaN</td>\n",
       "      <td>NaN</td>\n",
       "      <td>NaN</td>\n",
       "      <td>NaN</td>\n",
       "      <td>NaN</td>\n",
       "      <td>NaN</td>\n",
       "      <td>0.0</td>\n",
       "      <td>0.0</td>\n",
       "    </tr>\n",
       "  </tbody>\n",
       "</table>\n",
       "<p>4041 rows × 40 columns</p>\n",
       "</div>"
      ],
      "text/plain": [
       "      orig_no  taxon_no record_type flags      taxon_rank   \n",
       "0       52775     91968         txn     B  unranked clade  \\\n",
       "1      304260    304260         txn   NaN        suborder   \n",
       "2      310482    310482         txn   NaN  unranked clade   \n",
       "3      162963    162963         txn   NaN      infraclass   \n",
       "4       67913     67913         txn   NaN      superorder   \n",
       "...       ...       ...         ...   ...             ...   \n",
       "4036    68500     68500         txn   NaN         species   \n",
       "4037   441941    441941         txn   NaN         species   \n",
       "4038    69162     69162         txn   NaN           genus   \n",
       "4039    69163     69163         txn   NaN         species   \n",
       "4040    66823     66823         txn   NaN          family   \n",
       "\n",
       "                    taxon_name common_name             difference   \n",
       "0                   Dinosauria    dinosaur                    NaN  \\\n",
       "1                   Diplodocia         NaN                    NaN   \n",
       "2                   Phytophagi         NaN                    NaN   \n",
       "3              Phytodinosauria         NaN                    NaN   \n",
       "4              Paleodinosauria         NaN                    NaN   \n",
       "...                        ...         ...                    ...   \n",
       "4036  Thecodontosaurus alophos         NaN  subjective synonym of   \n",
       "4037     Nyasasaurus cromptoni         NaN                    NaN   \n",
       "4038           Iguanodonichnus         NaN           nomen dubium   \n",
       "4039   Iguanodonichnus frenkii         NaN           nomen dubium   \n",
       "4040            Tretospondylia         NaN                    NaN   \n",
       "\n",
       "      accepted_no   accepted_rank  ... family_no            genus  genus_no   \n",
       "0           52775  unranked clade  ...       NaN              NaN       NaN  \\\n",
       "1          304260        suborder  ...       NaN              NaN       NaN   \n",
       "2          310482  unranked clade  ...       NaN              NaN       NaN   \n",
       "3          162963      infraclass  ...       NaN              NaN       NaN   \n",
       "4           67913      superorder  ...       NaN              NaN       NaN   \n",
       "...           ...             ...  ...       ...              ...       ...   \n",
       "4036       251932         species  ...        NF      Nyasasaurus    153274   \n",
       "4037       441941         species  ...        NF      Nyasasaurus    153274   \n",
       "4038        52775  unranked clade  ...        NF  Iguanodonichnus     69162   \n",
       "4039        52775  unranked clade  ...        NF  Iguanodonichnus     69162   \n",
       "4040        66823          family  ...     66823              NaN       NaN   \n",
       "\n",
       "     subgenus_no  type_taxon  type_taxon_no  n_orders  n_families  n_genera   \n",
       "0            NaN         NaN            NaN     108.0       511.0    3292.0  \\\n",
       "1            NaN         NaN            NaN       NaN         0.0       0.0   \n",
       "2            NaN         NaN            NaN       0.0         0.0       0.0   \n",
       "3            NaN         NaN            NaN       0.0         0.0       0.0   \n",
       "4            NaN         NaN            NaN       1.0         0.0       0.0   \n",
       "...          ...         ...            ...       ...         ...       ...   \n",
       "4036         NaN         NaN            NaN       NaN         NaN       NaN   \n",
       "4037         NaN         NaN            NaN       NaN         NaN       NaN   \n",
       "4038         NaN         NaN            NaN       NaN         NaN       NaN   \n",
       "4039         NaN         NaN            NaN       NaN         NaN       NaN   \n",
       "4040         NaN         NaN            NaN       NaN         NaN       0.0   \n",
       "\n",
       "     n_species  \n",
       "0       5711.0  \n",
       "1          0.0  \n",
       "2          0.0  \n",
       "3          0.0  \n",
       "4          0.0  \n",
       "...        ...  \n",
       "4036       NaN  \n",
       "4037       NaN  \n",
       "4038       0.0  \n",
       "4039       NaN  \n",
       "4040       0.0  \n",
       "\n",
       "[4041 rows x 40 columns]"
      ]
     },
     "execution_count": 56,
     "metadata": {},
     "output_type": "execute_result"
    }
   ],
   "source": [
    "# load the Taxon data\n",
    "df = pd.read_csv(\"pbdb_data_taxon_non_aves2.csv\")\n",
    "df"
   ]
  },
  {
   "cell_type": "code",
   "execution_count": 57,
   "metadata": {},
   "outputs": [
    {
     "data": {
      "text/plain": [
       "Index(['orig_no', 'taxon_no', 'record_type', 'flags', 'taxon_rank',\n",
       "       'taxon_name', 'common_name', 'difference', 'accepted_no',\n",
       "       'accepted_rank', 'accepted_name', 'parent_no', 'reference_no',\n",
       "       'is_extant', 'n_occs', 'firstapp_max_ma', 'firstapp_min_ma',\n",
       "       'lastapp_max_ma', 'lastapp_min_ma', 'early_interval', 'late_interval',\n",
       "       'taxon_size', 'extant_size', 'phylum', 'phylum_no', 'class', 'class_no',\n",
       "       'order', 'order_no', 'family', 'family_no', 'genus', 'genus_no',\n",
       "       'subgenus_no', 'type_taxon', 'type_taxon_no', 'n_orders', 'n_families',\n",
       "       'n_genera', 'n_species'],\n",
       "      dtype='object')"
      ]
     },
     "execution_count": 57,
     "metadata": {},
     "output_type": "execute_result"
    }
   ],
   "source": [
    "df.columns"
   ]
  },
  {
   "cell_type": "code",
   "execution_count": 58,
   "metadata": {},
   "outputs": [
    {
     "data": {
      "text/plain": [
       "orig_no            4041\n",
       "taxon_no           4040\n",
       "record_type           1\n",
       "flags                 1\n",
       "taxon_rank           13\n",
       "taxon_name         4028\n",
       "common_name         104\n",
       "difference            8\n",
       "accepted_no        3033\n",
       "accepted_rank        13\n",
       "accepted_name      3027\n",
       "parent_no          1591\n",
       "reference_no       1815\n",
       "is_extant             2\n",
       "n_occs              170\n",
       "firstapp_max_ma      55\n",
       "firstapp_min_ma      58\n",
       "lastapp_max_ma       58\n",
       "lastapp_min_ma       60\n",
       "early_interval       37\n",
       "late_interval        34\n",
       "taxon_size          109\n",
       "extant_size          15\n",
       "phylum                1\n",
       "phylum_no             1\n",
       "class                 3\n",
       "class_no              3\n",
       "order                 9\n",
       "order_no              9\n",
       "family              142\n",
       "family_no           147\n",
       "genus              1403\n",
       "genus_no           1404\n",
       "subgenus_no           2\n",
       "type_taxon          725\n",
       "type_taxon_no       725\n",
       "n_orders              7\n",
       "n_families           26\n",
       "n_genera             76\n",
       "n_species            76\n",
       "dtype: int64"
      ]
     },
     "execution_count": 58,
     "metadata": {},
     "output_type": "execute_result"
    }
   ],
   "source": [
    "df.nunique()"
   ]
  },
  {
   "cell_type": "code",
   "execution_count": 59,
   "metadata": {},
   "outputs": [
    {
     "data": {
      "text/html": [
       "<div>\n",
       "<style scoped>\n",
       "    .dataframe tbody tr th:only-of-type {\n",
       "        vertical-align: middle;\n",
       "    }\n",
       "\n",
       "    .dataframe tbody tr th {\n",
       "        vertical-align: top;\n",
       "    }\n",
       "\n",
       "    .dataframe thead th {\n",
       "        text-align: right;\n",
       "    }\n",
       "</style>\n",
       "<table border=\"1\" class=\"dataframe\">\n",
       "  <thead>\n",
       "    <tr style=\"text-align: right;\">\n",
       "      <th></th>\n",
       "      <th>orig_no</th>\n",
       "      <th>taxon_no</th>\n",
       "      <th>record_type</th>\n",
       "      <th>flags</th>\n",
       "      <th>taxon_rank</th>\n",
       "      <th>taxon_name</th>\n",
       "      <th>common_name</th>\n",
       "      <th>difference</th>\n",
       "      <th>accepted_no</th>\n",
       "      <th>accepted_rank</th>\n",
       "      <th>...</th>\n",
       "      <th>family_no</th>\n",
       "      <th>genus</th>\n",
       "      <th>genus_no</th>\n",
       "      <th>subgenus_no</th>\n",
       "      <th>type_taxon</th>\n",
       "      <th>type_taxon_no</th>\n",
       "      <th>n_orders</th>\n",
       "      <th>n_families</th>\n",
       "      <th>n_genera</th>\n",
       "      <th>n_species</th>\n",
       "    </tr>\n",
       "  </thead>\n",
       "  <tbody>\n",
       "    <tr>\n",
       "      <th>29</th>\n",
       "      <td>378702</td>\n",
       "      <td>378702</td>\n",
       "      <td>txn</td>\n",
       "      <td>NaN</td>\n",
       "      <td>genus</td>\n",
       "      <td>Ingentia</td>\n",
       "      <td>NaN</td>\n",
       "      <td>NaN</td>\n",
       "      <td>378702</td>\n",
       "      <td>genus</td>\n",
       "      <td>...</td>\n",
       "      <td>378704</td>\n",
       "      <td>Ingentia</td>\n",
       "      <td>378702</td>\n",
       "      <td>NaN</td>\n",
       "      <td>Ingentia prima</td>\n",
       "      <td>378703.0</td>\n",
       "      <td>NaN</td>\n",
       "      <td>NaN</td>\n",
       "      <td>NaN</td>\n",
       "      <td>1.0</td>\n",
       "    </tr>\n",
       "    <tr>\n",
       "      <th>30</th>\n",
       "      <td>378703</td>\n",
       "      <td>378703</td>\n",
       "      <td>txn</td>\n",
       "      <td>NaN</td>\n",
       "      <td>species</td>\n",
       "      <td>Ingentia prima</td>\n",
       "      <td>NaN</td>\n",
       "      <td>NaN</td>\n",
       "      <td>378703</td>\n",
       "      <td>species</td>\n",
       "      <td>...</td>\n",
       "      <td>378704</td>\n",
       "      <td>Ingentia</td>\n",
       "      <td>378702</td>\n",
       "      <td>NaN</td>\n",
       "      <td>NaN</td>\n",
       "      <td>NaN</td>\n",
       "      <td>NaN</td>\n",
       "      <td>NaN</td>\n",
       "      <td>NaN</td>\n",
       "      <td>NaN</td>\n",
       "    </tr>\n",
       "    <tr>\n",
       "      <th>31</th>\n",
       "      <td>68587</td>\n",
       "      <td>68587</td>\n",
       "      <td>txn</td>\n",
       "      <td>NaN</td>\n",
       "      <td>genus</td>\n",
       "      <td>Lessemsaurus</td>\n",
       "      <td>NaN</td>\n",
       "      <td>NaN</td>\n",
       "      <td>68587</td>\n",
       "      <td>genus</td>\n",
       "      <td>...</td>\n",
       "      <td>378704</td>\n",
       "      <td>Lessemsaurus</td>\n",
       "      <td>68587</td>\n",
       "      <td>NaN</td>\n",
       "      <td>Lessemsaurus sauropoides</td>\n",
       "      <td>68588.0</td>\n",
       "      <td>NaN</td>\n",
       "      <td>NaN</td>\n",
       "      <td>NaN</td>\n",
       "      <td>1.0</td>\n",
       "    </tr>\n",
       "    <tr>\n",
       "      <th>32</th>\n",
       "      <td>68588</td>\n",
       "      <td>68588</td>\n",
       "      <td>txn</td>\n",
       "      <td>NaN</td>\n",
       "      <td>species</td>\n",
       "      <td>Lessemsaurus sauropoides</td>\n",
       "      <td>NaN</td>\n",
       "      <td>NaN</td>\n",
       "      <td>68588</td>\n",
       "      <td>species</td>\n",
       "      <td>...</td>\n",
       "      <td>378704</td>\n",
       "      <td>Lessemsaurus</td>\n",
       "      <td>68587</td>\n",
       "      <td>NaN</td>\n",
       "      <td>NaN</td>\n",
       "      <td>NaN</td>\n",
       "      <td>NaN</td>\n",
       "      <td>NaN</td>\n",
       "      <td>NaN</td>\n",
       "      <td>NaN</td>\n",
       "    </tr>\n",
       "    <tr>\n",
       "      <th>33</th>\n",
       "      <td>57753</td>\n",
       "      <td>57753</td>\n",
       "      <td>txn</td>\n",
       "      <td>NaN</td>\n",
       "      <td>genus</td>\n",
       "      <td>Antetonitrus</td>\n",
       "      <td>NaN</td>\n",
       "      <td>NaN</td>\n",
       "      <td>57753</td>\n",
       "      <td>genus</td>\n",
       "      <td>...</td>\n",
       "      <td>378704</td>\n",
       "      <td>Antetonitrus</td>\n",
       "      <td>57753</td>\n",
       "      <td>NaN</td>\n",
       "      <td>NaN</td>\n",
       "      <td>NaN</td>\n",
       "      <td>NaN</td>\n",
       "      <td>NaN</td>\n",
       "      <td>NaN</td>\n",
       "      <td>1.0</td>\n",
       "    </tr>\n",
       "  </tbody>\n",
       "</table>\n",
       "<p>5 rows × 40 columns</p>\n",
       "</div>"
      ],
      "text/plain": [
       "    orig_no  taxon_no record_type flags taxon_rank                taxon_name   \n",
       "29   378702    378702         txn   NaN      genus                  Ingentia  \\\n",
       "30   378703    378703         txn   NaN    species            Ingentia prima   \n",
       "31    68587     68587         txn   NaN      genus              Lessemsaurus   \n",
       "32    68588     68588         txn   NaN    species  Lessemsaurus sauropoides   \n",
       "33    57753     57753         txn   NaN      genus              Antetonitrus   \n",
       "\n",
       "   common_name difference  accepted_no accepted_rank  ... family_no   \n",
       "29         NaN        NaN       378702         genus  ...    378704  \\\n",
       "30         NaN        NaN       378703       species  ...    378704   \n",
       "31         NaN        NaN        68587         genus  ...    378704   \n",
       "32         NaN        NaN        68588       species  ...    378704   \n",
       "33         NaN        NaN        57753         genus  ...    378704   \n",
       "\n",
       "           genus  genus_no subgenus_no                type_taxon   \n",
       "29      Ingentia    378702         NaN            Ingentia prima  \\\n",
       "30      Ingentia    378702         NaN                       NaN   \n",
       "31  Lessemsaurus     68587         NaN  Lessemsaurus sauropoides   \n",
       "32  Lessemsaurus     68587         NaN                       NaN   \n",
       "33  Antetonitrus     57753         NaN                       NaN   \n",
       "\n",
       "    type_taxon_no  n_orders  n_families  n_genera n_species  \n",
       "29       378703.0       NaN         NaN       NaN       1.0  \n",
       "30            NaN       NaN         NaN       NaN       NaN  \n",
       "31        68588.0       NaN         NaN       NaN       1.0  \n",
       "32            NaN       NaN         NaN       NaN       NaN  \n",
       "33            NaN       NaN         NaN       NaN       1.0  \n",
       "\n",
       "[5 rows x 40 columns]"
      ]
     },
     "execution_count": 59,
     "metadata": {},
     "output_type": "execute_result"
    }
   ],
   "source": [
    "# Remove any NaN values\n",
    "df = df.dropna(subset=[\"family\",\"class\",\"order\",\"genus\"])\n",
    "\n",
    "df = df[df.family != \"NO_FAMILY_SPECIFIED\"]\n",
    "df = df[df.genus != \"NO_GENUS_SPECIFIED\"]\n",
    "df.head()"
   ]
  },
  {
   "cell_type": "code",
   "execution_count": 60,
   "metadata": {},
   "outputs": [],
   "source": [
    "# Remove all the very small families\n",
    "df = df.groupby('genus').filter(lambda x : len(x)>3)\n"
   ]
  },
  {
   "cell_type": "code",
   "execution_count": 75,
   "metadata": {},
   "outputs": [],
   "source": [
    "# Create a midpoint of firat apperence and last apperance\n",
    "df[\"mid\"] = ((df[\"firstapp_max_ma\"] + df[\"lastapp_min_ma\"]) / 2)\n",
    "\n",
    "# Revomve missing\n",
    "df = df.dropna(subset=[\"mid\"])\n",
    "\n",
    "# Convert to float\n",
    "df[\"mid\"] = df[\"mid\"].astype(float)"
   ]
  },
  {
   "cell_type": "code",
   "execution_count": 149,
   "metadata": {},
   "outputs": [
    {
     "data": {
      "text/html": [
       "<div>\n",
       "<style scoped>\n",
       "    .dataframe tbody tr th:only-of-type {\n",
       "        vertical-align: middle;\n",
       "    }\n",
       "\n",
       "    .dataframe tbody tr th {\n",
       "        vertical-align: top;\n",
       "    }\n",
       "\n",
       "    .dataframe thead th {\n",
       "        text-align: right;\n",
       "    }\n",
       "</style>\n",
       "<table border=\"1\" class=\"dataframe\">\n",
       "  <thead>\n",
       "    <tr style=\"text-align: right;\">\n",
       "      <th></th>\n",
       "      <th>family</th>\n",
       "      <th>class</th>\n",
       "      <th>order</th>\n",
       "      <th>genus</th>\n",
       "      <th>mid</th>\n",
       "      <th>extant_size</th>\n",
       "    </tr>\n",
       "  </thead>\n",
       "  <tbody>\n",
       "    <tr>\n",
       "      <th>3306</th>\n",
       "      <td>Ceratopsidae</td>\n",
       "      <td>Ornithischia</td>\n",
       "      <td>NO_ORDER_SPECIFIED</td>\n",
       "      <td>Torosaurus</td>\n",
       "      <td>68.30</td>\n",
       "      <td>0</td>\n",
       "    </tr>\n",
       "    <tr>\n",
       "      <th>3330</th>\n",
       "      <td>Chaoyangsauridae</td>\n",
       "      <td>Ornithischia</td>\n",
       "      <td>NO_ORDER_SPECIFIED</td>\n",
       "      <td>Chaoyangsaurus</td>\n",
       "      <td>144.30</td>\n",
       "      <td>0</td>\n",
       "    </tr>\n",
       "    <tr>\n",
       "      <th>3331</th>\n",
       "      <td>Chaoyangsauridae</td>\n",
       "      <td>Ornithischia</td>\n",
       "      <td>NO_ORDER_SPECIFIED</td>\n",
       "      <td>Chaoyangsaurus</td>\n",
       "      <td>144.30</td>\n",
       "      <td>0</td>\n",
       "    </tr>\n",
       "    <tr>\n",
       "      <th>3332</th>\n",
       "      <td>Chaoyangsauridae</td>\n",
       "      <td>Ornithischia</td>\n",
       "      <td>NO_ORDER_SPECIFIED</td>\n",
       "      <td>Chaoyangsaurus</td>\n",
       "      <td>144.30</td>\n",
       "      <td>0</td>\n",
       "    </tr>\n",
       "    <tr>\n",
       "      <th>3333</th>\n",
       "      <td>Chaoyangsauridae</td>\n",
       "      <td>Ornithischia</td>\n",
       "      <td>NO_ORDER_SPECIFIED</td>\n",
       "      <td>Chaoyangsaurus</td>\n",
       "      <td>144.30</td>\n",
       "      <td>0</td>\n",
       "    </tr>\n",
       "    <tr>\n",
       "      <th>...</th>\n",
       "      <td>...</td>\n",
       "      <td>...</td>\n",
       "      <td>...</td>\n",
       "      <td>...</td>\n",
       "      <td>...</td>\n",
       "      <td>...</td>\n",
       "    </tr>\n",
       "    <tr>\n",
       "      <th>3890</th>\n",
       "      <td>Rhabdodontidae</td>\n",
       "      <td>Ornithischia</td>\n",
       "      <td>NO_ORDER_SPECIFIED</td>\n",
       "      <td>Zalmoxes</td>\n",
       "      <td>74.75</td>\n",
       "      <td>0</td>\n",
       "    </tr>\n",
       "    <tr>\n",
       "      <th>3891</th>\n",
       "      <td>Rhabdodontidae</td>\n",
       "      <td>Ornithischia</td>\n",
       "      <td>NO_ORDER_SPECIFIED</td>\n",
       "      <td>Zalmoxes</td>\n",
       "      <td>74.75</td>\n",
       "      <td>0</td>\n",
       "    </tr>\n",
       "    <tr>\n",
       "      <th>3892</th>\n",
       "      <td>Rhabdodontidae</td>\n",
       "      <td>Ornithischia</td>\n",
       "      <td>NO_ORDER_SPECIFIED</td>\n",
       "      <td>Zalmoxes</td>\n",
       "      <td>74.75</td>\n",
       "      <td>0</td>\n",
       "    </tr>\n",
       "    <tr>\n",
       "      <th>3893</th>\n",
       "      <td>Rhabdodontidae</td>\n",
       "      <td>Ornithischia</td>\n",
       "      <td>NO_ORDER_SPECIFIED</td>\n",
       "      <td>Zalmoxes</td>\n",
       "      <td>68.30</td>\n",
       "      <td>0</td>\n",
       "    </tr>\n",
       "    <tr>\n",
       "      <th>3894</th>\n",
       "      <td>Rhabdodontidae</td>\n",
       "      <td>Ornithischia</td>\n",
       "      <td>NO_ORDER_SPECIFIED</td>\n",
       "      <td>Zalmoxes</td>\n",
       "      <td>74.75</td>\n",
       "      <td>0</td>\n",
       "    </tr>\n",
       "  </tbody>\n",
       "</table>\n",
       "<p>100 rows × 6 columns</p>\n",
       "</div>"
      ],
      "text/plain": [
       "                family         class               order           genus   \n",
       "3306      Ceratopsidae  Ornithischia  NO_ORDER_SPECIFIED      Torosaurus  \\\n",
       "3330  Chaoyangsauridae  Ornithischia  NO_ORDER_SPECIFIED  Chaoyangsaurus   \n",
       "3331  Chaoyangsauridae  Ornithischia  NO_ORDER_SPECIFIED  Chaoyangsaurus   \n",
       "3332  Chaoyangsauridae  Ornithischia  NO_ORDER_SPECIFIED  Chaoyangsaurus   \n",
       "3333  Chaoyangsauridae  Ornithischia  NO_ORDER_SPECIFIED  Chaoyangsaurus   \n",
       "...                ...           ...                 ...             ...   \n",
       "3890    Rhabdodontidae  Ornithischia  NO_ORDER_SPECIFIED        Zalmoxes   \n",
       "3891    Rhabdodontidae  Ornithischia  NO_ORDER_SPECIFIED        Zalmoxes   \n",
       "3892    Rhabdodontidae  Ornithischia  NO_ORDER_SPECIFIED        Zalmoxes   \n",
       "3893    Rhabdodontidae  Ornithischia  NO_ORDER_SPECIFIED        Zalmoxes   \n",
       "3894    Rhabdodontidae  Ornithischia  NO_ORDER_SPECIFIED        Zalmoxes   \n",
       "\n",
       "         mid  extant_size  \n",
       "3306   68.30            0  \n",
       "3330  144.30            0  \n",
       "3331  144.30            0  \n",
       "3332  144.30            0  \n",
       "3333  144.30            0  \n",
       "...      ...          ...  \n",
       "3890   74.75            0  \n",
       "3891   74.75            0  \n",
       "3892   74.75            0  \n",
       "3893   68.30            0  \n",
       "3894   74.75            0  \n",
       "\n",
       "[100 rows x 6 columns]"
      ]
     },
     "execution_count": 149,
     "metadata": {},
     "output_type": "execute_result"
    }
   ],
   "source": [
    "df[[\"family\",\"class\",\"order\",\"genus\",\"mid\",\"extant_size\"]].tail(100)"
   ]
  },
  {
   "cell_type": "code",
   "execution_count": 252,
   "metadata": {},
   "outputs": [
    {
     "data": {
      "application/vnd.plotly.v1+json": {
       "config": {
        "plotlyServerURL": "https://plot.ly"
       },
       "data": [
        {
         "branchvalues": "total",
         "customdata": [
          [
           69.05
          ],
          [
           69.05
          ],
          [
           151.93600671361813
          ],
          [
           125.93000000000002
          ],
          [
           74.75
          ],
          [
           75.94166941060257
          ],
          [
           132.82499999999996
          ],
          [
           152.45554280091832
          ],
          [
           151.15
          ],
          [
           152.2775095057034
          ],
          [
           112.29328257948947
          ],
          [
           76.72624375407344
          ],
          [
           144.3
          ],
          [
           77.07000778513041
          ],
          [
           76.1466767371601
          ],
          [
           165.9
          ],
          [
           72.52064941067714
          ],
          [
           212.21665487664694
          ],
          [
           77.093753546818
          ],
          [
           147.20895696913
          ],
          [
           76.52528181669662
          ],
          [
           77.1
          ],
          [
           151.93600671361813
          ],
          [
           74.75
          ],
          [
           75.66778042170665
          ],
          [
           69.05
          ],
          [
           214.65
          ],
          [
           154.25
          ],
          [
           107.40000000000002
          ],
          [
           76.7798660215854
          ],
          [
           75.73817109469739
          ],
          [
           232.5
          ],
          [
           74.01803112313937
          ],
          [
           75.27124634600054
          ],
          [
           68.3
          ],
          [
           77.09500291847718
          ],
          [
           188.45021902170308
          ],
          [
           194.04613451874764
          ],
          [
           69.05
          ],
          [
           154.86315189791304
          ],
          [
           133.73
          ],
          [
           196.70404717461398
          ],
          [
           158.53116158446778
          ],
          [
           166.19999999999996
          ],
          [
           119
          ],
          [
           150.99067819060866
          ],
          [
           78.87592749629
          ],
          [
           77.07000778513039
          ],
          [
           78.57092472922547
          ],
          [
           161.49215817925145
          ],
          [
           73.07821997105644
          ],
          [
           73.8569357300322
          ],
          [
           77.05
          ],
          [
           91.18605644262902
          ],
          [
           216.04600178580284
          ],
          [
           123.02390243902437
          ],
          [
           91.07603032004491
          ],
          [
           74.75
          ],
          [
           101.77466821499668
          ],
          [
           218.25
          ],
          [
           85.55
          ],
          [
           218.25
          ],
          [
           75.92954882265767
          ],
          [
           79.25088579563429
          ],
          [
           74.01803112313937
          ],
          [
           107.92006671608597
          ],
          [
           222.75
          ],
          [
           142.86580931203727
          ],
          [
           74.49737851969108
          ],
          [
           77.05
          ],
          [
           151.15000000000003
          ],
          [
           77.90000000000002
          ],
          [
           73.57071126856519
          ],
          [
           70.38327405299661
          ],
          [
           152.14192505752166
          ],
          [
           80.20869360902255
          ],
          [
           73.63962905418528
          ],
          [
           74.77334165477887
          ],
          [
           77.05
          ],
          [
           159.8762765305882
          ],
          [
           73.75342721411604
          ],
          [
           69.05
          ],
          [
           89.89230842056858
          ],
          [
           154.25
          ],
          [
           73.16258278145696
          ],
          [
           152.2775095057034
          ],
          [
           112.29328257948947
          ],
          [
           75.19699921002145
          ],
          [
           144.3
          ],
          [
           212.21665487664694
          ],
          [
           125.93000000000002
          ],
          [
           151.57208110464433
          ],
          [
           106.37562350345719
          ],
          [
           75.87632766753414
          ],
          [
           228.6998031496063
          ],
          [
           194.04613451874764
          ],
          [
           133.27903631520695
          ],
          [
           158.66616919442325
          ],
          [
           192.0728912970618
          ],
          [
           157.6152609106212
          ],
          [
           159.8762765305882
          ],
          [
           92.88732818058055
          ],
          [
           73.07821997105644
          ],
          [
           74.01803112313937
          ],
          [
           74.01803112313937
          ],
          [
           216.04600178580284
          ],
          [
           84.93903131050136
          ],
          [
           75.19337926154101
          ],
          [
           216.2647976878613
          ],
          [
           78.57092472922547
          ],
          [
           218.25
          ],
          [
           107.92006671608597
          ],
          [
           149.09197378160428
          ],
          [
           75.43999624949512
          ],
          [
           101.64544851870487
          ],
          [
           156.0808665479926
          ]
         ],
         "domain": {
          "x": [
           0,
           1
          ],
          "y": [
           0,
           1
          ]
         },
         "hovertemplate": "%{label}<br>MA: %{value}<br><extra></extra>",
         "ids": [
          "Saurischia/Tyrannosauridae/Alioramus",
          "Ornithischia/Hadrosauridae/Amurosaurus",
          "Saurischia/Diplodocidae/Apatosaurus",
          "Saurischia/Compsognathidae/Aristosuchus",
          "Saurischia/Tyrannosauridae/Aublysodon",
          "Ornithischia/Protoceratopsidae/Bagaceratops",
          "Ornithischia/Iguanodontidae/Barilium",
          "Saurischia/Diplodocidae/Barosaurus",
          "Saurischia/Diplodocidae/Brontosaurus",
          "Saurischia/Camarasauridae/Camarasaurus",
          "Saurischia/Carcharodontosauridae/Carcharodontosaurus",
          "Ornithischia/Ceratopsidae/Centrosaurus",
          "Ornithischia/Chaoyangsauridae/Chaoyangsaurus",
          "Ornithischia/Ceratopsidae/Chasmosaurus",
          "Saurischia/Caenagnathidae/Chirostenotes",
          "Ornithischia/Stegosauridae/Chungkingosaurus",
          "Ornithischia/Hadrosauridae/Cionodon",
          "Saurischia/Coelophysidae/Coelophysis",
          "Ornithischia/Hadrosauridae/Corythosaurus",
          "Ornithischia/Stegosauridae/Dacentrurus",
          "Saurischia/Tyrannosauridae/Daspletosaurus",
          "Ornithischia/Hadrosauridae/Diclonius",
          "Saurischia/Diplodocidae/Diplodocus",
          "Ornithischia/Nodosauridae/Edmontonia",
          "Ornithischia/Hadrosauridae/Edmontosaurus",
          "Saurischia/Caenagnathidae/Elmisaurus",
          "Saurischia/Riojasauridae/Eucnemesaurus",
          "Saurischia/Brachiosauridae/Giraffatitan",
          "Ornithischia/Ankylosauridae/Gobisaurus",
          "Saurischia/Tyrannosauridae/Gorgosaurus",
          "Ornithischia/Hadrosauridae/Gryposaurus",
          "Saurischia/Herrerasauridae/Herrerasaurus",
          "Saurischia/Oviraptoridae/Heyuannia",
          "Ornithischia/Hadrosauridae/Hypacrosaurus",
          "Ornithischia/Hadrosauridae/Kerberosaurus",
          "Ornithischia/Hadrosauridae/Lambeosaurus",
          "Saurischia/Massospondylidae/Lufengosaurus",
          "Ornithischia/Heterodontosauridae/Lycorhinus",
          "Saurischia/Abelisauridae/Majungasaurus",
          "Saurischia/Mamenchisauridae/Mamenchisaurus",
          "Ornithischia/Iguanodontidae/Mantellisaurus",
          "Saurischia/Massospondylidae/Massospondylus",
          "Saurischia/Megalosauridae/Megalosaurus",
          "Saurischia/Megalosauridae/Megalosaurus (Poekilopleuron)",
          "Saurischia/Dromaeosauridae/Microraptor",
          "Ornithischia/Stegosauridae/Miragaia",
          "Ornithischia/Rhabdodontidae/Mochlodon",
          "Ornithischia/Ceratopsidae/Monoclonius",
          "Saurischia/Saltasauridae/Neuquensaurus",
          "Saurischia/Mamenchisauridae/Omeisaurus",
          "Saurischia/Ornithomimidae/Ornithomimus",
          "Ornithischia/Ceratopsidae/Pachyrhinosaurus",
          "Ornithischia/Hadrosauridae/Parasaurolophus",
          "Ornithischia/Ankylosauridae/Pinacosaurus",
          "Saurischia/Plateosauridae/Plateosaurus",
          "Ornithischia/Nodosauridae/Polacanthus",
          "Ornithischia/Protoceratopsidae/Protoceratops",
          "Ornithischia/Rhabdodontidae/Rhabdodon",
          "Saurischia/Dromaeosauridae/Richardoestesia",
          "Saurischia/Riojasauridae/Riojasaurus",
          "Ornithischia/Ankylosauridae/Saichania",
          "Saurischia/Sauropodidae/Sauropus",
          "Saurischia/Dromaeosauridae/Saurornitholestes",
          "Ornithischia/Hadrosauridae/Shantungosaurus",
          "Ornithischia/Pachycephalosauridae/Sphaerotholus",
          "Saurischia/Spinosauridae/Spinosaurus",
          "Saurischia/Herrerasauridae/Staurikosaurus",
          "Ornithischia/Stegosauridae/Stegosaurus",
          "Ornithischia/Nodosauridae/Struthiosaurus",
          "Ornithischia/Ceratopsidae/Styracosaurus",
          "Saurischia/Diplodocidae/Supersaurus",
          "Saurischia/Tyrannosauridae/Tarbosaurus",
          "Ornithischia/Ankylosauridae/Tarchia",
          "Ornithischia/Ceratopsidae/Torosaurus",
          "Saurischia/Megalosauridae/Torvosaurus",
          "Ornithischia/Hadrosauridae/Trachodon",
          "Ornithischia/Ceratopsidae/Triceratops",
          "Saurischia/Tyrannosauridae/Tyrannosaurus",
          "Ornithischia/Ceratopsidae/Vagaceratops",
          "Saurischia/Metriacanthosauridae/Yangchuanosaurus",
          "Ornithischia/Rhabdodontidae/Zalmoxes",
          "Saurischia/Abelisauridae",
          "Ornithischia/Ankylosauridae",
          "Saurischia/Brachiosauridae",
          "Saurischia/Caenagnathidae",
          "Saurischia/Camarasauridae",
          "Saurischia/Carcharodontosauridae",
          "Ornithischia/Ceratopsidae",
          "Ornithischia/Chaoyangsauridae",
          "Saurischia/Coelophysidae",
          "Saurischia/Compsognathidae",
          "Saurischia/Diplodocidae",
          "Saurischia/Dromaeosauridae",
          "Ornithischia/Hadrosauridae",
          "Saurischia/Herrerasauridae",
          "Ornithischia/Heterodontosauridae",
          "Ornithischia/Iguanodontidae",
          "Saurischia/Mamenchisauridae",
          "Saurischia/Massospondylidae",
          "Saurischia/Megalosauridae",
          "Saurischia/Metriacanthosauridae",
          "Ornithischia/Nodosauridae",
          "Saurischia/Ornithomimidae",
          "Saurischia/Oviraptoridae",
          "Ornithischia/Pachycephalosauridae",
          "Saurischia/Plateosauridae",
          "Ornithischia/Protoceratopsidae",
          "Ornithischia/Rhabdodontidae",
          "Saurischia/Riojasauridae",
          "Saurischia/Saltasauridae",
          "Saurischia/Sauropodidae",
          "Saurischia/Spinosauridae",
          "Ornithischia/Stegosauridae",
          "Saurischia/Tyrannosauridae",
          "Ornithischia",
          "Saurischia"
         ],
         "insidetextorientation": "auto",
         "labels": [
          "Alioramus",
          "Amurosaurus",
          "Apatosaurus",
          "Aristosuchus",
          "Aublysodon",
          "Bagaceratops",
          "Barilium",
          "Barosaurus",
          "Brontosaurus",
          "Camarasaurus",
          "Carcharodontosaurus",
          "Centrosaurus",
          "Chaoyangsaurus",
          "Chasmosaurus",
          "Chirostenotes",
          "Chungkingosaurus",
          "Cionodon",
          "Coelophysis",
          "Corythosaurus",
          "Dacentrurus",
          "Daspletosaurus",
          "Diclonius",
          "Diplodocus",
          "Edmontonia",
          "Edmontosaurus",
          "Elmisaurus",
          "Eucnemesaurus",
          "Giraffatitan",
          "Gobisaurus",
          "Gorgosaurus",
          "Gryposaurus",
          "Herrerasaurus",
          "Heyuannia",
          "Hypacrosaurus",
          "Kerberosaurus",
          "Lambeosaurus",
          "Lufengosaurus",
          "Lycorhinus",
          "Majungasaurus",
          "Mamenchisaurus",
          "Mantellisaurus",
          "Massospondylus",
          "Megalosaurus",
          "Megalosaurus (Poekilopleuron)",
          "Microraptor",
          "Miragaia",
          "Mochlodon",
          "Monoclonius",
          "Neuquensaurus",
          "Omeisaurus",
          "Ornithomimus",
          "Pachyrhinosaurus",
          "Parasaurolophus",
          "Pinacosaurus",
          "Plateosaurus",
          "Polacanthus",
          "Protoceratops",
          "Rhabdodon",
          "Richardoestesia",
          "Riojasaurus",
          "Saichania",
          "Sauropus",
          "Saurornitholestes",
          "Shantungosaurus",
          "Sphaerotholus",
          "Spinosaurus",
          "Staurikosaurus",
          "Stegosaurus",
          "Struthiosaurus",
          "Styracosaurus",
          "Supersaurus",
          "Tarbosaurus",
          "Tarchia",
          "Torosaurus",
          "Torvosaurus",
          "Trachodon",
          "Triceratops",
          "Tyrannosaurus",
          "Vagaceratops",
          "Yangchuanosaurus",
          "Zalmoxes",
          "Abelisauridae",
          "Ankylosauridae",
          "Brachiosauridae",
          "Caenagnathidae",
          "Camarasauridae",
          "Carcharodontosauridae",
          "Ceratopsidae",
          "Chaoyangsauridae",
          "Coelophysidae",
          "Compsognathidae",
          "Diplodocidae",
          "Dromaeosauridae",
          "Hadrosauridae",
          "Herrerasauridae",
          "Heterodontosauridae",
          "Iguanodontidae",
          "Mamenchisauridae",
          "Massospondylidae",
          "Megalosauridae",
          "Metriacanthosauridae",
          "Nodosauridae",
          "Ornithomimidae",
          "Oviraptoridae",
          "Pachycephalosauridae",
          "Plateosauridae",
          "Protoceratopsidae",
          "Rhabdodontidae",
          "Riojasauridae",
          "Saltasauridae",
          "Sauropodidae",
          "Spinosauridae",
          "Stegosauridae",
          "Tyrannosauridae",
          "Ornithischia",
          "Saurischia"
         ],
         "marker": {
          "coloraxis": "coloraxis",
          "colors": [
           69.05,
           69.05,
           151.93600671361813,
           125.93000000000002,
           74.75,
           75.94166941060257,
           132.82499999999996,
           152.45554280091832,
           151.15,
           152.2775095057034,
           112.29328257948947,
           76.72624375407344,
           144.3,
           77.07000778513041,
           76.1466767371601,
           165.9,
           72.52064941067714,
           212.21665487664694,
           77.093753546818,
           147.20895696913,
           76.52528181669662,
           77.1,
           151.93600671361813,
           74.75,
           75.66778042170665,
           69.05,
           214.65,
           154.25,
           107.40000000000002,
           76.7798660215854,
           75.73817109469739,
           232.5,
           74.01803112313937,
           75.27124634600054,
           68.3,
           77.09500291847718,
           188.45021902170308,
           194.04613451874764,
           69.05,
           154.86315189791304,
           133.73,
           196.70404717461398,
           158.53116158446778,
           166.19999999999996,
           119,
           150.99067819060866,
           78.87592749629,
           77.07000778513039,
           78.57092472922547,
           161.49215817925145,
           73.07821997105644,
           73.8569357300322,
           77.05,
           91.18605644262902,
           216.04600178580284,
           123.02390243902437,
           91.07603032004491,
           74.75,
           101.77466821499668,
           218.25,
           85.55,
           218.25,
           75.92954882265767,
           79.25088579563429,
           74.01803112313937,
           107.92006671608597,
           222.75,
           142.86580931203727,
           74.49737851969108,
           77.05,
           151.15000000000003,
           77.90000000000002,
           73.57071126856519,
           70.38327405299661,
           152.14192505752166,
           80.20869360902255,
           73.63962905418528,
           74.77334165477887,
           77.05,
           159.8762765305882,
           73.75342721411604,
           69.05,
           89.89230842056858,
           154.25,
           73.16258278145696,
           152.2775095057034,
           112.29328257948947,
           75.19699921002145,
           144.3,
           212.21665487664694,
           125.93000000000002,
           151.57208110464433,
           106.37562350345719,
           75.87632766753414,
           228.6998031496063,
           194.04613451874764,
           133.27903631520695,
           158.66616919442325,
           192.0728912970618,
           157.6152609106212,
           159.8762765305882,
           92.88732818058055,
           73.07821997105644,
           74.01803112313937,
           74.01803112313937,
           216.04600178580284,
           84.93903131050136,
           75.19337926154101,
           216.2647976878613,
           78.57092472922547,
           218.25,
           107.92006671608597,
           149.09197378160428,
           75.43999624949512,
           101.64544851870487,
           156.0808665479926
          ]
         },
         "name": "",
         "parents": [
          "Saurischia/Tyrannosauridae",
          "Ornithischia/Hadrosauridae",
          "Saurischia/Diplodocidae",
          "Saurischia/Compsognathidae",
          "Saurischia/Tyrannosauridae",
          "Ornithischia/Protoceratopsidae",
          "Ornithischia/Iguanodontidae",
          "Saurischia/Diplodocidae",
          "Saurischia/Diplodocidae",
          "Saurischia/Camarasauridae",
          "Saurischia/Carcharodontosauridae",
          "Ornithischia/Ceratopsidae",
          "Ornithischia/Chaoyangsauridae",
          "Ornithischia/Ceratopsidae",
          "Saurischia/Caenagnathidae",
          "Ornithischia/Stegosauridae",
          "Ornithischia/Hadrosauridae",
          "Saurischia/Coelophysidae",
          "Ornithischia/Hadrosauridae",
          "Ornithischia/Stegosauridae",
          "Saurischia/Tyrannosauridae",
          "Ornithischia/Hadrosauridae",
          "Saurischia/Diplodocidae",
          "Ornithischia/Nodosauridae",
          "Ornithischia/Hadrosauridae",
          "Saurischia/Caenagnathidae",
          "Saurischia/Riojasauridae",
          "Saurischia/Brachiosauridae",
          "Ornithischia/Ankylosauridae",
          "Saurischia/Tyrannosauridae",
          "Ornithischia/Hadrosauridae",
          "Saurischia/Herrerasauridae",
          "Saurischia/Oviraptoridae",
          "Ornithischia/Hadrosauridae",
          "Ornithischia/Hadrosauridae",
          "Ornithischia/Hadrosauridae",
          "Saurischia/Massospondylidae",
          "Ornithischia/Heterodontosauridae",
          "Saurischia/Abelisauridae",
          "Saurischia/Mamenchisauridae",
          "Ornithischia/Iguanodontidae",
          "Saurischia/Massospondylidae",
          "Saurischia/Megalosauridae",
          "Saurischia/Megalosauridae",
          "Saurischia/Dromaeosauridae",
          "Ornithischia/Stegosauridae",
          "Ornithischia/Rhabdodontidae",
          "Ornithischia/Ceratopsidae",
          "Saurischia/Saltasauridae",
          "Saurischia/Mamenchisauridae",
          "Saurischia/Ornithomimidae",
          "Ornithischia/Ceratopsidae",
          "Ornithischia/Hadrosauridae",
          "Ornithischia/Ankylosauridae",
          "Saurischia/Plateosauridae",
          "Ornithischia/Nodosauridae",
          "Ornithischia/Protoceratopsidae",
          "Ornithischia/Rhabdodontidae",
          "Saurischia/Dromaeosauridae",
          "Saurischia/Riojasauridae",
          "Ornithischia/Ankylosauridae",
          "Saurischia/Sauropodidae",
          "Saurischia/Dromaeosauridae",
          "Ornithischia/Hadrosauridae",
          "Ornithischia/Pachycephalosauridae",
          "Saurischia/Spinosauridae",
          "Saurischia/Herrerasauridae",
          "Ornithischia/Stegosauridae",
          "Ornithischia/Nodosauridae",
          "Ornithischia/Ceratopsidae",
          "Saurischia/Diplodocidae",
          "Saurischia/Tyrannosauridae",
          "Ornithischia/Ankylosauridae",
          "Ornithischia/Ceratopsidae",
          "Saurischia/Megalosauridae",
          "Ornithischia/Hadrosauridae",
          "Ornithischia/Ceratopsidae",
          "Saurischia/Tyrannosauridae",
          "Ornithischia/Ceratopsidae",
          "Saurischia/Metriacanthosauridae",
          "Ornithischia/Rhabdodontidae",
          "Saurischia",
          "Ornithischia",
          "Saurischia",
          "Saurischia",
          "Saurischia",
          "Saurischia",
          "Ornithischia",
          "Ornithischia",
          "Saurischia",
          "Saurischia",
          "Saurischia",
          "Saurischia",
          "Ornithischia",
          "Saurischia",
          "Ornithischia",
          "Ornithischia",
          "Saurischia",
          "Saurischia",
          "Saurischia",
          "Saurischia",
          "Ornithischia",
          "Saurischia",
          "Saurischia",
          "Ornithischia",
          "Saurischia",
          "Ornithischia",
          "Ornithischia",
          "Saurischia",
          "Saurischia",
          "Saurischia",
          "Saurischia",
          "Ornithischia",
          "Saurischia",
          "",
          ""
         ],
         "textfont": {
          "family": [
           "Arial Black",
           "Arial"
          ],
          "size": [
           20,
           15,
           15
          ]
         },
         "textinfo": "label",
         "type": "sunburst",
         "values": [
          345.25,
          276.2,
          759.65,
          377.79,
          299,
          303.7,
          929.7749999999999,
          457.35,
          1209.2,
          2893,
          669.9,
          460.29999999999995,
          577.2,
          770.6999999999999,
          380.65,
          663.6,
          216.35,
          1696.3500000000001,
          616.75,
          587.95,
          306.04999999999995,
          77.1,
          759.65,
          373.75,
          756.45,
          276.2,
          1073.25,
          462.75,
          429.6,
          537.4,
          453.54999999999995,
          1395,
          295.6,
          376.29999999999995,
          273.2,
          770.9499999999999,
          753.35,
          776.1,
          276.2,
          1079.08,
          936.1099999999999,
          589.3,
          780.8299999999999,
          498.59999999999997,
          952,
          754.95,
          235.85,
          385.34999999999997,
          549.35,
          1452.15,
          656.45,
          294.85,
          308.2,
          538.6,
          3023.85,
          861,
          445.25,
          523.25,
          602.8,
          873,
          513.3,
          873,
          303.65,
          474.15,
          295.6,
          647.52,
          891,
          1843.8500000000001,
          1042.35,
          308.2,
          1058.05,
          856.9000000000001,
          366.95,
          281.15,
          912.7,
          319.2,
          1544.7,
          1121.6,
          385.25,
          636.7650000000001,
          442.05,
          276.2,
          1848.45,
          462.75,
          656.85,
          2893,
          669.9,
          4430.5,
          577.2,
          1696.3500000000001,
          377.79,
          4243.9,
          1858.45,
          4918.4,
          2286,
          776.1,
          1865.8849999999998,
          2531.23,
          1342.65,
          2192.13,
          636.7650000000001,
          2277.1,
          656.45,
          295.6,
          295.6,
          3023.85,
          748.9499999999999,
          1201.15,
          1946.25,
          549.35,
          873,
          647.52,
          3850.35,
          3466.2,
          22789.685,
          33582.185
         ]
        }
       ],
       "layout": {
        "coloraxis": {
         "colorbar": {
          "title": {
           "text": "M.Y.A. Lived"
          }
         },
         "colorscale": [
          [
           0,
           "rgb(0, 155, 158)"
          ],
          [
           0.16666666666666666,
           "rgb(66, 183, 185)"
          ],
          [
           0.3333333333333333,
           "rgb(167, 211, 212)"
          ],
          [
           0.5,
           "rgb(241, 241, 241)"
          ],
          [
           0.6666666666666666,
           "rgb(228, 193, 217)"
          ],
          [
           0.8333333333333334,
           "rgb(214, 145, 193)"
          ],
          [
           1,
           "rgb(199, 93, 171)"
          ]
         ]
        },
        "height": 800,
        "legend": {
         "tracegroupgap": 0
        },
        "margin": {
         "b": 0,
         "l": 0,
         "r": 0,
         "t": 0
        },
        "template": {
         "data": {
          "bar": [
           {
            "error_x": {
             "color": "rgb(36,36,36)"
            },
            "error_y": {
             "color": "rgb(36,36,36)"
            },
            "marker": {
             "line": {
              "color": "white",
              "width": 0.5
             },
             "pattern": {
              "fillmode": "overlay",
              "size": 10,
              "solidity": 0.2
             }
            },
            "type": "bar"
           }
          ],
          "barpolar": [
           {
            "marker": {
             "line": {
              "color": "white",
              "width": 0.5
             },
             "pattern": {
              "fillmode": "overlay",
              "size": 10,
              "solidity": 0.2
             }
            },
            "type": "barpolar"
           }
          ],
          "carpet": [
           {
            "aaxis": {
             "endlinecolor": "rgb(36,36,36)",
             "gridcolor": "white",
             "linecolor": "white",
             "minorgridcolor": "white",
             "startlinecolor": "rgb(36,36,36)"
            },
            "baxis": {
             "endlinecolor": "rgb(36,36,36)",
             "gridcolor": "white",
             "linecolor": "white",
             "minorgridcolor": "white",
             "startlinecolor": "rgb(36,36,36)"
            },
            "type": "carpet"
           }
          ],
          "choropleth": [
           {
            "colorbar": {
             "outlinewidth": 1,
             "tickcolor": "rgb(36,36,36)",
             "ticks": "outside"
            },
            "type": "choropleth"
           }
          ],
          "contour": [
           {
            "colorbar": {
             "outlinewidth": 1,
             "tickcolor": "rgb(36,36,36)",
             "ticks": "outside"
            },
            "colorscale": [
             [
              0,
              "#440154"
             ],
             [
              0.1111111111111111,
              "#482878"
             ],
             [
              0.2222222222222222,
              "#3e4989"
             ],
             [
              0.3333333333333333,
              "#31688e"
             ],
             [
              0.4444444444444444,
              "#26828e"
             ],
             [
              0.5555555555555556,
              "#1f9e89"
             ],
             [
              0.6666666666666666,
              "#35b779"
             ],
             [
              0.7777777777777778,
              "#6ece58"
             ],
             [
              0.8888888888888888,
              "#b5de2b"
             ],
             [
              1,
              "#fde725"
             ]
            ],
            "type": "contour"
           }
          ],
          "contourcarpet": [
           {
            "colorbar": {
             "outlinewidth": 1,
             "tickcolor": "rgb(36,36,36)",
             "ticks": "outside"
            },
            "type": "contourcarpet"
           }
          ],
          "heatmap": [
           {
            "colorbar": {
             "outlinewidth": 1,
             "tickcolor": "rgb(36,36,36)",
             "ticks": "outside"
            },
            "colorscale": [
             [
              0,
              "#440154"
             ],
             [
              0.1111111111111111,
              "#482878"
             ],
             [
              0.2222222222222222,
              "#3e4989"
             ],
             [
              0.3333333333333333,
              "#31688e"
             ],
             [
              0.4444444444444444,
              "#26828e"
             ],
             [
              0.5555555555555556,
              "#1f9e89"
             ],
             [
              0.6666666666666666,
              "#35b779"
             ],
             [
              0.7777777777777778,
              "#6ece58"
             ],
             [
              0.8888888888888888,
              "#b5de2b"
             ],
             [
              1,
              "#fde725"
             ]
            ],
            "type": "heatmap"
           }
          ],
          "heatmapgl": [
           {
            "colorbar": {
             "outlinewidth": 1,
             "tickcolor": "rgb(36,36,36)",
             "ticks": "outside"
            },
            "colorscale": [
             [
              0,
              "#440154"
             ],
             [
              0.1111111111111111,
              "#482878"
             ],
             [
              0.2222222222222222,
              "#3e4989"
             ],
             [
              0.3333333333333333,
              "#31688e"
             ],
             [
              0.4444444444444444,
              "#26828e"
             ],
             [
              0.5555555555555556,
              "#1f9e89"
             ],
             [
              0.6666666666666666,
              "#35b779"
             ],
             [
              0.7777777777777778,
              "#6ece58"
             ],
             [
              0.8888888888888888,
              "#b5de2b"
             ],
             [
              1,
              "#fde725"
             ]
            ],
            "type": "heatmapgl"
           }
          ],
          "histogram": [
           {
            "marker": {
             "line": {
              "color": "white",
              "width": 0.6
             }
            },
            "type": "histogram"
           }
          ],
          "histogram2d": [
           {
            "colorbar": {
             "outlinewidth": 1,
             "tickcolor": "rgb(36,36,36)",
             "ticks": "outside"
            },
            "colorscale": [
             [
              0,
              "#440154"
             ],
             [
              0.1111111111111111,
              "#482878"
             ],
             [
              0.2222222222222222,
              "#3e4989"
             ],
             [
              0.3333333333333333,
              "#31688e"
             ],
             [
              0.4444444444444444,
              "#26828e"
             ],
             [
              0.5555555555555556,
              "#1f9e89"
             ],
             [
              0.6666666666666666,
              "#35b779"
             ],
             [
              0.7777777777777778,
              "#6ece58"
             ],
             [
              0.8888888888888888,
              "#b5de2b"
             ],
             [
              1,
              "#fde725"
             ]
            ],
            "type": "histogram2d"
           }
          ],
          "histogram2dcontour": [
           {
            "colorbar": {
             "outlinewidth": 1,
             "tickcolor": "rgb(36,36,36)",
             "ticks": "outside"
            },
            "colorscale": [
             [
              0,
              "#440154"
             ],
             [
              0.1111111111111111,
              "#482878"
             ],
             [
              0.2222222222222222,
              "#3e4989"
             ],
             [
              0.3333333333333333,
              "#31688e"
             ],
             [
              0.4444444444444444,
              "#26828e"
             ],
             [
              0.5555555555555556,
              "#1f9e89"
             ],
             [
              0.6666666666666666,
              "#35b779"
             ],
             [
              0.7777777777777778,
              "#6ece58"
             ],
             [
              0.8888888888888888,
              "#b5de2b"
             ],
             [
              1,
              "#fde725"
             ]
            ],
            "type": "histogram2dcontour"
           }
          ],
          "mesh3d": [
           {
            "colorbar": {
             "outlinewidth": 1,
             "tickcolor": "rgb(36,36,36)",
             "ticks": "outside"
            },
            "type": "mesh3d"
           }
          ],
          "parcoords": [
           {
            "line": {
             "colorbar": {
              "outlinewidth": 1,
              "tickcolor": "rgb(36,36,36)",
              "ticks": "outside"
             }
            },
            "type": "parcoords"
           }
          ],
          "pie": [
           {
            "automargin": true,
            "type": "pie"
           }
          ],
          "scatter": [
           {
            "fillpattern": {
             "fillmode": "overlay",
             "size": 10,
             "solidity": 0.2
            },
            "type": "scatter"
           }
          ],
          "scatter3d": [
           {
            "line": {
             "colorbar": {
              "outlinewidth": 1,
              "tickcolor": "rgb(36,36,36)",
              "ticks": "outside"
             }
            },
            "marker": {
             "colorbar": {
              "outlinewidth": 1,
              "tickcolor": "rgb(36,36,36)",
              "ticks": "outside"
             }
            },
            "type": "scatter3d"
           }
          ],
          "scattercarpet": [
           {
            "marker": {
             "colorbar": {
              "outlinewidth": 1,
              "tickcolor": "rgb(36,36,36)",
              "ticks": "outside"
             }
            },
            "type": "scattercarpet"
           }
          ],
          "scattergeo": [
           {
            "marker": {
             "colorbar": {
              "outlinewidth": 1,
              "tickcolor": "rgb(36,36,36)",
              "ticks": "outside"
             }
            },
            "type": "scattergeo"
           }
          ],
          "scattergl": [
           {
            "marker": {
             "colorbar": {
              "outlinewidth": 1,
              "tickcolor": "rgb(36,36,36)",
              "ticks": "outside"
             }
            },
            "type": "scattergl"
           }
          ],
          "scattermapbox": [
           {
            "marker": {
             "colorbar": {
              "outlinewidth": 1,
              "tickcolor": "rgb(36,36,36)",
              "ticks": "outside"
             }
            },
            "type": "scattermapbox"
           }
          ],
          "scatterpolar": [
           {
            "marker": {
             "colorbar": {
              "outlinewidth": 1,
              "tickcolor": "rgb(36,36,36)",
              "ticks": "outside"
             }
            },
            "type": "scatterpolar"
           }
          ],
          "scatterpolargl": [
           {
            "marker": {
             "colorbar": {
              "outlinewidth": 1,
              "tickcolor": "rgb(36,36,36)",
              "ticks": "outside"
             }
            },
            "type": "scatterpolargl"
           }
          ],
          "scatterternary": [
           {
            "marker": {
             "colorbar": {
              "outlinewidth": 1,
              "tickcolor": "rgb(36,36,36)",
              "ticks": "outside"
             }
            },
            "type": "scatterternary"
           }
          ],
          "surface": [
           {
            "colorbar": {
             "outlinewidth": 1,
             "tickcolor": "rgb(36,36,36)",
             "ticks": "outside"
            },
            "colorscale": [
             [
              0,
              "#440154"
             ],
             [
              0.1111111111111111,
              "#482878"
             ],
             [
              0.2222222222222222,
              "#3e4989"
             ],
             [
              0.3333333333333333,
              "#31688e"
             ],
             [
              0.4444444444444444,
              "#26828e"
             ],
             [
              0.5555555555555556,
              "#1f9e89"
             ],
             [
              0.6666666666666666,
              "#35b779"
             ],
             [
              0.7777777777777778,
              "#6ece58"
             ],
             [
              0.8888888888888888,
              "#b5de2b"
             ],
             [
              1,
              "#fde725"
             ]
            ],
            "type": "surface"
           }
          ],
          "table": [
           {
            "cells": {
             "fill": {
              "color": "rgb(237,237,237)"
             },
             "line": {
              "color": "white"
             }
            },
            "header": {
             "fill": {
              "color": "rgb(217,217,217)"
             },
             "line": {
              "color": "white"
             }
            },
            "type": "table"
           }
          ]
         },
         "layout": {
          "annotationdefaults": {
           "arrowhead": 0,
           "arrowwidth": 1
          },
          "autotypenumbers": "strict",
          "coloraxis": {
           "colorbar": {
            "outlinewidth": 1,
            "tickcolor": "rgb(36,36,36)",
            "ticks": "outside"
           }
          },
          "colorscale": {
           "diverging": [
            [
             0,
             "rgb(103,0,31)"
            ],
            [
             0.1,
             "rgb(178,24,43)"
            ],
            [
             0.2,
             "rgb(214,96,77)"
            ],
            [
             0.3,
             "rgb(244,165,130)"
            ],
            [
             0.4,
             "rgb(253,219,199)"
            ],
            [
             0.5,
             "rgb(247,247,247)"
            ],
            [
             0.6,
             "rgb(209,229,240)"
            ],
            [
             0.7,
             "rgb(146,197,222)"
            ],
            [
             0.8,
             "rgb(67,147,195)"
            ],
            [
             0.9,
             "rgb(33,102,172)"
            ],
            [
             1,
             "rgb(5,48,97)"
            ]
           ],
           "sequential": [
            [
             0,
             "#440154"
            ],
            [
             0.1111111111111111,
             "#482878"
            ],
            [
             0.2222222222222222,
             "#3e4989"
            ],
            [
             0.3333333333333333,
             "#31688e"
            ],
            [
             0.4444444444444444,
             "#26828e"
            ],
            [
             0.5555555555555556,
             "#1f9e89"
            ],
            [
             0.6666666666666666,
             "#35b779"
            ],
            [
             0.7777777777777778,
             "#6ece58"
            ],
            [
             0.8888888888888888,
             "#b5de2b"
            ],
            [
             1,
             "#fde725"
            ]
           ],
           "sequentialminus": [
            [
             0,
             "#440154"
            ],
            [
             0.1111111111111111,
             "#482878"
            ],
            [
             0.2222222222222222,
             "#3e4989"
            ],
            [
             0.3333333333333333,
             "#31688e"
            ],
            [
             0.4444444444444444,
             "#26828e"
            ],
            [
             0.5555555555555556,
             "#1f9e89"
            ],
            [
             0.6666666666666666,
             "#35b779"
            ],
            [
             0.7777777777777778,
             "#6ece58"
            ],
            [
             0.8888888888888888,
             "#b5de2b"
            ],
            [
             1,
             "#fde725"
            ]
           ]
          },
          "colorway": [
           "#1F77B4",
           "#FF7F0E",
           "#2CA02C",
           "#D62728",
           "#9467BD",
           "#8C564B",
           "#E377C2",
           "#7F7F7F",
           "#BCBD22",
           "#17BECF"
          ],
          "font": {
           "color": "rgb(36,36,36)"
          },
          "geo": {
           "bgcolor": "white",
           "lakecolor": "white",
           "landcolor": "white",
           "showlakes": true,
           "showland": true,
           "subunitcolor": "white"
          },
          "hoverlabel": {
           "align": "left"
          },
          "hovermode": "closest",
          "mapbox": {
           "style": "light"
          },
          "paper_bgcolor": "white",
          "plot_bgcolor": "white",
          "polar": {
           "angularaxis": {
            "gridcolor": "rgb(232,232,232)",
            "linecolor": "rgb(36,36,36)",
            "showgrid": false,
            "showline": true,
            "ticks": "outside"
           },
           "bgcolor": "white",
           "radialaxis": {
            "gridcolor": "rgb(232,232,232)",
            "linecolor": "rgb(36,36,36)",
            "showgrid": false,
            "showline": true,
            "ticks": "outside"
           }
          },
          "scene": {
           "xaxis": {
            "backgroundcolor": "white",
            "gridcolor": "rgb(232,232,232)",
            "gridwidth": 2,
            "linecolor": "rgb(36,36,36)",
            "showbackground": true,
            "showgrid": false,
            "showline": true,
            "ticks": "outside",
            "zeroline": false,
            "zerolinecolor": "rgb(36,36,36)"
           },
           "yaxis": {
            "backgroundcolor": "white",
            "gridcolor": "rgb(232,232,232)",
            "gridwidth": 2,
            "linecolor": "rgb(36,36,36)",
            "showbackground": true,
            "showgrid": false,
            "showline": true,
            "ticks": "outside",
            "zeroline": false,
            "zerolinecolor": "rgb(36,36,36)"
           },
           "zaxis": {
            "backgroundcolor": "white",
            "gridcolor": "rgb(232,232,232)",
            "gridwidth": 2,
            "linecolor": "rgb(36,36,36)",
            "showbackground": true,
            "showgrid": false,
            "showline": true,
            "ticks": "outside",
            "zeroline": false,
            "zerolinecolor": "rgb(36,36,36)"
           }
          },
          "shapedefaults": {
           "fillcolor": "black",
           "line": {
            "width": 0
           },
           "opacity": 0.3
          },
          "ternary": {
           "aaxis": {
            "gridcolor": "rgb(232,232,232)",
            "linecolor": "rgb(36,36,36)",
            "showgrid": false,
            "showline": true,
            "ticks": "outside"
           },
           "baxis": {
            "gridcolor": "rgb(232,232,232)",
            "linecolor": "rgb(36,36,36)",
            "showgrid": false,
            "showline": true,
            "ticks": "outside"
           },
           "bgcolor": "white",
           "caxis": {
            "gridcolor": "rgb(232,232,232)",
            "linecolor": "rgb(36,36,36)",
            "showgrid": false,
            "showline": true,
            "ticks": "outside"
           }
          },
          "title": {
           "x": 0.05
          },
          "xaxis": {
           "automargin": true,
           "gridcolor": "rgb(232,232,232)",
           "linecolor": "rgb(36,36,36)",
           "showgrid": false,
           "showline": true,
           "ticks": "outside",
           "title": {
            "standoff": 15
           },
           "zeroline": false,
           "zerolinecolor": "rgb(36,36,36)"
          },
          "yaxis": {
           "automargin": true,
           "gridcolor": "rgb(232,232,232)",
           "linecolor": "rgb(36,36,36)",
           "showgrid": false,
           "showline": true,
           "ticks": "outside",
           "title": {
            "standoff": 15
           },
           "zeroline": false,
           "zerolinecolor": "rgb(36,36,36)"
          }
         }
        },
        "uniformtext": {
         "minsize": 12,
         "mode": "hide"
        },
        "width": 800
       }
      }
     },
     "metadata": {},
     "output_type": "display_data"
    }
   ],
   "source": [
    "# Create initial chart with sunburst express\n",
    "\n",
    "# Set the style\n",
    "fig = px.sunburst(df, path=['class','family','genus'], \n",
    "                  values=df['mid'], \n",
    "                  #color='family',\n",
    "                  color='mid',\n",
    "                  template='simple_white',\n",
    "                  color_continuous_scale='tropic',\n",
    "                  )\n",
    "\n",
    "fig.update_layout(\n",
    "    height = 800, \n",
    "    width = 800,\n",
    "    margin = dict(t=0, l=0, r=0, b=0)\n",
    ")\n",
    "\n",
    "fig.update_traces(hovertemplate=\"%{label}<br>MA: %{value}<br><extra></extra>\",\n",
    "                   insidetextorientation='auto', \n",
    "                   textinfo=\"label\",\n",
    "                   rotation=None, \n",
    "                   overwrite=True)\n",
    "fig.update_traces(textfont=dict(family=['Arial Black', 'Arial'],size=[20,15,15]), overwrite=True)\n",
    "fig.update_layout(coloraxis_colorbar_title='M.Y.A. Lived')\n",
    "fig.update_layout(uniformtext=dict(minsize=12, mode='hide'))\n",
    "fig.show()"
   ]
  },
  {
   "cell_type": "code",
   "execution_count": 255,
   "metadata": {},
   "outputs": [],
   "source": [
    "# Force spacing in the labels and adjust font size\n",
    "d=fig.to_dict()\n",
    "data = d['data'][0]\n",
    "\n",
    "for i, l in enumerate(data['labels']):\n",
    "    v = data['customdata'][i][0]\n",
    "    is_leaf = len(data['ids'][i].split('/')) == 3\n",
    "\n",
    "    is_root = len(data['ids'][i].split('/')) == 1\n",
    "\n",
    "    if is_leaf:\n",
    "        data['labels'][i] = f\" {l} \"\n",
    "    elif is_root:\n",
    "        data['labels'][i] = f'<span style=\"font-size: 24px;\"><b>{l}</b></span>'\n",
    "    else:\n",
    "        data['labels'][i] = f'<span style=\"font-size: 12px;\">{l}</span>'\n"
   ]
  },
  {
   "cell_type": "code",
   "execution_count": 212,
   "metadata": {},
   "outputs": [
    {
     "data": {
      "text/plain": [
       "{'data': [{'branchvalues': 'total',\n",
       "   'customdata': array([[ 69.05      ],\n",
       "          [ 69.05      ],\n",
       "          [151.93600671],\n",
       "          [125.93      ],\n",
       "          [ 74.75      ],\n",
       "          [ 75.94166941],\n",
       "          [132.825     ],\n",
       "          [152.4555428 ],\n",
       "          [151.15      ],\n",
       "          [152.27750951],\n",
       "          [112.29328258],\n",
       "          [ 76.72624375],\n",
       "          [144.3       ],\n",
       "          [ 77.07000779],\n",
       "          [ 76.14667674],\n",
       "          [165.9       ],\n",
       "          [ 72.52064941],\n",
       "          [212.21665488],\n",
       "          [ 77.09375355],\n",
       "          [147.20895697],\n",
       "          [ 76.52528182],\n",
       "          [ 77.1       ],\n",
       "          [151.93600671],\n",
       "          [ 74.75      ],\n",
       "          [ 75.66778042],\n",
       "          [ 69.05      ],\n",
       "          [214.65      ],\n",
       "          [154.25      ],\n",
       "          [107.4       ],\n",
       "          [ 76.77986602],\n",
       "          [ 75.73817109],\n",
       "          [232.5       ],\n",
       "          [ 74.01803112],\n",
       "          [ 75.27124635],\n",
       "          [ 68.3       ],\n",
       "          [ 77.09500292],\n",
       "          [188.45021902],\n",
       "          [194.04613452],\n",
       "          [ 69.05      ],\n",
       "          [154.8631519 ],\n",
       "          [133.73      ],\n",
       "          [196.70404717],\n",
       "          [158.53116158],\n",
       "          [166.2       ],\n",
       "          [119.        ],\n",
       "          [150.99067819],\n",
       "          [ 78.8759275 ],\n",
       "          [ 77.07000779],\n",
       "          [ 78.57092473],\n",
       "          [161.49215818],\n",
       "          [ 73.07821997],\n",
       "          [ 73.85693573],\n",
       "          [ 77.05      ],\n",
       "          [ 91.18605644],\n",
       "          [216.04600179],\n",
       "          [123.02390244],\n",
       "          [ 91.07603032],\n",
       "          [ 74.75      ],\n",
       "          [101.77466821],\n",
       "          [218.25      ],\n",
       "          [ 85.55      ],\n",
       "          [218.25      ],\n",
       "          [ 75.92954882],\n",
       "          [ 79.2508858 ],\n",
       "          [ 74.01803112],\n",
       "          [107.92006672],\n",
       "          [222.75      ],\n",
       "          [142.86580931],\n",
       "          [ 74.49737852],\n",
       "          [ 77.05      ],\n",
       "          [151.15      ],\n",
       "          [ 77.9       ],\n",
       "          [ 73.57071127],\n",
       "          [ 70.38327405],\n",
       "          [152.14192506],\n",
       "          [ 80.20869361],\n",
       "          [ 73.63962905],\n",
       "          [ 74.77334165],\n",
       "          [ 77.05      ],\n",
       "          [159.87627653],\n",
       "          [ 73.75342721],\n",
       "          [ 69.05      ],\n",
       "          [ 89.89230842],\n",
       "          [154.25      ],\n",
       "          [ 73.16258278],\n",
       "          [152.27750951],\n",
       "          [112.29328258],\n",
       "          [ 75.19699921],\n",
       "          [144.3       ],\n",
       "          [212.21665488],\n",
       "          [125.93      ],\n",
       "          [151.5720811 ],\n",
       "          [106.3756235 ],\n",
       "          [ 75.87632767],\n",
       "          [228.69980315],\n",
       "          [194.04613452],\n",
       "          [133.27903632],\n",
       "          [158.66616919],\n",
       "          [192.0728913 ],\n",
       "          [157.61526091],\n",
       "          [159.87627653],\n",
       "          [ 92.88732818],\n",
       "          [ 73.07821997],\n",
       "          [ 74.01803112],\n",
       "          [ 74.01803112],\n",
       "          [216.04600179],\n",
       "          [ 84.93903131],\n",
       "          [ 75.19337926],\n",
       "          [216.26479769],\n",
       "          [ 78.57092473],\n",
       "          [218.25      ],\n",
       "          [107.92006672],\n",
       "          [149.09197378],\n",
       "          [ 75.43999625],\n",
       "          [101.64544852],\n",
       "          [156.08086655]]),\n",
       "   'domain': {'x': [0.0, 1.0], 'y': [0.0, 1.0]},\n",
       "   'hovertemplate': '%{label}<br>MA: %{value}<br><extra></extra>',\n",
       "   'ids': array(['Saurischia/Tyrannosauridae/Alioramus',\n",
       "          'Ornithischia/Hadrosauridae/Amurosaurus',\n",
       "          'Saurischia/Diplodocidae/Apatosaurus',\n",
       "          'Saurischia/Compsognathidae/Aristosuchus',\n",
       "          'Saurischia/Tyrannosauridae/Aublysodon',\n",
       "          'Ornithischia/Protoceratopsidae/Bagaceratops',\n",
       "          'Ornithischia/Iguanodontidae/Barilium',\n",
       "          'Saurischia/Diplodocidae/Barosaurus',\n",
       "          'Saurischia/Diplodocidae/Brontosaurus',\n",
       "          'Saurischia/Camarasauridae/Camarasaurus',\n",
       "          'Saurischia/Carcharodontosauridae/Carcharodontosaurus',\n",
       "          'Ornithischia/Ceratopsidae/Centrosaurus',\n",
       "          'Ornithischia/Chaoyangsauridae/Chaoyangsaurus',\n",
       "          'Ornithischia/Ceratopsidae/Chasmosaurus',\n",
       "          'Saurischia/Caenagnathidae/Chirostenotes',\n",
       "          'Ornithischia/Stegosauridae/Chungkingosaurus',\n",
       "          'Ornithischia/Hadrosauridae/Cionodon',\n",
       "          'Saurischia/Coelophysidae/Coelophysis',\n",
       "          'Ornithischia/Hadrosauridae/Corythosaurus',\n",
       "          'Ornithischia/Stegosauridae/Dacentrurus',\n",
       "          'Saurischia/Tyrannosauridae/Daspletosaurus',\n",
       "          'Ornithischia/Hadrosauridae/Diclonius',\n",
       "          'Saurischia/Diplodocidae/Diplodocus',\n",
       "          'Ornithischia/Nodosauridae/Edmontonia',\n",
       "          'Ornithischia/Hadrosauridae/Edmontosaurus',\n",
       "          'Saurischia/Caenagnathidae/Elmisaurus',\n",
       "          'Saurischia/Riojasauridae/Eucnemesaurus',\n",
       "          'Saurischia/Brachiosauridae/Giraffatitan',\n",
       "          'Ornithischia/Ankylosauridae/Gobisaurus',\n",
       "          'Saurischia/Tyrannosauridae/Gorgosaurus',\n",
       "          'Ornithischia/Hadrosauridae/Gryposaurus',\n",
       "          'Saurischia/Herrerasauridae/Herrerasaurus',\n",
       "          'Saurischia/Oviraptoridae/Heyuannia',\n",
       "          'Ornithischia/Hadrosauridae/Hypacrosaurus',\n",
       "          'Ornithischia/Hadrosauridae/Kerberosaurus',\n",
       "          'Ornithischia/Hadrosauridae/Lambeosaurus',\n",
       "          'Saurischia/Massospondylidae/Lufengosaurus',\n",
       "          'Ornithischia/Heterodontosauridae/Lycorhinus',\n",
       "          'Saurischia/Abelisauridae/Majungasaurus',\n",
       "          'Saurischia/Mamenchisauridae/Mamenchisaurus',\n",
       "          'Ornithischia/Iguanodontidae/Mantellisaurus',\n",
       "          'Saurischia/Massospondylidae/Massospondylus',\n",
       "          'Saurischia/Megalosauridae/Megalosaurus',\n",
       "          'Saurischia/Megalosauridae/Megalosaurus (Poekilopleuron)',\n",
       "          'Saurischia/Dromaeosauridae/Microraptor',\n",
       "          'Ornithischia/Stegosauridae/Miragaia',\n",
       "          'Ornithischia/Rhabdodontidae/Mochlodon',\n",
       "          'Ornithischia/Ceratopsidae/Monoclonius',\n",
       "          'Saurischia/Saltasauridae/Neuquensaurus',\n",
       "          'Saurischia/Mamenchisauridae/Omeisaurus',\n",
       "          'Saurischia/Ornithomimidae/Ornithomimus',\n",
       "          'Ornithischia/Ceratopsidae/Pachyrhinosaurus',\n",
       "          'Ornithischia/Hadrosauridae/Parasaurolophus',\n",
       "          'Ornithischia/Ankylosauridae/Pinacosaurus',\n",
       "          'Saurischia/Plateosauridae/Plateosaurus',\n",
       "          'Ornithischia/Nodosauridae/Polacanthus',\n",
       "          'Ornithischia/Protoceratopsidae/Protoceratops',\n",
       "          'Ornithischia/Rhabdodontidae/Rhabdodon',\n",
       "          'Saurischia/Dromaeosauridae/Richardoestesia',\n",
       "          'Saurischia/Riojasauridae/Riojasaurus',\n",
       "          'Ornithischia/Ankylosauridae/Saichania',\n",
       "          'Saurischia/Sauropodidae/Sauropus',\n",
       "          'Saurischia/Dromaeosauridae/Saurornitholestes',\n",
       "          'Ornithischia/Hadrosauridae/Shantungosaurus',\n",
       "          'Ornithischia/Pachycephalosauridae/Sphaerotholus',\n",
       "          'Saurischia/Spinosauridae/Spinosaurus',\n",
       "          'Saurischia/Herrerasauridae/Staurikosaurus',\n",
       "          'Ornithischia/Stegosauridae/Stegosaurus',\n",
       "          'Ornithischia/Nodosauridae/Struthiosaurus',\n",
       "          'Ornithischia/Ceratopsidae/Styracosaurus',\n",
       "          'Saurischia/Diplodocidae/Supersaurus',\n",
       "          'Saurischia/Tyrannosauridae/Tarbosaurus',\n",
       "          'Ornithischia/Ankylosauridae/Tarchia',\n",
       "          'Ornithischia/Ceratopsidae/Torosaurus',\n",
       "          'Saurischia/Megalosauridae/Torvosaurus',\n",
       "          'Ornithischia/Hadrosauridae/Trachodon',\n",
       "          'Ornithischia/Ceratopsidae/Triceratops',\n",
       "          'Saurischia/Tyrannosauridae/Tyrannosaurus',\n",
       "          'Ornithischia/Ceratopsidae/Vagaceratops',\n",
       "          'Saurischia/Metriacanthosauridae/Yangchuanosaurus',\n",
       "          'Ornithischia/Rhabdodontidae/Zalmoxes', 'Saurischia/Abelisauridae',\n",
       "          'Ornithischia/Ankylosauridae', 'Saurischia/Brachiosauridae',\n",
       "          'Saurischia/Caenagnathidae', 'Saurischia/Camarasauridae',\n",
       "          'Saurischia/Carcharodontosauridae', 'Ornithischia/Ceratopsidae',\n",
       "          'Ornithischia/Chaoyangsauridae', 'Saurischia/Coelophysidae',\n",
       "          'Saurischia/Compsognathidae', 'Saurischia/Diplodocidae',\n",
       "          'Saurischia/Dromaeosauridae', 'Ornithischia/Hadrosauridae',\n",
       "          'Saurischia/Herrerasauridae', 'Ornithischia/Heterodontosauridae',\n",
       "          'Ornithischia/Iguanodontidae', 'Saurischia/Mamenchisauridae',\n",
       "          'Saurischia/Massospondylidae', 'Saurischia/Megalosauridae',\n",
       "          'Saurischia/Metriacanthosauridae', 'Ornithischia/Nodosauridae',\n",
       "          'Saurischia/Ornithomimidae', 'Saurischia/Oviraptoridae',\n",
       "          'Ornithischia/Pachycephalosauridae', 'Saurischia/Plateosauridae',\n",
       "          'Ornithischia/Protoceratopsidae', 'Ornithischia/Rhabdodontidae',\n",
       "          'Saurischia/Riojasauridae', 'Saurischia/Saltasauridae',\n",
       "          'Saurischia/Sauropodidae', 'Saurischia/Spinosauridae',\n",
       "          'Ornithischia/Stegosauridae', 'Saurischia/Tyrannosauridae',\n",
       "          'Ornithischia', 'Saurischia'], dtype=object),\n",
       "   'labels': array([' Alioramus ', ' Amurosaurus ', ' Apatosaurus ', ' Aristosuchus ',\n",
       "          ' Aublysodon ', ' Bagaceratops ', ' Barilium ', ' Barosaurus ',\n",
       "          ' Brontosaurus ', ' Camarasaurus ', ' Carcharodontosaurus ',\n",
       "          ' Centrosaurus ', ' Chaoyangsaurus ', ' Chasmosaurus ',\n",
       "          ' Chirostenotes ', ' Chungkingosaurus ', ' Cionodon ',\n",
       "          ' Coelophysis ', ' Corythosaurus ', ' Dacentrurus ',\n",
       "          ' Daspletosaurus ', ' Diclonius ', ' Diplodocus ', ' Edmontonia ',\n",
       "          ' Edmontosaurus ', ' Elmisaurus ', ' Eucnemesaurus ',\n",
       "          ' Giraffatitan ', ' Gobisaurus ', ' Gorgosaurus ', ' Gryposaurus ',\n",
       "          ' Herrerasaurus ', ' Heyuannia ', ' Hypacrosaurus ',\n",
       "          ' Kerberosaurus ', ' Lambeosaurus ', ' Lufengosaurus ',\n",
       "          ' Lycorhinus ', ' Majungasaurus ', ' Mamenchisaurus ',\n",
       "          ' Mantellisaurus ', ' Massospondylus ', ' Megalosaurus ',\n",
       "          ' Megalosaurus (Poekilopleuron) ', ' Microraptor ', ' Miragaia ',\n",
       "          ' Mochlodon ', ' Monoclonius ', ' Neuquensaurus ', ' Omeisaurus ',\n",
       "          ' Ornithomimus ', ' Pachyrhinosaurus ', ' Parasaurolophus ',\n",
       "          ' Pinacosaurus ', ' Plateosaurus ', ' Polacanthus ',\n",
       "          ' Protoceratops ', ' Rhabdodon ', ' Richardoestesia ',\n",
       "          ' Riojasaurus ', ' Saichania ', ' Sauropus ',\n",
       "          ' Saurornitholestes ', ' Shantungosaurus ', ' Sphaerotholus ',\n",
       "          ' Spinosaurus ', ' Staurikosaurus ', ' Stegosaurus ',\n",
       "          ' Struthiosaurus ', ' Styracosaurus ', ' Supersaurus ',\n",
       "          ' Tarbosaurus ', ' Tarchia ', ' Torosaurus ', ' Torvosaurus ',\n",
       "          ' Trachodon ', ' Triceratops ', ' Tyrannosaurus ',\n",
       "          ' Vagaceratops ', ' Yangchuanosaurus ', ' Zalmoxes ',\n",
       "          'Abelisauridae', 'Ankylosauridae', 'Brachiosauridae',\n",
       "          'Caenagnathidae', 'Camarasauridae', 'Carcharodontosauridae',\n",
       "          'Ceratopsidae', 'Chaoyangsauridae', 'Coelophysidae',\n",
       "          'Compsognathidae', 'Diplodocidae', 'Dromaeosauridae',\n",
       "          'Hadrosauridae', 'Herrerasauridae', 'Heterodontosauridae',\n",
       "          'Iguanodontidae', 'Mamenchisauridae', 'Massospondylidae',\n",
       "          'Megalosauridae', 'Metriacanthosauridae', 'Nodosauridae',\n",
       "          'Ornithomimidae', 'Oviraptoridae', 'Pachycephalosauridae',\n",
       "          'Plateosauridae', 'Protoceratopsidae', 'Rhabdodontidae',\n",
       "          'Riojasauridae', 'Saltasauridae', 'Sauropodidae', 'Spinosauridae',\n",
       "          'Stegosauridae', 'Tyrannosauridae', '<b>Ornithischia</b>',\n",
       "          '<b>Saurischia</b>'], dtype=object),\n",
       "   'marker': {'coloraxis': 'coloraxis',\n",
       "    'colors': array([ 69.05      ,  69.05      , 151.93600671, 125.93      ,\n",
       "            74.75      ,  75.94166941, 132.825     , 152.4555428 ,\n",
       "           151.15      , 152.27750951, 112.29328258,  76.72624375,\n",
       "           144.3       ,  77.07000779,  76.14667674, 165.9       ,\n",
       "            72.52064941, 212.21665488,  77.09375355, 147.20895697,\n",
       "            76.52528182,  77.1       , 151.93600671,  74.75      ,\n",
       "            75.66778042,  69.05      , 214.65      , 154.25      ,\n",
       "           107.4       ,  76.77986602,  75.73817109, 232.5       ,\n",
       "            74.01803112,  75.27124635,  68.3       ,  77.09500292,\n",
       "           188.45021902, 194.04613452,  69.05      , 154.8631519 ,\n",
       "           133.73      , 196.70404717, 158.53116158, 166.2       ,\n",
       "           119.        , 150.99067819,  78.8759275 ,  77.07000779,\n",
       "            78.57092473, 161.49215818,  73.07821997,  73.85693573,\n",
       "            77.05      ,  91.18605644, 216.04600179, 123.02390244,\n",
       "            91.07603032,  74.75      , 101.77466821, 218.25      ,\n",
       "            85.55      , 218.25      ,  75.92954882,  79.2508858 ,\n",
       "            74.01803112, 107.92006672, 222.75      , 142.86580931,\n",
       "            74.49737852,  77.05      , 151.15      ,  77.9       ,\n",
       "            73.57071127,  70.38327405, 152.14192506,  80.20869361,\n",
       "            73.63962905,  74.77334165,  77.05      , 159.87627653,\n",
       "            73.75342721,  69.05      ,  89.89230842, 154.25      ,\n",
       "            73.16258278, 152.27750951, 112.29328258,  75.19699921,\n",
       "           144.3       , 212.21665488, 125.93      , 151.5720811 ,\n",
       "           106.3756235 ,  75.87632767, 228.69980315, 194.04613452,\n",
       "           133.27903632, 158.66616919, 192.0728913 , 157.61526091,\n",
       "           159.87627653,  92.88732818,  73.07821997,  74.01803112,\n",
       "            74.01803112, 216.04600179,  84.93903131,  75.19337926,\n",
       "           216.26479769,  78.57092473, 218.25      , 107.92006672,\n",
       "           149.09197378,  75.43999625, 101.64544852, 156.08086655])},\n",
       "   'name': '',\n",
       "   'parents': array(['Saurischia/Tyrannosauridae', 'Ornithischia/Hadrosauridae',\n",
       "          'Saurischia/Diplodocidae', 'Saurischia/Compsognathidae',\n",
       "          'Saurischia/Tyrannosauridae', 'Ornithischia/Protoceratopsidae',\n",
       "          'Ornithischia/Iguanodontidae', 'Saurischia/Diplodocidae',\n",
       "          'Saurischia/Diplodocidae', 'Saurischia/Camarasauridae',\n",
       "          'Saurischia/Carcharodontosauridae', 'Ornithischia/Ceratopsidae',\n",
       "          'Ornithischia/Chaoyangsauridae', 'Ornithischia/Ceratopsidae',\n",
       "          'Saurischia/Caenagnathidae', 'Ornithischia/Stegosauridae',\n",
       "          'Ornithischia/Hadrosauridae', 'Saurischia/Coelophysidae',\n",
       "          'Ornithischia/Hadrosauridae', 'Ornithischia/Stegosauridae',\n",
       "          'Saurischia/Tyrannosauridae', 'Ornithischia/Hadrosauridae',\n",
       "          'Saurischia/Diplodocidae', 'Ornithischia/Nodosauridae',\n",
       "          'Ornithischia/Hadrosauridae', 'Saurischia/Caenagnathidae',\n",
       "          'Saurischia/Riojasauridae', 'Saurischia/Brachiosauridae',\n",
       "          'Ornithischia/Ankylosauridae', 'Saurischia/Tyrannosauridae',\n",
       "          'Ornithischia/Hadrosauridae', 'Saurischia/Herrerasauridae',\n",
       "          'Saurischia/Oviraptoridae', 'Ornithischia/Hadrosauridae',\n",
       "          'Ornithischia/Hadrosauridae', 'Ornithischia/Hadrosauridae',\n",
       "          'Saurischia/Massospondylidae', 'Ornithischia/Heterodontosauridae',\n",
       "          'Saurischia/Abelisauridae', 'Saurischia/Mamenchisauridae',\n",
       "          'Ornithischia/Iguanodontidae', 'Saurischia/Massospondylidae',\n",
       "          'Saurischia/Megalosauridae', 'Saurischia/Megalosauridae',\n",
       "          'Saurischia/Dromaeosauridae', 'Ornithischia/Stegosauridae',\n",
       "          'Ornithischia/Rhabdodontidae', 'Ornithischia/Ceratopsidae',\n",
       "          'Saurischia/Saltasauridae', 'Saurischia/Mamenchisauridae',\n",
       "          'Saurischia/Ornithomimidae', 'Ornithischia/Ceratopsidae',\n",
       "          'Ornithischia/Hadrosauridae', 'Ornithischia/Ankylosauridae',\n",
       "          'Saurischia/Plateosauridae', 'Ornithischia/Nodosauridae',\n",
       "          'Ornithischia/Protoceratopsidae', 'Ornithischia/Rhabdodontidae',\n",
       "          'Saurischia/Dromaeosauridae', 'Saurischia/Riojasauridae',\n",
       "          'Ornithischia/Ankylosauridae', 'Saurischia/Sauropodidae',\n",
       "          'Saurischia/Dromaeosauridae', 'Ornithischia/Hadrosauridae',\n",
       "          'Ornithischia/Pachycephalosauridae', 'Saurischia/Spinosauridae',\n",
       "          'Saurischia/Herrerasauridae', 'Ornithischia/Stegosauridae',\n",
       "          'Ornithischia/Nodosauridae', 'Ornithischia/Ceratopsidae',\n",
       "          'Saurischia/Diplodocidae', 'Saurischia/Tyrannosauridae',\n",
       "          'Ornithischia/Ankylosauridae', 'Ornithischia/Ceratopsidae',\n",
       "          'Saurischia/Megalosauridae', 'Ornithischia/Hadrosauridae',\n",
       "          'Ornithischia/Ceratopsidae', 'Saurischia/Tyrannosauridae',\n",
       "          'Ornithischia/Ceratopsidae', 'Saurischia/Metriacanthosauridae',\n",
       "          'Ornithischia/Rhabdodontidae', 'Saurischia', 'Ornithischia',\n",
       "          'Saurischia', 'Saurischia', 'Saurischia', 'Saurischia',\n",
       "          'Ornithischia', 'Ornithischia', 'Saurischia', 'Saurischia',\n",
       "          'Saurischia', 'Saurischia', 'Ornithischia', 'Saurischia',\n",
       "          'Ornithischia', 'Ornithischia', 'Saurischia', 'Saurischia',\n",
       "          'Saurischia', 'Saurischia', 'Ornithischia', 'Saurischia',\n",
       "          'Saurischia', 'Ornithischia', 'Saurischia', 'Ornithischia',\n",
       "          'Ornithischia', 'Saurischia', 'Saurischia', 'Saurischia',\n",
       "          'Saurischia', 'Ornithischia', 'Saurischia', '', ''], dtype=object),\n",
       "   'values': array([  345.25 ,   276.2  ,   759.65 ,   377.79 ,   299.   ,   303.7  ,\n",
       "            929.775,   457.35 ,  1209.2  ,  2893.   ,   669.9  ,   460.3  ,\n",
       "            577.2  ,   770.7  ,   380.65 ,   663.6  ,   216.35 ,  1696.35 ,\n",
       "            616.75 ,   587.95 ,   306.05 ,    77.1  ,   759.65 ,   373.75 ,\n",
       "            756.45 ,   276.2  ,  1073.25 ,   462.75 ,   429.6  ,   537.4  ,\n",
       "            453.55 ,  1395.   ,   295.6  ,   376.3  ,   273.2  ,   770.95 ,\n",
       "            753.35 ,   776.1  ,   276.2  ,  1079.08 ,   936.11 ,   589.3  ,\n",
       "            780.83 ,   498.6  ,   952.   ,   754.95 ,   235.85 ,   385.35 ,\n",
       "            549.35 ,  1452.15 ,   656.45 ,   294.85 ,   308.2  ,   538.6  ,\n",
       "           3023.85 ,   861.   ,   445.25 ,   523.25 ,   602.8  ,   873.   ,\n",
       "            513.3  ,   873.   ,   303.65 ,   474.15 ,   295.6  ,   647.52 ,\n",
       "            891.   ,  1843.85 ,  1042.35 ,   308.2  ,  1058.05 ,   856.9  ,\n",
       "            366.95 ,   281.15 ,   912.7  ,   319.2  ,  1544.7  ,  1121.6  ,\n",
       "            385.25 ,   636.765,   442.05 ,   276.2  ,  1848.45 ,   462.75 ,\n",
       "            656.85 ,  2893.   ,   669.9  ,  4430.5  ,   577.2  ,  1696.35 ,\n",
       "            377.79 ,  4243.9  ,  1858.45 ,  4918.4  ,  2286.   ,   776.1  ,\n",
       "           1865.885,  2531.23 ,  1342.65 ,  2192.13 ,   636.765,  2277.1  ,\n",
       "            656.45 ,   295.6  ,   295.6  ,  3023.85 ,   748.95 ,  1201.15 ,\n",
       "           1946.25 ,   549.35 ,   873.   ,   647.52 ,  3850.35 ,  3466.2  ,\n",
       "          22789.685, 33582.185]),\n",
       "   'insidetextorientation': 'auto',\n",
       "   'textinfo': 'label',\n",
       "   'textfont': {'family': ['Arial Black', 'Arial'], 'size': [20, 15, 15]},\n",
       "   'type': 'sunburst'}],\n",
       " 'layout': {'template': {'data': {'barpolar': [{'marker': {'line': {'color': 'white',\n",
       "        'width': 0.5},\n",
       "       'pattern': {'fillmode': 'overlay', 'size': 10, 'solidity': 0.2}},\n",
       "      'type': 'barpolar'}],\n",
       "    'bar': [{'error_x': {'color': 'rgb(36,36,36)'},\n",
       "      'error_y': {'color': 'rgb(36,36,36)'},\n",
       "      'marker': {'line': {'color': 'white', 'width': 0.5},\n",
       "       'pattern': {'fillmode': 'overlay', 'size': 10, 'solidity': 0.2}},\n",
       "      'type': 'bar'}],\n",
       "    'carpet': [{'aaxis': {'endlinecolor': 'rgb(36,36,36)',\n",
       "       'gridcolor': 'white',\n",
       "       'linecolor': 'white',\n",
       "       'minorgridcolor': 'white',\n",
       "       'startlinecolor': 'rgb(36,36,36)'},\n",
       "      'baxis': {'endlinecolor': 'rgb(36,36,36)',\n",
       "       'gridcolor': 'white',\n",
       "       'linecolor': 'white',\n",
       "       'minorgridcolor': 'white',\n",
       "       'startlinecolor': 'rgb(36,36,36)'},\n",
       "      'type': 'carpet'}],\n",
       "    'choropleth': [{'colorbar': {'outlinewidth': 1,\n",
       "       'tickcolor': 'rgb(36,36,36)',\n",
       "       'ticks': 'outside'},\n",
       "      'type': 'choropleth'}],\n",
       "    'contourcarpet': [{'colorbar': {'outlinewidth': 1,\n",
       "       'tickcolor': 'rgb(36,36,36)',\n",
       "       'ticks': 'outside'},\n",
       "      'type': 'contourcarpet'}],\n",
       "    'contour': [{'colorbar': {'outlinewidth': 1,\n",
       "       'tickcolor': 'rgb(36,36,36)',\n",
       "       'ticks': 'outside'},\n",
       "      'colorscale': [[0.0, '#440154'],\n",
       "       [0.1111111111111111, '#482878'],\n",
       "       [0.2222222222222222, '#3e4989'],\n",
       "       [0.3333333333333333, '#31688e'],\n",
       "       [0.4444444444444444, '#26828e'],\n",
       "       [0.5555555555555556, '#1f9e89'],\n",
       "       [0.6666666666666666, '#35b779'],\n",
       "       [0.7777777777777778, '#6ece58'],\n",
       "       [0.8888888888888888, '#b5de2b'],\n",
       "       [1.0, '#fde725']],\n",
       "      'type': 'contour'}],\n",
       "    'heatmapgl': [{'colorbar': {'outlinewidth': 1,\n",
       "       'tickcolor': 'rgb(36,36,36)',\n",
       "       'ticks': 'outside'},\n",
       "      'colorscale': [[0.0, '#440154'],\n",
       "       [0.1111111111111111, '#482878'],\n",
       "       [0.2222222222222222, '#3e4989'],\n",
       "       [0.3333333333333333, '#31688e'],\n",
       "       [0.4444444444444444, '#26828e'],\n",
       "       [0.5555555555555556, '#1f9e89'],\n",
       "       [0.6666666666666666, '#35b779'],\n",
       "       [0.7777777777777778, '#6ece58'],\n",
       "       [0.8888888888888888, '#b5de2b'],\n",
       "       [1.0, '#fde725']],\n",
       "      'type': 'heatmapgl'}],\n",
       "    'heatmap': [{'colorbar': {'outlinewidth': 1,\n",
       "       'tickcolor': 'rgb(36,36,36)',\n",
       "       'ticks': 'outside'},\n",
       "      'colorscale': [[0.0, '#440154'],\n",
       "       [0.1111111111111111, '#482878'],\n",
       "       [0.2222222222222222, '#3e4989'],\n",
       "       [0.3333333333333333, '#31688e'],\n",
       "       [0.4444444444444444, '#26828e'],\n",
       "       [0.5555555555555556, '#1f9e89'],\n",
       "       [0.6666666666666666, '#35b779'],\n",
       "       [0.7777777777777778, '#6ece58'],\n",
       "       [0.8888888888888888, '#b5de2b'],\n",
       "       [1.0, '#fde725']],\n",
       "      'type': 'heatmap'}],\n",
       "    'histogram2dcontour': [{'colorbar': {'outlinewidth': 1,\n",
       "       'tickcolor': 'rgb(36,36,36)',\n",
       "       'ticks': 'outside'},\n",
       "      'colorscale': [[0.0, '#440154'],\n",
       "       [0.1111111111111111, '#482878'],\n",
       "       [0.2222222222222222, '#3e4989'],\n",
       "       [0.3333333333333333, '#31688e'],\n",
       "       [0.4444444444444444, '#26828e'],\n",
       "       [0.5555555555555556, '#1f9e89'],\n",
       "       [0.6666666666666666, '#35b779'],\n",
       "       [0.7777777777777778, '#6ece58'],\n",
       "       [0.8888888888888888, '#b5de2b'],\n",
       "       [1.0, '#fde725']],\n",
       "      'type': 'histogram2dcontour'}],\n",
       "    'histogram2d': [{'colorbar': {'outlinewidth': 1,\n",
       "       'tickcolor': 'rgb(36,36,36)',\n",
       "       'ticks': 'outside'},\n",
       "      'colorscale': [[0.0, '#440154'],\n",
       "       [0.1111111111111111, '#482878'],\n",
       "       [0.2222222222222222, '#3e4989'],\n",
       "       [0.3333333333333333, '#31688e'],\n",
       "       [0.4444444444444444, '#26828e'],\n",
       "       [0.5555555555555556, '#1f9e89'],\n",
       "       [0.6666666666666666, '#35b779'],\n",
       "       [0.7777777777777778, '#6ece58'],\n",
       "       [0.8888888888888888, '#b5de2b'],\n",
       "       [1.0, '#fde725']],\n",
       "      'type': 'histogram2d'}],\n",
       "    'histogram': [{'marker': {'line': {'color': 'white', 'width': 0.6}},\n",
       "      'type': 'histogram'}],\n",
       "    'mesh3d': [{'colorbar': {'outlinewidth': 1,\n",
       "       'tickcolor': 'rgb(36,36,36)',\n",
       "       'ticks': 'outside'},\n",
       "      'type': 'mesh3d'}],\n",
       "    'parcoords': [{'line': {'colorbar': {'outlinewidth': 1,\n",
       "        'tickcolor': 'rgb(36,36,36)',\n",
       "        'ticks': 'outside'}},\n",
       "      'type': 'parcoords'}],\n",
       "    'pie': [{'automargin': True, 'type': 'pie'}],\n",
       "    'scatter3d': [{'line': {'colorbar': {'outlinewidth': 1,\n",
       "        'tickcolor': 'rgb(36,36,36)',\n",
       "        'ticks': 'outside'}},\n",
       "      'marker': {'colorbar': {'outlinewidth': 1,\n",
       "        'tickcolor': 'rgb(36,36,36)',\n",
       "        'ticks': 'outside'}},\n",
       "      'type': 'scatter3d'}],\n",
       "    'scattercarpet': [{'marker': {'colorbar': {'outlinewidth': 1,\n",
       "        'tickcolor': 'rgb(36,36,36)',\n",
       "        'ticks': 'outside'}},\n",
       "      'type': 'scattercarpet'}],\n",
       "    'scattergeo': [{'marker': {'colorbar': {'outlinewidth': 1,\n",
       "        'tickcolor': 'rgb(36,36,36)',\n",
       "        'ticks': 'outside'}},\n",
       "      'type': 'scattergeo'}],\n",
       "    'scattergl': [{'marker': {'colorbar': {'outlinewidth': 1,\n",
       "        'tickcolor': 'rgb(36,36,36)',\n",
       "        'ticks': 'outside'}},\n",
       "      'type': 'scattergl'}],\n",
       "    'scattermapbox': [{'marker': {'colorbar': {'outlinewidth': 1,\n",
       "        'tickcolor': 'rgb(36,36,36)',\n",
       "        'ticks': 'outside'}},\n",
       "      'type': 'scattermapbox'}],\n",
       "    'scatterpolargl': [{'marker': {'colorbar': {'outlinewidth': 1,\n",
       "        'tickcolor': 'rgb(36,36,36)',\n",
       "        'ticks': 'outside'}},\n",
       "      'type': 'scatterpolargl'}],\n",
       "    'scatterpolar': [{'marker': {'colorbar': {'outlinewidth': 1,\n",
       "        'tickcolor': 'rgb(36,36,36)',\n",
       "        'ticks': 'outside'}},\n",
       "      'type': 'scatterpolar'}],\n",
       "    'scatter': [{'fillpattern': {'fillmode': 'overlay',\n",
       "       'size': 10,\n",
       "       'solidity': 0.2},\n",
       "      'type': 'scatter'}],\n",
       "    'scatterternary': [{'marker': {'colorbar': {'outlinewidth': 1,\n",
       "        'tickcolor': 'rgb(36,36,36)',\n",
       "        'ticks': 'outside'}},\n",
       "      'type': 'scatterternary'}],\n",
       "    'surface': [{'colorbar': {'outlinewidth': 1,\n",
       "       'tickcolor': 'rgb(36,36,36)',\n",
       "       'ticks': 'outside'},\n",
       "      'colorscale': [[0.0, '#440154'],\n",
       "       [0.1111111111111111, '#482878'],\n",
       "       [0.2222222222222222, '#3e4989'],\n",
       "       [0.3333333333333333, '#31688e'],\n",
       "       [0.4444444444444444, '#26828e'],\n",
       "       [0.5555555555555556, '#1f9e89'],\n",
       "       [0.6666666666666666, '#35b779'],\n",
       "       [0.7777777777777778, '#6ece58'],\n",
       "       [0.8888888888888888, '#b5de2b'],\n",
       "       [1.0, '#fde725']],\n",
       "      'type': 'surface'}],\n",
       "    'table': [{'cells': {'fill': {'color': 'rgb(237,237,237)'},\n",
       "       'line': {'color': 'white'}},\n",
       "      'header': {'fill': {'color': 'rgb(217,217,217)'},\n",
       "       'line': {'color': 'white'}},\n",
       "      'type': 'table'}]},\n",
       "   'layout': {'annotationdefaults': {'arrowhead': 0, 'arrowwidth': 1},\n",
       "    'autotypenumbers': 'strict',\n",
       "    'coloraxis': {'colorbar': {'outlinewidth': 1,\n",
       "      'tickcolor': 'rgb(36,36,36)',\n",
       "      'ticks': 'outside'}},\n",
       "    'colorscale': {'diverging': [[0.0, 'rgb(103,0,31)'],\n",
       "      [0.1, 'rgb(178,24,43)'],\n",
       "      [0.2, 'rgb(214,96,77)'],\n",
       "      [0.3, 'rgb(244,165,130)'],\n",
       "      [0.4, 'rgb(253,219,199)'],\n",
       "      [0.5, 'rgb(247,247,247)'],\n",
       "      [0.6, 'rgb(209,229,240)'],\n",
       "      [0.7, 'rgb(146,197,222)'],\n",
       "      [0.8, 'rgb(67,147,195)'],\n",
       "      [0.9, 'rgb(33,102,172)'],\n",
       "      [1.0, 'rgb(5,48,97)']],\n",
       "     'sequential': [[0.0, '#440154'],\n",
       "      [0.1111111111111111, '#482878'],\n",
       "      [0.2222222222222222, '#3e4989'],\n",
       "      [0.3333333333333333, '#31688e'],\n",
       "      [0.4444444444444444, '#26828e'],\n",
       "      [0.5555555555555556, '#1f9e89'],\n",
       "      [0.6666666666666666, '#35b779'],\n",
       "      [0.7777777777777778, '#6ece58'],\n",
       "      [0.8888888888888888, '#b5de2b'],\n",
       "      [1.0, '#fde725']],\n",
       "     'sequentialminus': [[0.0, '#440154'],\n",
       "      [0.1111111111111111, '#482878'],\n",
       "      [0.2222222222222222, '#3e4989'],\n",
       "      [0.3333333333333333, '#31688e'],\n",
       "      [0.4444444444444444, '#26828e'],\n",
       "      [0.5555555555555556, '#1f9e89'],\n",
       "      [0.6666666666666666, '#35b779'],\n",
       "      [0.7777777777777778, '#6ece58'],\n",
       "      [0.8888888888888888, '#b5de2b'],\n",
       "      [1.0, '#fde725']]},\n",
       "    'colorway': ['#1F77B4',\n",
       "     '#FF7F0E',\n",
       "     '#2CA02C',\n",
       "     '#D62728',\n",
       "     '#9467BD',\n",
       "     '#8C564B',\n",
       "     '#E377C2',\n",
       "     '#7F7F7F',\n",
       "     '#BCBD22',\n",
       "     '#17BECF'],\n",
       "    'font': {'color': 'rgb(36,36,36)'},\n",
       "    'geo': {'bgcolor': 'white',\n",
       "     'lakecolor': 'white',\n",
       "     'landcolor': 'white',\n",
       "     'showlakes': True,\n",
       "     'showland': True,\n",
       "     'subunitcolor': 'white'},\n",
       "    'hoverlabel': {'align': 'left'},\n",
       "    'hovermode': 'closest',\n",
       "    'mapbox': {'style': 'light'},\n",
       "    'paper_bgcolor': 'white',\n",
       "    'plot_bgcolor': 'white',\n",
       "    'polar': {'angularaxis': {'gridcolor': 'rgb(232,232,232)',\n",
       "      'linecolor': 'rgb(36,36,36)',\n",
       "      'showgrid': False,\n",
       "      'showline': True,\n",
       "      'ticks': 'outside'},\n",
       "     'bgcolor': 'white',\n",
       "     'radialaxis': {'gridcolor': 'rgb(232,232,232)',\n",
       "      'linecolor': 'rgb(36,36,36)',\n",
       "      'showgrid': False,\n",
       "      'showline': True,\n",
       "      'ticks': 'outside'}},\n",
       "    'scene': {'xaxis': {'backgroundcolor': 'white',\n",
       "      'gridcolor': 'rgb(232,232,232)',\n",
       "      'gridwidth': 2,\n",
       "      'linecolor': 'rgb(36,36,36)',\n",
       "      'showbackground': True,\n",
       "      'showgrid': False,\n",
       "      'showline': True,\n",
       "      'ticks': 'outside',\n",
       "      'zeroline': False,\n",
       "      'zerolinecolor': 'rgb(36,36,36)'},\n",
       "     'yaxis': {'backgroundcolor': 'white',\n",
       "      'gridcolor': 'rgb(232,232,232)',\n",
       "      'gridwidth': 2,\n",
       "      'linecolor': 'rgb(36,36,36)',\n",
       "      'showbackground': True,\n",
       "      'showgrid': False,\n",
       "      'showline': True,\n",
       "      'ticks': 'outside',\n",
       "      'zeroline': False,\n",
       "      'zerolinecolor': 'rgb(36,36,36)'},\n",
       "     'zaxis': {'backgroundcolor': 'white',\n",
       "      'gridcolor': 'rgb(232,232,232)',\n",
       "      'gridwidth': 2,\n",
       "      'linecolor': 'rgb(36,36,36)',\n",
       "      'showbackground': True,\n",
       "      'showgrid': False,\n",
       "      'showline': True,\n",
       "      'ticks': 'outside',\n",
       "      'zeroline': False,\n",
       "      'zerolinecolor': 'rgb(36,36,36)'}},\n",
       "    'shapedefaults': {'fillcolor': 'black',\n",
       "     'line': {'width': 0},\n",
       "     'opacity': 0.3},\n",
       "    'ternary': {'aaxis': {'gridcolor': 'rgb(232,232,232)',\n",
       "      'linecolor': 'rgb(36,36,36)',\n",
       "      'showgrid': False,\n",
       "      'showline': True,\n",
       "      'ticks': 'outside'},\n",
       "     'baxis': {'gridcolor': 'rgb(232,232,232)',\n",
       "      'linecolor': 'rgb(36,36,36)',\n",
       "      'showgrid': False,\n",
       "      'showline': True,\n",
       "      'ticks': 'outside'},\n",
       "     'bgcolor': 'white',\n",
       "     'caxis': {'gridcolor': 'rgb(232,232,232)',\n",
       "      'linecolor': 'rgb(36,36,36)',\n",
       "      'showgrid': False,\n",
       "      'showline': True,\n",
       "      'ticks': 'outside'}},\n",
       "    'title': {'x': 0.05},\n",
       "    'xaxis': {'automargin': True,\n",
       "     'gridcolor': 'rgb(232,232,232)',\n",
       "     'linecolor': 'rgb(36,36,36)',\n",
       "     'showgrid': False,\n",
       "     'showline': True,\n",
       "     'ticks': 'outside',\n",
       "     'title': {'standoff': 15},\n",
       "     'zeroline': False,\n",
       "     'zerolinecolor': 'rgb(36,36,36)'},\n",
       "    'yaxis': {'automargin': True,\n",
       "     'gridcolor': 'rgb(232,232,232)',\n",
       "     'linecolor': 'rgb(36,36,36)',\n",
       "     'showgrid': False,\n",
       "     'showline': True,\n",
       "     'ticks': 'outside',\n",
       "     'title': {'standoff': 15},\n",
       "     'zeroline': False,\n",
       "     'zerolinecolor': 'rgb(36,36,36)'}}},\n",
       "  'coloraxis': {'colorbar': {'title': {'text': 'M.Y.A. Lived'}},\n",
       "   'colorscale': [[0.0, 'rgb(103,0,31)'],\n",
       "    [0.1, 'rgb(178,24,43)'],\n",
       "    [0.2, 'rgb(214,96,77)'],\n",
       "    [0.3, 'rgb(244,165,130)'],\n",
       "    [0.4, 'rgb(253,219,199)'],\n",
       "    [0.5, 'rgb(247,247,247)'],\n",
       "    [0.6, 'rgb(209,229,240)'],\n",
       "    [0.7, 'rgb(146,197,222)'],\n",
       "    [0.8, 'rgb(67,147,195)'],\n",
       "    [0.9, 'rgb(33,102,172)'],\n",
       "    [1.0, 'rgb(5,48,97)']]},\n",
       "  'legend': {'tracegroupgap': 0},\n",
       "  'margin': {'t': 10, 'l': 10, 'r': 0, 'b': 10},\n",
       "  'height': 800,\n",
       "  'width': 800,\n",
       "  'uniformtext': {'minsize': 12, 'mode': 'hide'}}}"
      ]
     },
     "execution_count": 212,
     "metadata": {},
     "output_type": "execute_result"
    }
   ],
   "source": [
    "d"
   ]
  },
  {
   "cell_type": "code",
   "execution_count": 256,
   "metadata": {},
   "outputs": [
    {
     "data": {
      "application/vnd.plotly.v1+json": {
       "config": {
        "plotlyServerURL": "https://plot.ly"
       },
       "data": [
        {
         "branchvalues": "total",
         "customdata": [
          [
           69.05
          ],
          [
           69.05
          ],
          [
           151.93600671361813
          ],
          [
           125.93000000000002
          ],
          [
           74.75
          ],
          [
           75.94166941060257
          ],
          [
           132.82499999999996
          ],
          [
           152.45554280091832
          ],
          [
           151.15
          ],
          [
           152.2775095057034
          ],
          [
           112.29328257948947
          ],
          [
           76.72624375407344
          ],
          [
           144.3
          ],
          [
           77.07000778513041
          ],
          [
           76.1466767371601
          ],
          [
           165.9
          ],
          [
           72.52064941067714
          ],
          [
           212.21665487664694
          ],
          [
           77.093753546818
          ],
          [
           147.20895696913
          ],
          [
           76.52528181669662
          ],
          [
           77.1
          ],
          [
           151.93600671361813
          ],
          [
           74.75
          ],
          [
           75.66778042170665
          ],
          [
           69.05
          ],
          [
           214.65
          ],
          [
           154.25
          ],
          [
           107.40000000000002
          ],
          [
           76.7798660215854
          ],
          [
           75.73817109469739
          ],
          [
           232.5
          ],
          [
           74.01803112313937
          ],
          [
           75.27124634600054
          ],
          [
           68.3
          ],
          [
           77.09500291847718
          ],
          [
           188.45021902170308
          ],
          [
           194.04613451874764
          ],
          [
           69.05
          ],
          [
           154.86315189791304
          ],
          [
           133.73
          ],
          [
           196.70404717461398
          ],
          [
           158.53116158446778
          ],
          [
           166.19999999999996
          ],
          [
           119
          ],
          [
           150.99067819060866
          ],
          [
           78.87592749629
          ],
          [
           77.07000778513039
          ],
          [
           78.57092472922547
          ],
          [
           161.49215817925145
          ],
          [
           73.07821997105644
          ],
          [
           73.8569357300322
          ],
          [
           77.05
          ],
          [
           91.18605644262902
          ],
          [
           216.04600178580284
          ],
          [
           123.02390243902437
          ],
          [
           91.07603032004491
          ],
          [
           74.75
          ],
          [
           101.77466821499668
          ],
          [
           218.25
          ],
          [
           85.55
          ],
          [
           218.25
          ],
          [
           75.92954882265767
          ],
          [
           79.25088579563429
          ],
          [
           74.01803112313937
          ],
          [
           107.92006671608597
          ],
          [
           222.75
          ],
          [
           142.86580931203727
          ],
          [
           74.49737851969108
          ],
          [
           77.05
          ],
          [
           151.15000000000003
          ],
          [
           77.90000000000002
          ],
          [
           73.57071126856519
          ],
          [
           70.38327405299661
          ],
          [
           152.14192505752166
          ],
          [
           80.20869360902255
          ],
          [
           73.63962905418528
          ],
          [
           74.77334165477887
          ],
          [
           77.05
          ],
          [
           159.8762765305882
          ],
          [
           73.75342721411604
          ],
          [
           69.05
          ],
          [
           89.89230842056858
          ],
          [
           154.25
          ],
          [
           73.16258278145696
          ],
          [
           152.2775095057034
          ],
          [
           112.29328257948947
          ],
          [
           75.19699921002145
          ],
          [
           144.3
          ],
          [
           212.21665487664694
          ],
          [
           125.93000000000002
          ],
          [
           151.57208110464433
          ],
          [
           106.37562350345719
          ],
          [
           75.87632766753414
          ],
          [
           228.6998031496063
          ],
          [
           194.04613451874764
          ],
          [
           133.27903631520695
          ],
          [
           158.66616919442325
          ],
          [
           192.0728912970618
          ],
          [
           157.6152609106212
          ],
          [
           159.8762765305882
          ],
          [
           92.88732818058055
          ],
          [
           73.07821997105644
          ],
          [
           74.01803112313937
          ],
          [
           74.01803112313937
          ],
          [
           216.04600178580284
          ],
          [
           84.93903131050136
          ],
          [
           75.19337926154101
          ],
          [
           216.2647976878613
          ],
          [
           78.57092472922547
          ],
          [
           218.25
          ],
          [
           107.92006671608597
          ],
          [
           149.09197378160428
          ],
          [
           75.43999624949512
          ],
          [
           101.64544851870487
          ],
          [
           156.0808665479926
          ]
         ],
         "domain": {
          "x": [
           0,
           1
          ],
          "y": [
           0,
           1
          ]
         },
         "hovertemplate": "%{label}<br>MA: %{value}<br><extra></extra>",
         "ids": [
          "Saurischia/Tyrannosauridae/Alioramus",
          "Ornithischia/Hadrosauridae/Amurosaurus",
          "Saurischia/Diplodocidae/Apatosaurus",
          "Saurischia/Compsognathidae/Aristosuchus",
          "Saurischia/Tyrannosauridae/Aublysodon",
          "Ornithischia/Protoceratopsidae/Bagaceratops",
          "Ornithischia/Iguanodontidae/Barilium",
          "Saurischia/Diplodocidae/Barosaurus",
          "Saurischia/Diplodocidae/Brontosaurus",
          "Saurischia/Camarasauridae/Camarasaurus",
          "Saurischia/Carcharodontosauridae/Carcharodontosaurus",
          "Ornithischia/Ceratopsidae/Centrosaurus",
          "Ornithischia/Chaoyangsauridae/Chaoyangsaurus",
          "Ornithischia/Ceratopsidae/Chasmosaurus",
          "Saurischia/Caenagnathidae/Chirostenotes",
          "Ornithischia/Stegosauridae/Chungkingosaurus",
          "Ornithischia/Hadrosauridae/Cionodon",
          "Saurischia/Coelophysidae/Coelophysis",
          "Ornithischia/Hadrosauridae/Corythosaurus",
          "Ornithischia/Stegosauridae/Dacentrurus",
          "Saurischia/Tyrannosauridae/Daspletosaurus",
          "Ornithischia/Hadrosauridae/Diclonius",
          "Saurischia/Diplodocidae/Diplodocus",
          "Ornithischia/Nodosauridae/Edmontonia",
          "Ornithischia/Hadrosauridae/Edmontosaurus",
          "Saurischia/Caenagnathidae/Elmisaurus",
          "Saurischia/Riojasauridae/Eucnemesaurus",
          "Saurischia/Brachiosauridae/Giraffatitan",
          "Ornithischia/Ankylosauridae/Gobisaurus",
          "Saurischia/Tyrannosauridae/Gorgosaurus",
          "Ornithischia/Hadrosauridae/Gryposaurus",
          "Saurischia/Herrerasauridae/Herrerasaurus",
          "Saurischia/Oviraptoridae/Heyuannia",
          "Ornithischia/Hadrosauridae/Hypacrosaurus",
          "Ornithischia/Hadrosauridae/Kerberosaurus",
          "Ornithischia/Hadrosauridae/Lambeosaurus",
          "Saurischia/Massospondylidae/Lufengosaurus",
          "Ornithischia/Heterodontosauridae/Lycorhinus",
          "Saurischia/Abelisauridae/Majungasaurus",
          "Saurischia/Mamenchisauridae/Mamenchisaurus",
          "Ornithischia/Iguanodontidae/Mantellisaurus",
          "Saurischia/Massospondylidae/Massospondylus",
          "Saurischia/Megalosauridae/Megalosaurus",
          "Saurischia/Megalosauridae/Megalosaurus (Poekilopleuron)",
          "Saurischia/Dromaeosauridae/Microraptor",
          "Ornithischia/Stegosauridae/Miragaia",
          "Ornithischia/Rhabdodontidae/Mochlodon",
          "Ornithischia/Ceratopsidae/Monoclonius",
          "Saurischia/Saltasauridae/Neuquensaurus",
          "Saurischia/Mamenchisauridae/Omeisaurus",
          "Saurischia/Ornithomimidae/Ornithomimus",
          "Ornithischia/Ceratopsidae/Pachyrhinosaurus",
          "Ornithischia/Hadrosauridae/Parasaurolophus",
          "Ornithischia/Ankylosauridae/Pinacosaurus",
          "Saurischia/Plateosauridae/Plateosaurus",
          "Ornithischia/Nodosauridae/Polacanthus",
          "Ornithischia/Protoceratopsidae/Protoceratops",
          "Ornithischia/Rhabdodontidae/Rhabdodon",
          "Saurischia/Dromaeosauridae/Richardoestesia",
          "Saurischia/Riojasauridae/Riojasaurus",
          "Ornithischia/Ankylosauridae/Saichania",
          "Saurischia/Sauropodidae/Sauropus",
          "Saurischia/Dromaeosauridae/Saurornitholestes",
          "Ornithischia/Hadrosauridae/Shantungosaurus",
          "Ornithischia/Pachycephalosauridae/Sphaerotholus",
          "Saurischia/Spinosauridae/Spinosaurus",
          "Saurischia/Herrerasauridae/Staurikosaurus",
          "Ornithischia/Stegosauridae/Stegosaurus",
          "Ornithischia/Nodosauridae/Struthiosaurus",
          "Ornithischia/Ceratopsidae/Styracosaurus",
          "Saurischia/Diplodocidae/Supersaurus",
          "Saurischia/Tyrannosauridae/Tarbosaurus",
          "Ornithischia/Ankylosauridae/Tarchia",
          "Ornithischia/Ceratopsidae/Torosaurus",
          "Saurischia/Megalosauridae/Torvosaurus",
          "Ornithischia/Hadrosauridae/Trachodon",
          "Ornithischia/Ceratopsidae/Triceratops",
          "Saurischia/Tyrannosauridae/Tyrannosaurus",
          "Ornithischia/Ceratopsidae/Vagaceratops",
          "Saurischia/Metriacanthosauridae/Yangchuanosaurus",
          "Ornithischia/Rhabdodontidae/Zalmoxes",
          "Saurischia/Abelisauridae",
          "Ornithischia/Ankylosauridae",
          "Saurischia/Brachiosauridae",
          "Saurischia/Caenagnathidae",
          "Saurischia/Camarasauridae",
          "Saurischia/Carcharodontosauridae",
          "Ornithischia/Ceratopsidae",
          "Ornithischia/Chaoyangsauridae",
          "Saurischia/Coelophysidae",
          "Saurischia/Compsognathidae",
          "Saurischia/Diplodocidae",
          "Saurischia/Dromaeosauridae",
          "Ornithischia/Hadrosauridae",
          "Saurischia/Herrerasauridae",
          "Ornithischia/Heterodontosauridae",
          "Ornithischia/Iguanodontidae",
          "Saurischia/Mamenchisauridae",
          "Saurischia/Massospondylidae",
          "Saurischia/Megalosauridae",
          "Saurischia/Metriacanthosauridae",
          "Ornithischia/Nodosauridae",
          "Saurischia/Ornithomimidae",
          "Saurischia/Oviraptoridae",
          "Ornithischia/Pachycephalosauridae",
          "Saurischia/Plateosauridae",
          "Ornithischia/Protoceratopsidae",
          "Ornithischia/Rhabdodontidae",
          "Saurischia/Riojasauridae",
          "Saurischia/Saltasauridae",
          "Saurischia/Sauropodidae",
          "Saurischia/Spinosauridae",
          "Ornithischia/Stegosauridae",
          "Saurischia/Tyrannosauridae",
          "Ornithischia",
          "Saurischia"
         ],
         "insidetextorientation": "auto",
         "labels": [
          " Alioramus ",
          " Amurosaurus ",
          " Apatosaurus ",
          " Aristosuchus ",
          " Aublysodon ",
          " Bagaceratops ",
          " Barilium ",
          " Barosaurus ",
          " Brontosaurus ",
          " Camarasaurus ",
          " Carcharodontosaurus ",
          " Centrosaurus ",
          " Chaoyangsaurus ",
          " Chasmosaurus ",
          " Chirostenotes ",
          " Chungkingosaurus ",
          " Cionodon ",
          " Coelophysis ",
          " Corythosaurus ",
          " Dacentrurus ",
          " Daspletosaurus ",
          " Diclonius ",
          " Diplodocus ",
          " Edmontonia ",
          " Edmontosaurus ",
          " Elmisaurus ",
          " Eucnemesaurus ",
          " Giraffatitan ",
          " Gobisaurus ",
          " Gorgosaurus ",
          " Gryposaurus ",
          " Herrerasaurus ",
          " Heyuannia ",
          " Hypacrosaurus ",
          " Kerberosaurus ",
          " Lambeosaurus ",
          " Lufengosaurus ",
          " Lycorhinus ",
          " Majungasaurus ",
          " Mamenchisaurus ",
          " Mantellisaurus ",
          " Massospondylus ",
          " Megalosaurus ",
          " Megalosaurus (Poekilopleuron) ",
          " Microraptor ",
          " Miragaia ",
          " Mochlodon ",
          " Monoclonius ",
          " Neuquensaurus ",
          " Omeisaurus ",
          " Ornithomimus ",
          " Pachyrhinosaurus ",
          " Parasaurolophus ",
          " Pinacosaurus ",
          " Plateosaurus ",
          " Polacanthus ",
          " Protoceratops ",
          " Rhabdodon ",
          " Richardoestesia ",
          " Riojasaurus ",
          " Saichania ",
          " Sauropus ",
          " Saurornitholestes ",
          " Shantungosaurus ",
          " Sphaerotholus ",
          " Spinosaurus ",
          " Staurikosaurus ",
          " Stegosaurus ",
          " Struthiosaurus ",
          " Styracosaurus ",
          " Supersaurus ",
          " Tarbosaurus ",
          " Tarchia ",
          " Torosaurus ",
          " Torvosaurus ",
          " Trachodon ",
          " Triceratops ",
          " Tyrannosaurus ",
          " Vagaceratops ",
          " Yangchuanosaurus ",
          " Zalmoxes ",
          "<span style=\"font-size: 12px;\">Abelisauridae</span>",
          "<span style=\"font-size: 12px;\">Ankylosauridae</span>",
          "<span style=\"font-size: 12px;\">Brachiosauridae</span>",
          "<span style=\"font-size: 12px;\">Caenagnathidae</span>",
          "<span style=\"font-size: 12px;\">Camarasauridae</span>",
          "<span style=\"font-size: 12px;\">Carcharodontosauridae</span>",
          "<span style=\"font-size: 12px;\">Ceratopsidae</span>",
          "<span style=\"font-size: 12px;\">Chaoyangsauridae</span>",
          "<span style=\"font-size: 12px;\">Coelophysidae</span>",
          "<span style=\"font-size: 12px;\">Compsognathidae</span>",
          "<span style=\"font-size: 12px;\">Diplodocidae</span>",
          "<span style=\"font-size: 12px;\">Dromaeosauridae</span>",
          "<span style=\"font-size: 12px;\">Hadrosauridae</span>",
          "<span style=\"font-size: 12px;\">Herrerasauridae</span>",
          "<span style=\"font-size: 12px;\">Heterodontosauridae</span>",
          "<span style=\"font-size: 12px;\">Iguanodontidae</span>",
          "<span style=\"font-size: 12px;\">Mamenchisauridae</span>",
          "<span style=\"font-size: 12px;\">Massospondylidae</span>",
          "<span style=\"font-size: 12px;\">Megalosauridae</span>",
          "<span style=\"font-size: 12px;\">Metriacanthosauridae</span>",
          "<span style=\"font-size: 12px;\">Nodosauridae</span>",
          "<span style=\"font-size: 12px;\">Ornithomimidae</span>",
          "<span style=\"font-size: 12px;\">Oviraptoridae</span>",
          "<span style=\"font-size: 12px;\">Pachycephalosauridae</span>",
          "<span style=\"font-size: 12px;\">Plateosauridae</span>",
          "<span style=\"font-size: 12px;\">Protoceratopsidae</span>",
          "<span style=\"font-size: 12px;\">Rhabdodontidae</span>",
          "<span style=\"font-size: 12px;\">Riojasauridae</span>",
          "<span style=\"font-size: 12px;\">Saltasauridae</span>",
          "<span style=\"font-size: 12px;\">Sauropodidae</span>",
          "<span style=\"font-size: 12px;\">Spinosauridae</span>",
          "<span style=\"font-size: 12px;\">Stegosauridae</span>",
          "<span style=\"font-size: 12px;\">Tyrannosauridae</span>",
          "<span style=\"font-size: 24px;\"><b>Ornithischia</b></span>",
          "<span style=\"font-size: 24px;\"><b>Saurischia</b></span>"
         ],
         "marker": {
          "coloraxis": "coloraxis",
          "colors": [
           69.05,
           69.05,
           151.93600671361813,
           125.93000000000002,
           74.75,
           75.94166941060257,
           132.82499999999996,
           152.45554280091832,
           151.15,
           152.2775095057034,
           112.29328257948947,
           76.72624375407344,
           144.3,
           77.07000778513041,
           76.1466767371601,
           165.9,
           72.52064941067714,
           212.21665487664694,
           77.093753546818,
           147.20895696913,
           76.52528181669662,
           77.1,
           151.93600671361813,
           74.75,
           75.66778042170665,
           69.05,
           214.65,
           154.25,
           107.40000000000002,
           76.7798660215854,
           75.73817109469739,
           232.5,
           74.01803112313937,
           75.27124634600054,
           68.3,
           77.09500291847718,
           188.45021902170308,
           194.04613451874764,
           69.05,
           154.86315189791304,
           133.73,
           196.70404717461398,
           158.53116158446778,
           166.19999999999996,
           119,
           150.99067819060866,
           78.87592749629,
           77.07000778513039,
           78.57092472922547,
           161.49215817925145,
           73.07821997105644,
           73.8569357300322,
           77.05,
           91.18605644262902,
           216.04600178580284,
           123.02390243902437,
           91.07603032004491,
           74.75,
           101.77466821499668,
           218.25,
           85.55,
           218.25,
           75.92954882265767,
           79.25088579563429,
           74.01803112313937,
           107.92006671608597,
           222.75,
           142.86580931203727,
           74.49737851969108,
           77.05,
           151.15000000000003,
           77.90000000000002,
           73.57071126856519,
           70.38327405299661,
           152.14192505752166,
           80.20869360902255,
           73.63962905418528,
           74.77334165477887,
           77.05,
           159.8762765305882,
           73.75342721411604,
           69.05,
           89.89230842056858,
           154.25,
           73.16258278145696,
           152.2775095057034,
           112.29328257948947,
           75.19699921002145,
           144.3,
           212.21665487664694,
           125.93000000000002,
           151.57208110464433,
           106.37562350345719,
           75.87632766753414,
           228.6998031496063,
           194.04613451874764,
           133.27903631520695,
           158.66616919442325,
           192.0728912970618,
           157.6152609106212,
           159.8762765305882,
           92.88732818058055,
           73.07821997105644,
           74.01803112313937,
           74.01803112313937,
           216.04600178580284,
           84.93903131050136,
           75.19337926154101,
           216.2647976878613,
           78.57092472922547,
           218.25,
           107.92006671608597,
           149.09197378160428,
           75.43999624949512,
           101.64544851870487,
           156.0808665479926
          ]
         },
         "name": "",
         "parents": [
          "Saurischia/Tyrannosauridae",
          "Ornithischia/Hadrosauridae",
          "Saurischia/Diplodocidae",
          "Saurischia/Compsognathidae",
          "Saurischia/Tyrannosauridae",
          "Ornithischia/Protoceratopsidae",
          "Ornithischia/Iguanodontidae",
          "Saurischia/Diplodocidae",
          "Saurischia/Diplodocidae",
          "Saurischia/Camarasauridae",
          "Saurischia/Carcharodontosauridae",
          "Ornithischia/Ceratopsidae",
          "Ornithischia/Chaoyangsauridae",
          "Ornithischia/Ceratopsidae",
          "Saurischia/Caenagnathidae",
          "Ornithischia/Stegosauridae",
          "Ornithischia/Hadrosauridae",
          "Saurischia/Coelophysidae",
          "Ornithischia/Hadrosauridae",
          "Ornithischia/Stegosauridae",
          "Saurischia/Tyrannosauridae",
          "Ornithischia/Hadrosauridae",
          "Saurischia/Diplodocidae",
          "Ornithischia/Nodosauridae",
          "Ornithischia/Hadrosauridae",
          "Saurischia/Caenagnathidae",
          "Saurischia/Riojasauridae",
          "Saurischia/Brachiosauridae",
          "Ornithischia/Ankylosauridae",
          "Saurischia/Tyrannosauridae",
          "Ornithischia/Hadrosauridae",
          "Saurischia/Herrerasauridae",
          "Saurischia/Oviraptoridae",
          "Ornithischia/Hadrosauridae",
          "Ornithischia/Hadrosauridae",
          "Ornithischia/Hadrosauridae",
          "Saurischia/Massospondylidae",
          "Ornithischia/Heterodontosauridae",
          "Saurischia/Abelisauridae",
          "Saurischia/Mamenchisauridae",
          "Ornithischia/Iguanodontidae",
          "Saurischia/Massospondylidae",
          "Saurischia/Megalosauridae",
          "Saurischia/Megalosauridae",
          "Saurischia/Dromaeosauridae",
          "Ornithischia/Stegosauridae",
          "Ornithischia/Rhabdodontidae",
          "Ornithischia/Ceratopsidae",
          "Saurischia/Saltasauridae",
          "Saurischia/Mamenchisauridae",
          "Saurischia/Ornithomimidae",
          "Ornithischia/Ceratopsidae",
          "Ornithischia/Hadrosauridae",
          "Ornithischia/Ankylosauridae",
          "Saurischia/Plateosauridae",
          "Ornithischia/Nodosauridae",
          "Ornithischia/Protoceratopsidae",
          "Ornithischia/Rhabdodontidae",
          "Saurischia/Dromaeosauridae",
          "Saurischia/Riojasauridae",
          "Ornithischia/Ankylosauridae",
          "Saurischia/Sauropodidae",
          "Saurischia/Dromaeosauridae",
          "Ornithischia/Hadrosauridae",
          "Ornithischia/Pachycephalosauridae",
          "Saurischia/Spinosauridae",
          "Saurischia/Herrerasauridae",
          "Ornithischia/Stegosauridae",
          "Ornithischia/Nodosauridae",
          "Ornithischia/Ceratopsidae",
          "Saurischia/Diplodocidae",
          "Saurischia/Tyrannosauridae",
          "Ornithischia/Ankylosauridae",
          "Ornithischia/Ceratopsidae",
          "Saurischia/Megalosauridae",
          "Ornithischia/Hadrosauridae",
          "Ornithischia/Ceratopsidae",
          "Saurischia/Tyrannosauridae",
          "Ornithischia/Ceratopsidae",
          "Saurischia/Metriacanthosauridae",
          "Ornithischia/Rhabdodontidae",
          "Saurischia",
          "Ornithischia",
          "Saurischia",
          "Saurischia",
          "Saurischia",
          "Saurischia",
          "Ornithischia",
          "Ornithischia",
          "Saurischia",
          "Saurischia",
          "Saurischia",
          "Saurischia",
          "Ornithischia",
          "Saurischia",
          "Ornithischia",
          "Ornithischia",
          "Saurischia",
          "Saurischia",
          "Saurischia",
          "Saurischia",
          "Ornithischia",
          "Saurischia",
          "Saurischia",
          "Ornithischia",
          "Saurischia",
          "Ornithischia",
          "Ornithischia",
          "Saurischia",
          "Saurischia",
          "Saurischia",
          "Saurischia",
          "Ornithischia",
          "Saurischia",
          "",
          ""
         ],
         "textfont": {
          "family": [
           "Arial Black",
           "Arial"
          ],
          "size": [
           20,
           15,
           15
          ]
         },
         "textinfo": "label",
         "type": "sunburst",
         "values": [
          345.25,
          276.2,
          759.65,
          377.79,
          299,
          303.7,
          929.7749999999999,
          457.35,
          1209.2,
          2893,
          669.9,
          460.29999999999995,
          577.2,
          770.6999999999999,
          380.65,
          663.6,
          216.35,
          1696.3500000000001,
          616.75,
          587.95,
          306.04999999999995,
          77.1,
          759.65,
          373.75,
          756.45,
          276.2,
          1073.25,
          462.75,
          429.6,
          537.4,
          453.54999999999995,
          1395,
          295.6,
          376.29999999999995,
          273.2,
          770.9499999999999,
          753.35,
          776.1,
          276.2,
          1079.08,
          936.1099999999999,
          589.3,
          780.8299999999999,
          498.59999999999997,
          952,
          754.95,
          235.85,
          385.34999999999997,
          549.35,
          1452.15,
          656.45,
          294.85,
          308.2,
          538.6,
          3023.85,
          861,
          445.25,
          523.25,
          602.8,
          873,
          513.3,
          873,
          303.65,
          474.15,
          295.6,
          647.52,
          891,
          1843.8500000000001,
          1042.35,
          308.2,
          1058.05,
          856.9000000000001,
          366.95,
          281.15,
          912.7,
          319.2,
          1544.7,
          1121.6,
          385.25,
          636.7650000000001,
          442.05,
          276.2,
          1848.45,
          462.75,
          656.85,
          2893,
          669.9,
          4430.5,
          577.2,
          1696.3500000000001,
          377.79,
          4243.9,
          1858.45,
          4918.4,
          2286,
          776.1,
          1865.8849999999998,
          2531.23,
          1342.65,
          2192.13,
          636.7650000000001,
          2277.1,
          656.45,
          295.6,
          295.6,
          3023.85,
          748.9499999999999,
          1201.15,
          1946.25,
          549.35,
          873,
          647.52,
          3850.35,
          3466.2,
          22789.685,
          33582.185
         ]
        }
       ],
       "layout": {
        "coloraxis": {
         "colorbar": {
          "title": {
           "text": "M.Y.A. Lived"
          }
         },
         "colorscale": [
          [
           0,
           "rgb(0, 155, 158)"
          ],
          [
           0.16666666666666666,
           "rgb(66, 183, 185)"
          ],
          [
           0.3333333333333333,
           "rgb(167, 211, 212)"
          ],
          [
           0.5,
           "rgb(241, 241, 241)"
          ],
          [
           0.6666666666666666,
           "rgb(228, 193, 217)"
          ],
          [
           0.8333333333333334,
           "rgb(214, 145, 193)"
          ],
          [
           1,
           "rgb(199, 93, 171)"
          ]
         ]
        },
        "height": 800,
        "legend": {
         "tracegroupgap": 0
        },
        "margin": {
         "b": 0,
         "l": 0,
         "r": 0,
         "t": 0
        },
        "template": {
         "data": {
          "bar": [
           {
            "error_x": {
             "color": "rgb(36,36,36)"
            },
            "error_y": {
             "color": "rgb(36,36,36)"
            },
            "marker": {
             "line": {
              "color": "white",
              "width": 0.5
             },
             "pattern": {
              "fillmode": "overlay",
              "size": 10,
              "solidity": 0.2
             }
            },
            "type": "bar"
           }
          ],
          "barpolar": [
           {
            "marker": {
             "line": {
              "color": "white",
              "width": 0.5
             },
             "pattern": {
              "fillmode": "overlay",
              "size": 10,
              "solidity": 0.2
             }
            },
            "type": "barpolar"
           }
          ],
          "carpet": [
           {
            "aaxis": {
             "endlinecolor": "rgb(36,36,36)",
             "gridcolor": "white",
             "linecolor": "white",
             "minorgridcolor": "white",
             "startlinecolor": "rgb(36,36,36)"
            },
            "baxis": {
             "endlinecolor": "rgb(36,36,36)",
             "gridcolor": "white",
             "linecolor": "white",
             "minorgridcolor": "white",
             "startlinecolor": "rgb(36,36,36)"
            },
            "type": "carpet"
           }
          ],
          "choropleth": [
           {
            "colorbar": {
             "outlinewidth": 1,
             "tickcolor": "rgb(36,36,36)",
             "ticks": "outside"
            },
            "type": "choropleth"
           }
          ],
          "contour": [
           {
            "colorbar": {
             "outlinewidth": 1,
             "tickcolor": "rgb(36,36,36)",
             "ticks": "outside"
            },
            "colorscale": [
             [
              0,
              "#440154"
             ],
             [
              0.1111111111111111,
              "#482878"
             ],
             [
              0.2222222222222222,
              "#3e4989"
             ],
             [
              0.3333333333333333,
              "#31688e"
             ],
             [
              0.4444444444444444,
              "#26828e"
             ],
             [
              0.5555555555555556,
              "#1f9e89"
             ],
             [
              0.6666666666666666,
              "#35b779"
             ],
             [
              0.7777777777777778,
              "#6ece58"
             ],
             [
              0.8888888888888888,
              "#b5de2b"
             ],
             [
              1,
              "#fde725"
             ]
            ],
            "type": "contour"
           }
          ],
          "contourcarpet": [
           {
            "colorbar": {
             "outlinewidth": 1,
             "tickcolor": "rgb(36,36,36)",
             "ticks": "outside"
            },
            "type": "contourcarpet"
           }
          ],
          "heatmap": [
           {
            "colorbar": {
             "outlinewidth": 1,
             "tickcolor": "rgb(36,36,36)",
             "ticks": "outside"
            },
            "colorscale": [
             [
              0,
              "#440154"
             ],
             [
              0.1111111111111111,
              "#482878"
             ],
             [
              0.2222222222222222,
              "#3e4989"
             ],
             [
              0.3333333333333333,
              "#31688e"
             ],
             [
              0.4444444444444444,
              "#26828e"
             ],
             [
              0.5555555555555556,
              "#1f9e89"
             ],
             [
              0.6666666666666666,
              "#35b779"
             ],
             [
              0.7777777777777778,
              "#6ece58"
             ],
             [
              0.8888888888888888,
              "#b5de2b"
             ],
             [
              1,
              "#fde725"
             ]
            ],
            "type": "heatmap"
           }
          ],
          "heatmapgl": [
           {
            "colorbar": {
             "outlinewidth": 1,
             "tickcolor": "rgb(36,36,36)",
             "ticks": "outside"
            },
            "colorscale": [
             [
              0,
              "#440154"
             ],
             [
              0.1111111111111111,
              "#482878"
             ],
             [
              0.2222222222222222,
              "#3e4989"
             ],
             [
              0.3333333333333333,
              "#31688e"
             ],
             [
              0.4444444444444444,
              "#26828e"
             ],
             [
              0.5555555555555556,
              "#1f9e89"
             ],
             [
              0.6666666666666666,
              "#35b779"
             ],
             [
              0.7777777777777778,
              "#6ece58"
             ],
             [
              0.8888888888888888,
              "#b5de2b"
             ],
             [
              1,
              "#fde725"
             ]
            ],
            "type": "heatmapgl"
           }
          ],
          "histogram": [
           {
            "marker": {
             "line": {
              "color": "white",
              "width": 0.6
             }
            },
            "type": "histogram"
           }
          ],
          "histogram2d": [
           {
            "colorbar": {
             "outlinewidth": 1,
             "tickcolor": "rgb(36,36,36)",
             "ticks": "outside"
            },
            "colorscale": [
             [
              0,
              "#440154"
             ],
             [
              0.1111111111111111,
              "#482878"
             ],
             [
              0.2222222222222222,
              "#3e4989"
             ],
             [
              0.3333333333333333,
              "#31688e"
             ],
             [
              0.4444444444444444,
              "#26828e"
             ],
             [
              0.5555555555555556,
              "#1f9e89"
             ],
             [
              0.6666666666666666,
              "#35b779"
             ],
             [
              0.7777777777777778,
              "#6ece58"
             ],
             [
              0.8888888888888888,
              "#b5de2b"
             ],
             [
              1,
              "#fde725"
             ]
            ],
            "type": "histogram2d"
           }
          ],
          "histogram2dcontour": [
           {
            "colorbar": {
             "outlinewidth": 1,
             "tickcolor": "rgb(36,36,36)",
             "ticks": "outside"
            },
            "colorscale": [
             [
              0,
              "#440154"
             ],
             [
              0.1111111111111111,
              "#482878"
             ],
             [
              0.2222222222222222,
              "#3e4989"
             ],
             [
              0.3333333333333333,
              "#31688e"
             ],
             [
              0.4444444444444444,
              "#26828e"
             ],
             [
              0.5555555555555556,
              "#1f9e89"
             ],
             [
              0.6666666666666666,
              "#35b779"
             ],
             [
              0.7777777777777778,
              "#6ece58"
             ],
             [
              0.8888888888888888,
              "#b5de2b"
             ],
             [
              1,
              "#fde725"
             ]
            ],
            "type": "histogram2dcontour"
           }
          ],
          "mesh3d": [
           {
            "colorbar": {
             "outlinewidth": 1,
             "tickcolor": "rgb(36,36,36)",
             "ticks": "outside"
            },
            "type": "mesh3d"
           }
          ],
          "parcoords": [
           {
            "line": {
             "colorbar": {
              "outlinewidth": 1,
              "tickcolor": "rgb(36,36,36)",
              "ticks": "outside"
             }
            },
            "type": "parcoords"
           }
          ],
          "pie": [
           {
            "automargin": true,
            "type": "pie"
           }
          ],
          "scatter": [
           {
            "fillpattern": {
             "fillmode": "overlay",
             "size": 10,
             "solidity": 0.2
            },
            "type": "scatter"
           }
          ],
          "scatter3d": [
           {
            "line": {
             "colorbar": {
              "outlinewidth": 1,
              "tickcolor": "rgb(36,36,36)",
              "ticks": "outside"
             }
            },
            "marker": {
             "colorbar": {
              "outlinewidth": 1,
              "tickcolor": "rgb(36,36,36)",
              "ticks": "outside"
             }
            },
            "type": "scatter3d"
           }
          ],
          "scattercarpet": [
           {
            "marker": {
             "colorbar": {
              "outlinewidth": 1,
              "tickcolor": "rgb(36,36,36)",
              "ticks": "outside"
             }
            },
            "type": "scattercarpet"
           }
          ],
          "scattergeo": [
           {
            "marker": {
             "colorbar": {
              "outlinewidth": 1,
              "tickcolor": "rgb(36,36,36)",
              "ticks": "outside"
             }
            },
            "type": "scattergeo"
           }
          ],
          "scattergl": [
           {
            "marker": {
             "colorbar": {
              "outlinewidth": 1,
              "tickcolor": "rgb(36,36,36)",
              "ticks": "outside"
             }
            },
            "type": "scattergl"
           }
          ],
          "scattermapbox": [
           {
            "marker": {
             "colorbar": {
              "outlinewidth": 1,
              "tickcolor": "rgb(36,36,36)",
              "ticks": "outside"
             }
            },
            "type": "scattermapbox"
           }
          ],
          "scatterpolar": [
           {
            "marker": {
             "colorbar": {
              "outlinewidth": 1,
              "tickcolor": "rgb(36,36,36)",
              "ticks": "outside"
             }
            },
            "type": "scatterpolar"
           }
          ],
          "scatterpolargl": [
           {
            "marker": {
             "colorbar": {
              "outlinewidth": 1,
              "tickcolor": "rgb(36,36,36)",
              "ticks": "outside"
             }
            },
            "type": "scatterpolargl"
           }
          ],
          "scatterternary": [
           {
            "marker": {
             "colorbar": {
              "outlinewidth": 1,
              "tickcolor": "rgb(36,36,36)",
              "ticks": "outside"
             }
            },
            "type": "scatterternary"
           }
          ],
          "surface": [
           {
            "colorbar": {
             "outlinewidth": 1,
             "tickcolor": "rgb(36,36,36)",
             "ticks": "outside"
            },
            "colorscale": [
             [
              0,
              "#440154"
             ],
             [
              0.1111111111111111,
              "#482878"
             ],
             [
              0.2222222222222222,
              "#3e4989"
             ],
             [
              0.3333333333333333,
              "#31688e"
             ],
             [
              0.4444444444444444,
              "#26828e"
             ],
             [
              0.5555555555555556,
              "#1f9e89"
             ],
             [
              0.6666666666666666,
              "#35b779"
             ],
             [
              0.7777777777777778,
              "#6ece58"
             ],
             [
              0.8888888888888888,
              "#b5de2b"
             ],
             [
              1,
              "#fde725"
             ]
            ],
            "type": "surface"
           }
          ],
          "table": [
           {
            "cells": {
             "fill": {
              "color": "rgb(237,237,237)"
             },
             "line": {
              "color": "white"
             }
            },
            "header": {
             "fill": {
              "color": "rgb(217,217,217)"
             },
             "line": {
              "color": "white"
             }
            },
            "type": "table"
           }
          ]
         },
         "layout": {
          "annotationdefaults": {
           "arrowhead": 0,
           "arrowwidth": 1
          },
          "autotypenumbers": "strict",
          "coloraxis": {
           "colorbar": {
            "outlinewidth": 1,
            "tickcolor": "rgb(36,36,36)",
            "ticks": "outside"
           }
          },
          "colorscale": {
           "diverging": [
            [
             0,
             "rgb(103,0,31)"
            ],
            [
             0.1,
             "rgb(178,24,43)"
            ],
            [
             0.2,
             "rgb(214,96,77)"
            ],
            [
             0.3,
             "rgb(244,165,130)"
            ],
            [
             0.4,
             "rgb(253,219,199)"
            ],
            [
             0.5,
             "rgb(247,247,247)"
            ],
            [
             0.6,
             "rgb(209,229,240)"
            ],
            [
             0.7,
             "rgb(146,197,222)"
            ],
            [
             0.8,
             "rgb(67,147,195)"
            ],
            [
             0.9,
             "rgb(33,102,172)"
            ],
            [
             1,
             "rgb(5,48,97)"
            ]
           ],
           "sequential": [
            [
             0,
             "#440154"
            ],
            [
             0.1111111111111111,
             "#482878"
            ],
            [
             0.2222222222222222,
             "#3e4989"
            ],
            [
             0.3333333333333333,
             "#31688e"
            ],
            [
             0.4444444444444444,
             "#26828e"
            ],
            [
             0.5555555555555556,
             "#1f9e89"
            ],
            [
             0.6666666666666666,
             "#35b779"
            ],
            [
             0.7777777777777778,
             "#6ece58"
            ],
            [
             0.8888888888888888,
             "#b5de2b"
            ],
            [
             1,
             "#fde725"
            ]
           ],
           "sequentialminus": [
            [
             0,
             "#440154"
            ],
            [
             0.1111111111111111,
             "#482878"
            ],
            [
             0.2222222222222222,
             "#3e4989"
            ],
            [
             0.3333333333333333,
             "#31688e"
            ],
            [
             0.4444444444444444,
             "#26828e"
            ],
            [
             0.5555555555555556,
             "#1f9e89"
            ],
            [
             0.6666666666666666,
             "#35b779"
            ],
            [
             0.7777777777777778,
             "#6ece58"
            ],
            [
             0.8888888888888888,
             "#b5de2b"
            ],
            [
             1,
             "#fde725"
            ]
           ]
          },
          "colorway": [
           "#1F77B4",
           "#FF7F0E",
           "#2CA02C",
           "#D62728",
           "#9467BD",
           "#8C564B",
           "#E377C2",
           "#7F7F7F",
           "#BCBD22",
           "#17BECF"
          ],
          "font": {
           "color": "rgb(36,36,36)"
          },
          "geo": {
           "bgcolor": "white",
           "lakecolor": "white",
           "landcolor": "white",
           "showlakes": true,
           "showland": true,
           "subunitcolor": "white"
          },
          "hoverlabel": {
           "align": "left"
          },
          "hovermode": "closest",
          "mapbox": {
           "style": "light"
          },
          "paper_bgcolor": "white",
          "plot_bgcolor": "white",
          "polar": {
           "angularaxis": {
            "gridcolor": "rgb(232,232,232)",
            "linecolor": "rgb(36,36,36)",
            "showgrid": false,
            "showline": true,
            "ticks": "outside"
           },
           "bgcolor": "white",
           "radialaxis": {
            "gridcolor": "rgb(232,232,232)",
            "linecolor": "rgb(36,36,36)",
            "showgrid": false,
            "showline": true,
            "ticks": "outside"
           }
          },
          "scene": {
           "xaxis": {
            "backgroundcolor": "white",
            "gridcolor": "rgb(232,232,232)",
            "gridwidth": 2,
            "linecolor": "rgb(36,36,36)",
            "showbackground": true,
            "showgrid": false,
            "showline": true,
            "ticks": "outside",
            "zeroline": false,
            "zerolinecolor": "rgb(36,36,36)"
           },
           "yaxis": {
            "backgroundcolor": "white",
            "gridcolor": "rgb(232,232,232)",
            "gridwidth": 2,
            "linecolor": "rgb(36,36,36)",
            "showbackground": true,
            "showgrid": false,
            "showline": true,
            "ticks": "outside",
            "zeroline": false,
            "zerolinecolor": "rgb(36,36,36)"
           },
           "zaxis": {
            "backgroundcolor": "white",
            "gridcolor": "rgb(232,232,232)",
            "gridwidth": 2,
            "linecolor": "rgb(36,36,36)",
            "showbackground": true,
            "showgrid": false,
            "showline": true,
            "ticks": "outside",
            "zeroline": false,
            "zerolinecolor": "rgb(36,36,36)"
           }
          },
          "shapedefaults": {
           "fillcolor": "black",
           "line": {
            "width": 0
           },
           "opacity": 0.3
          },
          "ternary": {
           "aaxis": {
            "gridcolor": "rgb(232,232,232)",
            "linecolor": "rgb(36,36,36)",
            "showgrid": false,
            "showline": true,
            "ticks": "outside"
           },
           "baxis": {
            "gridcolor": "rgb(232,232,232)",
            "linecolor": "rgb(36,36,36)",
            "showgrid": false,
            "showline": true,
            "ticks": "outside"
           },
           "bgcolor": "white",
           "caxis": {
            "gridcolor": "rgb(232,232,232)",
            "linecolor": "rgb(36,36,36)",
            "showgrid": false,
            "showline": true,
            "ticks": "outside"
           }
          },
          "title": {
           "x": 0.05
          },
          "xaxis": {
           "automargin": true,
           "gridcolor": "rgb(232,232,232)",
           "linecolor": "rgb(36,36,36)",
           "showgrid": false,
           "showline": true,
           "ticks": "outside",
           "title": {
            "standoff": 15
           },
           "zeroline": false,
           "zerolinecolor": "rgb(36,36,36)"
          },
          "yaxis": {
           "automargin": true,
           "gridcolor": "rgb(232,232,232)",
           "linecolor": "rgb(36,36,36)",
           "showgrid": false,
           "showline": true,
           "ticks": "outside",
           "title": {
            "standoff": 15
           },
           "zeroline": false,
           "zerolinecolor": "rgb(36,36,36)"
          }
         }
        },
        "uniformtext": {
         "minsize": 12,
         "mode": "hide"
        },
        "width": 800
       }
      }
     },
     "metadata": {},
     "output_type": "display_data"
    }
   ],
   "source": [
    "import plotly.io as pio\n",
    "\n",
    "pio.show(d)"
   ]
  }
 ],
 "metadata": {
  "kernelspec": {
   "display_name": "Python 3",
   "language": "python",
   "name": "python3"
  },
  "language_info": {
   "codemirror_mode": {
    "name": "ipython",
    "version": 3
   },
   "file_extension": ".py",
   "mimetype": "text/x-python",
   "name": "python",
   "nbconvert_exporter": "python",
   "pygments_lexer": "ipython3",
   "version": "3.10.2"
  },
  "orig_nbformat": 4
 },
 "nbformat": 4,
 "nbformat_minor": 2
}
